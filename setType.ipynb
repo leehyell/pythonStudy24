{
  "nbformat": 4,
  "nbformat_minor": 0,
  "metadata": {
    "colab": {
      "provenance": [],
      "authorship_tag": "ABX9TyOcDk1cJsfUZztM9+lfIGYt",
      "include_colab_link": true
    },
    "kernelspec": {
      "name": "python3",
      "display_name": "Python 3"
    },
    "language_info": {
      "name": "python"
    }
  },
  "cells": [
    {
      "cell_type": "markdown",
      "metadata": {
        "id": "view-in-github",
        "colab_type": "text"
      },
      "source": [
        "<a href=\"https://colab.research.google.com/github/leehyell/pythonStudy24/blob/master/setType.ipynb\" target=\"_parent\"><img src=\"https://colab.research.google.com/assets/colab-badge.svg\" alt=\"Open In Colab\"/></a>"
      ]
    },
    {
      "cell_type": "markdown",
      "source": [
        "#####집합 자료형(set)\n",
        "집합에 관련된 것을 쉽게 처리하기 위해 만든 자료형\n",
        "<br/><br/>\n",
        "set 구조 특징\n",
        "*   중복을 허용하지 않음\n",
        "*   순서가 없음\n",
        "<br/><br/>\n",
        "이런 특징으로 중복을 제거하는 필터로 사용\n",
        "\n"
      ],
      "metadata": {
        "id": "8TgR-eU0e_yg"
      }
    },
    {
      "cell_type": "code",
      "execution_count": 4,
      "metadata": {
        "colab": {
          "base_uri": "https://localhost:8080/"
        },
        "id": "-on6KxHre792",
        "outputId": "7d2f81ea-66ae-4867-b0a3-a358fbad2b14"
      },
      "outputs": [
        {
          "output_type": "execute_result",
          "data": {
            "text/plain": [
              "{1, 2, 3}"
            ]
          },
          "metadata": {},
          "execution_count": 4
        }
      ],
      "source": [
        "s1 = set([1, 2, 3])\n",
        "#set을 사용하여 집합 자료형으로 만듦\n",
        "s1"
      ]
    },
    {
      "cell_type": "code",
      "source": [
        "s2 = set(\"helloworld\")\n",
        "s2\n",
        "#중복을 허용하지 않으며, 순서가 없는 특징으로 이상하게 나열되며, o, l이 하나씩 있음"
      ],
      "metadata": {
        "colab": {
          "base_uri": "https://localhost:8080/"
        },
        "id": "kOKoloi5fmVn",
        "outputId": "fd1f5726-f1c8-4a3c-e2c1-a9b0f1da3c1a"
      },
      "execution_count": 2,
      "outputs": [
        {
          "output_type": "execute_result",
          "data": {
            "text/plain": [
              "{'d', 'e', 'h', 'l', 'o', 'r', 'w'}"
            ]
          },
          "metadata": {},
          "execution_count": 2
        }
      ]
    },
    {
      "cell_type": "code",
      "source": [
        "s = set()\n",
        "#빈 집합 자료형"
      ],
      "metadata": {
        "id": "fIhQtXDwfvwf"
      },
      "execution_count": 3,
      "outputs": []
    },
    {
      "cell_type": "code",
      "source": [
        "s1 = set([1, 2, 3])\n",
        "l1 = list(s1)\n",
        "print(l1)\n",
        "print(l1[0])\n",
        "t1 = tuple(s1)\n",
        "print(t1)\n",
        "print(t1[0])\n",
        "#set 자료형에 저장된 값을 인덱스로 접근하기 위해 리스트 및 튜플로 변환"
      ],
      "metadata": {
        "colab": {
          "base_uri": "https://localhost:8080/"
        },
        "id": "LRAxiQALx6xX",
        "outputId": "dbd4e41e-41e4-4cd8-a6ee-bf721cb844d8"
      },
      "execution_count": 5,
      "outputs": [
        {
          "output_type": "stream",
          "name": "stdout",
          "text": [
            "[1, 2, 3]\n",
            "1\n",
            "(1, 2, 3)\n",
            "1\n"
          ]
        }
      ]
    },
    {
      "cell_type": "code",
      "source": [
        "s1 = set([1, 2, 3, 4, 5, 6])\n",
        "s2 = set([4, 5, 6, 7, 8, 9])\n",
        "#s1, s2를 set 자료형으로 변환"
      ],
      "metadata": {
        "id": "dIEQYYaPyT63"
      },
      "execution_count": 7,
      "outputs": []
    },
    {
      "cell_type": "code",
      "source": [
        "s1 & s2\n",
        "#s1과 s2의 교집합 구하기"
      ],
      "metadata": {
        "colab": {
          "base_uri": "https://localhost:8080/"
        },
        "id": "jdKh6RD2yay-",
        "outputId": "8b4b937e-cafb-49df-c3d4-666257c1b57d"
      },
      "execution_count": 11,
      "outputs": [
        {
          "output_type": "execute_result",
          "data": {
            "text/plain": [
              "{4, 5, 6}"
            ]
          },
          "metadata": {},
          "execution_count": 11
        }
      ]
    },
    {
      "cell_type": "code",
      "source": [
        "s1.intersection(s2)\n",
        "#s1과 s2의 교집합 함수"
      ],
      "metadata": {
        "colab": {
          "base_uri": "https://localhost:8080/"
        },
        "id": "Cwa88-oayjgG",
        "outputId": "47f1fe07-9e64-4eef-a6f2-515017461ec3"
      },
      "execution_count": 9,
      "outputs": [
        {
          "output_type": "execute_result",
          "data": {
            "text/plain": [
              "{4, 5, 6}"
            ]
          },
          "metadata": {},
          "execution_count": 9
        }
      ]
    },
    {
      "cell_type": "code",
      "source": [
        "s1 | s2\n",
        "#s1과 s2의 합집합"
      ],
      "metadata": {
        "colab": {
          "base_uri": "https://localhost:8080/"
        },
        "id": "X6kJZBqYyvkm",
        "outputId": "1d59d149-e6d4-4ace-8af9-d2aafca1a0ac"
      },
      "execution_count": 12,
      "outputs": [
        {
          "output_type": "execute_result",
          "data": {
            "text/plain": [
              "{1, 2, 3, 4, 5, 6, 7, 8, 9}"
            ]
          },
          "metadata": {},
          "execution_count": 12
        }
      ]
    },
    {
      "cell_type": "code",
      "source": [
        "s1.union(s2)\n",
        "#s1과 s2의 합집합 함수"
      ],
      "metadata": {
        "colab": {
          "base_uri": "https://localhost:8080/"
        },
        "id": "jrpBTBY7y18v",
        "outputId": "bd3737d7-f952-4254-9ecf-ccb9da52178c"
      },
      "execution_count": 13,
      "outputs": [
        {
          "output_type": "execute_result",
          "data": {
            "text/plain": [
              "{1, 2, 3, 4, 5, 6, 7, 8, 9}"
            ]
          },
          "metadata": {},
          "execution_count": 13
        }
      ]
    },
    {
      "cell_type": "code",
      "source": [
        "print(s1 - s2)\n",
        "print(s2 - s1)\n",
        "#a - b 는 a를 기준으로 b와 겹치는 것을 제외한 나머지(차집합)를 구하는 것"
      ],
      "metadata": {
        "colab": {
          "base_uri": "https://localhost:8080/"
        },
        "id": "f6DWHjm1y5N-",
        "outputId": "05df542a-c8e0-4c5d-d704-9a517f31fa98"
      },
      "execution_count": 14,
      "outputs": [
        {
          "output_type": "stream",
          "name": "stdout",
          "text": [
            "{1, 2, 3}\n",
            "{8, 9, 7}\n"
          ]
        }
      ]
    },
    {
      "cell_type": "code",
      "source": [
        "print(s1.difference(s2))\n",
        "print(s2.difference(s1))\n",
        "#차집합 구하기 함수"
      ],
      "metadata": {
        "colab": {
          "base_uri": "https://localhost:8080/"
        },
        "id": "Zljr04gIzIbe",
        "outputId": "d4ffd1fc-cf6b-441f-b8ad-99dfda94387a"
      },
      "execution_count": 15,
      "outputs": [
        {
          "output_type": "stream",
          "name": "stdout",
          "text": [
            "{1, 2, 3}\n",
            "{8, 9, 7}\n"
          ]
        }
      ]
    },
    {
      "cell_type": "code",
      "source": [
        "s1 = set([1, 2, 3])\n",
        "s1.add(4)\n",
        "s1\n",
        "#set 구조에 값 추가하기(맨 뒤에 추가됨)"
      ],
      "metadata": {
        "colab": {
          "base_uri": "https://localhost:8080/"
        },
        "id": "keAB6tSBzRZm",
        "outputId": "50f88608-b8d0-4f4c-f050-3ea70ef1cacb"
      },
      "execution_count": 16,
      "outputs": [
        {
          "output_type": "execute_result",
          "data": {
            "text/plain": [
              "{1, 2, 3, 4}"
            ]
          },
          "metadata": {},
          "execution_count": 16
        }
      ]
    },
    {
      "cell_type": "code",
      "source": [
        "s1 = set([1, 2, 3])\n",
        "s1.update([4, 5, 6])\n",
        "s1\n",
        "#값을 한 개가 아닌 여러 개 추가할 때 .update(값) 사용"
      ],
      "metadata": {
        "colab": {
          "base_uri": "https://localhost:8080/"
        },
        "id": "ZWEGmpqmzaOO",
        "outputId": "4828906c-7a67-4106-a05e-9d9285cf69dc"
      },
      "execution_count": 17,
      "outputs": [
        {
          "output_type": "execute_result",
          "data": {
            "text/plain": [
              "{1, 2, 3, 4, 5, 6}"
            ]
          },
          "metadata": {},
          "execution_count": 17
        }
      ]
    },
    {
      "cell_type": "code",
      "source": [
        "s1 = set([1, 2, 3])\n",
        "s1.remove(2)\n",
        "s1\n",
        "#특정 값을 제거하고 싶을 때는 .remove(value) 사용"
      ],
      "metadata": {
        "colab": {
          "base_uri": "https://localhost:8080/"
        },
        "id": "cUyE8qvszrhl",
        "outputId": "4d54db00-8506-4c4f-f181-046d6f249ad3"
      },
      "execution_count": 18,
      "outputs": [
        {
          "output_type": "execute_result",
          "data": {
            "text/plain": [
              "{1, 3}"
            ]
          },
          "metadata": {},
          "execution_count": 18
        }
      ]
    }
  ]
}