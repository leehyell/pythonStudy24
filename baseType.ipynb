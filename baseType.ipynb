{
  "nbformat": 4,
  "nbformat_minor": 0,
  "metadata": {
    "colab": {
      "provenance": [],
      "authorship_tag": "ABX9TyPA/GYnDy1NqKhPVnY6xzHZ",
      "include_colab_link": true
    },
    "kernelspec": {
      "name": "python3",
      "display_name": "Python 3"
    },
    "language_info": {
      "name": "python"
    }
  },
  "cells": [
    {
      "cell_type": "markdown",
      "metadata": {
        "id": "view-in-github",
        "colab_type": "text"
      },
      "source": [
        "<a href=\"https://colab.research.google.com/github/leehyell/pythonStudy24/blob/master/baseType.ipynb\" target=\"_parent\"><img src=\"https://colab.research.google.com/assets/colab-badge.svg\" alt=\"Open In Colab\"/></a>"
      ]
    },
    {
      "cell_type": "markdown",
      "source": [
        "###python 프로그래밍 기초, 자료형;\n",
        "#####baseType 배워보기\n",
        "######1. 숫자형\n",
        "######2. 문자열\n",
        "######3. 리스트\n",
        "######4. 튜플\n",
        "######5. 딕셔너리\n",
        "######6. 집합\n",
        "######7. 불리언"
      ],
      "metadata": {
        "id": "px5abHAzVCe0"
      }
    },
    {
      "cell_type": "code",
      "execution_count": 4,
      "metadata": {
        "colab": {
          "base_uri": "https://localhost:8080/"
        },
        "id": "oTHroDVSTJtg",
        "outputId": "1fc1be4d-9690-474f-b02d-2f53bdeb9b1b"
      },
      "outputs": [
        {
          "output_type": "stream",
          "name": "stdout",
          "text": [
            "127\n",
            "2303\n"
          ]
        }
      ],
      "source": [
        "# 숫자형은 정수형, 실수형, 진수형(2진법, 8진법, 10진법 등)이 있다.\n",
        "# 정수형(integer): 양의 정수와 음의 정수, 숫자 0을 변수에 대입\n",
        "a = 123 #양의 정수\n",
        "b = -123 #음의 정수\n",
        "c = 0 #숫자 0\n",
        "\n",
        "#실수형(floating-point): 소수점이 포함된 숫자\n",
        "d = 1.2\n",
        "e = -3.45\n",
        "\n",
        "#지수 표현 방법: 많은 수치를 짧게 표현하기 위해 사용\n",
        "f = 4.24E10    #4.24 * 10^10(E의 뒷부분 숫자가 지수)\n",
        "g = 4.24e10-10 #4.24 * 10^-10\n",
        "\n",
        "#진수 표현 방법: cpu: 16 / 리눅스: 8 / 컴터: 2\n",
        "#8진수(옥타<octal>) -> 숫자 0에 알파벳o(대소문자 가능; but 가독성 때문에 소문자를 주로 씀)\n",
        "h = 0o177 #177 8진수\n",
        "print(h)  #127 10진수\n",
        "\n",
        "#16진수(헥사<haxadecimal>) -> 숫자 0에 알파벳 x\n",
        "i = 0x8ff        #8ff  16진수\n",
        "print(i)  #2303 10진수"
      ]
    },
    {
      "cell_type": "markdown",
      "source": [
        "#####숫자형을 활용하기 위한 연산자\n",
        "######1. 사칙연산: +, -, *, /\n",
        "######2. 우선순위: (), * or /, 앞쪽\n"
      ],
      "metadata": {
        "id": "E8VAzR6HdVdg"
      }
    },
    {
      "cell_type": "code",
      "source": [
        "a = 3\n",
        "b = 4\n",
        "a + b"
      ],
      "metadata": {
        "colab": {
          "base_uri": "https://localhost:8080/"
        },
        "id": "uXY7hQ6Pd1Xv",
        "outputId": "a86da5e2-d4aa-4de9-ab57-67c76055dfe4"
      },
      "execution_count": 5,
      "outputs": [
        {
          "output_type": "execute_result",
          "data": {
            "text/plain": [
              "7"
            ]
          },
          "metadata": {},
          "execution_count": 5
        }
      ]
    },
    {
      "cell_type": "code",
      "source": [
        "a - b"
      ],
      "metadata": {
        "colab": {
          "base_uri": "https://localhost:8080/"
        },
        "id": "DmnD-9GLeAfQ",
        "outputId": "fa487333-050a-40b7-f978-ae4e536b562a"
      },
      "execution_count": 6,
      "outputs": [
        {
          "output_type": "execute_result",
          "data": {
            "text/plain": [
              "-1"
            ]
          },
          "metadata": {},
          "execution_count": 6
        }
      ]
    },
    {
      "cell_type": "code",
      "source": [
        "a * b"
      ],
      "metadata": {
        "colab": {
          "base_uri": "https://localhost:8080/"
        },
        "id": "uG3MEPWjeSlv",
        "outputId": "8fd2333a-9479-4b89-d4d0-eece9451e7ba"
      },
      "execution_count": 7,
      "outputs": [
        {
          "output_type": "execute_result",
          "data": {
            "text/plain": [
              "12"
            ]
          },
          "metadata": {},
          "execution_count": 7
        }
      ]
    },
    {
      "cell_type": "code",
      "source": [
        "a / b"
      ],
      "metadata": {
        "colab": {
          "base_uri": "https://localhost:8080/"
        },
        "id": "Nvs1kiSAeVNm",
        "outputId": "852f78c5-0707-4c2f-8c11-bfd3fb340f0a"
      },
      "execution_count": 8,
      "outputs": [
        {
          "output_type": "execute_result",
          "data": {
            "text/plain": [
              "0.75"
            ]
          },
          "metadata": {},
          "execution_count": 8
        }
      ]
    },
    {
      "cell_type": "code",
      "source": [
        "#제곱 처리하는 방법\n",
        "a ** b #3^4"
      ],
      "metadata": {
        "colab": {
          "base_uri": "https://localhost:8080/"
        },
        "id": "-EEXRn2AeXY2",
        "outputId": "45a3a6c9-14fe-4b4f-cc6c-5693ed2474a6"
      },
      "execution_count": 9,
      "outputs": [
        {
          "output_type": "execute_result",
          "data": {
            "text/plain": [
              "81"
            ]
          },
          "metadata": {},
          "execution_count": 9
        }
      ]
    },
    {
      "cell_type": "code",
      "source": [
        "#나머지 처리하는 방법(%)\n",
        "7%3"
      ],
      "metadata": {
        "colab": {
          "base_uri": "https://localhost:8080/"
        },
        "id": "XIYrqEGlepau",
        "outputId": "5872573e-63a2-4ee1-f99d-08e184656d73"
      },
      "execution_count": 10,
      "outputs": [
        {
          "output_type": "execute_result",
          "data": {
            "text/plain": [
              "1"
            ]
          },
          "metadata": {},
          "execution_count": 10
        }
      ]
    },
    {
      "cell_type": "code",
      "source": [
        "#나눗셈 후 몫을 리턴하는 연산자(//)\n",
        "print(7 // 4)\n",
        "print(7 % 4)"
      ],
      "metadata": {
        "colab": {
          "base_uri": "https://localhost:8080/"
        },
        "id": "rnW9Z9xzfzme",
        "outputId": "1ccfa70e-a359-4c3b-baa6-5b16297a98f9"
      },
      "execution_count": 14,
      "outputs": [
        {
          "output_type": "stream",
          "name": "stdout",
          "text": [
            "1\n",
            "3\n"
          ]
        }
      ]
    },
    {
      "cell_type": "code",
      "source": [
        "#복합 연산자 += -+= *= /= //=(몫) %=(나머지) **=(제곱)\n",
        "a = 1\n",
        "a += 1 #(a = a + 1)\n",
        "print(a)"
      ],
      "metadata": {
        "colab": {
          "base_uri": "https://localhost:8080/"
        },
        "id": "CerN3mcvgTGV",
        "outputId": "7bda8a60-f17a-4738-8636-0faffa62eb84"
      },
      "execution_count": 17,
      "outputs": [
        {
          "output_type": "stream",
          "name": "stdout",
          "text": [
            "4\n",
            "5\n"
          ]
        }
      ]
    },
    {
      "cell_type": "code",
      "source": [
        "#문자열 자료형(String): 연속된 문자들의 나열; \"\" 쌍따옴표\n",
        "#큰 따옴표\n",
        "\"Hello World\"\n",
        "#작은 따옴표\n",
        "'Hello World'\n",
        "\n",
        "#큰 따옴표 3개를 연속으로 써서 양쪽으로 둘러싸기\n",
        "\"\"\"Hello World\"\"\"\n",
        "\n",
        "#작은 따옴표 3개를 연속으로 써서 양쪽으로 둘러싸기\n",
        "'''Hello World'''\n",
        "\n",
        "food = \"Python's favorite food is perl\"\n",
        "food"
      ],
      "metadata": {
        "colab": {
          "base_uri": "https://localhost:8080/",
          "height": 35
        },
        "id": "tDdC8Hw2gS7-",
        "outputId": "b6a22eaf-16e5-4b7e-da3e-d5ceec0211d8"
      },
      "execution_count": 24,
      "outputs": [
        {
          "output_type": "execute_result",
          "data": {
            "text/plain": [
              "\"Python's favorite food is perl\""
            ],
            "application/vnd.google.colaboratory.intrinsic+json": {
              "type": "string"
            }
          },
          "metadata": {},
          "execution_count": 24
        }
      ]
    },
    {
      "cell_type": "code",
      "source": [
        "#문자열 출력에 큰 따옴표를 보여주고 싶을 때\n",
        "say = '\"Python is very busy.\", he said'\n",
        "say"
      ],
      "metadata": {
        "colab": {
          "base_uri": "https://localhost:8080/",
          "height": 35
        },
        "id": "VAzwMPTejCKN",
        "outputId": "a4cbfeb5-54ee-486a-af7e-496542f4757d"
      },
      "execution_count": 25,
      "outputs": [
        {
          "output_type": "execute_result",
          "data": {
            "text/plain": [
              "'\"Python is very busy.\", he said'"
            ],
            "application/vnd.google.colaboratory.intrinsic+json": {
              "type": "string"
            }
          },
          "metadata": {},
          "execution_count": 25
        }
      ]
    },
    {
      "cell_type": "code",
      "source": [
        "#escape 문자 활용하기 \\n \\t \\r \\\\ 등\n",
        "food = 'Python\\'s favorite food is perl'\n",
        "say = \"\\\"Python is very busy.\\\", he said\"\n",
        "print(food)\n",
        "print(say)"
      ],
      "metadata": {
        "colab": {
          "base_uri": "https://localhost:8080/"
        },
        "id": "qdIv2y6njqNk",
        "outputId": "dc8b8164-0da6-4f64-b3d6-6012479b1572"
      },
      "execution_count": 26,
      "outputs": [
        {
          "output_type": "stream",
          "name": "stdout",
          "text": [
            "Python's favorite food is perl\n",
            "\"Python is very busy.\", he said\n"
          ]
        }
      ]
    },
    {
      "cell_type": "code",
      "source": [
        "#여러 줄로 출력 \\n 엔터 효과\n",
        "multiline = \"Life is too short\\nYou need python\"\n",
        "print(multiline)"
      ],
      "metadata": {
        "colab": {
          "base_uri": "https://localhost:8080/"
        },
        "id": "3L9n9zWgmeV0",
        "outputId": "99dcbe76-5416-41f0-d4d1-ccb63be4991a"
      },
      "execution_count": 30,
      "outputs": [
        {
          "output_type": "stream",
          "name": "stdout",
          "text": [
            "Life is too short\n",
            "You need python\n"
          ]
        }
      ]
    },
    {
      "cell_type": "code",
      "source": [
        "#여러 줄로 출력이 가능한 \"\"\"\n",
        "multiline = \"\"\"Life is too short\n",
        "You need python\"\"\"\n",
        "print(multiline)"
      ],
      "metadata": {
        "colab": {
          "base_uri": "https://localhost:8080/"
        },
        "id": "Dcu7sIbjnm7T",
        "outputId": "96e4b62e-3679-45d8-8453-7792c434a0db"
      },
      "execution_count": 34,
      "outputs": [
        {
          "output_type": "stream",
          "name": "stdout",
          "text": [
            "Life is too short\n",
            "You need python\n"
          ]
        }
      ]
    },
    {
      "cell_type": "code",
      "source": [
        "#여러 줄로 출력이 가능한 '''\n",
        "multiline = '''Life is too short\n",
        "You need python'''\n",
        "print(multiline)"
      ],
      "metadata": {
        "colab": {
          "base_uri": "https://localhost:8080/"
        },
        "id": "SejdVAAsoxUC",
        "outputId": "f3a49b4a-93b0-4a0e-ae15-62e82f82019c"
      },
      "execution_count": 35,
      "outputs": [
        {
          "output_type": "stream",
          "name": "stdout",
          "text": [
            "Life is too short\n",
            "You need python\n"
          ]
        }
      ]
    },
    {
      "cell_type": "markdown",
      "source": [
        "#####이스케이프 코드 종류\n",
        "###### `\\n` : 문자열 안에서 줄바꿈\n",
        "###### `\\t` : 탭 간격으로 띄어쓰기\n",
        "###### `\\\\` : \\를 출력\n",
        "###### `\\'` : '를 출력\n",
        "###### `\\\"` : \"를 출력\n",
        "###### `\\r` : 캐리지 리턴(과거 타자기 효과; 줄바꿈 후 커서를 줄 맨 앞으로)\n",
        "###### `\\t` : 폼피드(줄 바꿈 문자; 커서를 현재 줄의 다음 줄로 이동)\n",
        "###### `\\a` : 벨소리(출력할 때 삑 소리가 남)\n",
        "###### `\\b` : 백 스페이스\n",
        "###### `\\000` : 널 문자"
      ],
      "metadata": {
        "id": "KCxtkEmKp82S"
      }
    },
    {
      "cell_type": "code",
      "source": [
        "#문자열 연산자(문자열 더하기, 곱하기 가능)\n",
        "#문자열을 더하기\n",
        "head = \"python \"\n",
        "tail = \"is fun~\"\n",
        "head + tail"
      ],
      "metadata": {
        "colab": {
          "base_uri": "https://localhost:8080/",
          "height": 35
        },
        "id": "SY6PLIWbpJF6",
        "outputId": "4db7205d-2cac-4ab3-b2d2-e3f8a39b9998"
      },
      "execution_count": 39,
      "outputs": [
        {
          "output_type": "execute_result",
          "data": {
            "text/plain": [
              "'python is fun~'"
            ],
            "application/vnd.google.colaboratory.intrinsic+json": {
              "type": "string"
            }
          },
          "metadata": {},
          "execution_count": 39
        }
      ]
    },
    {
      "cell_type": "code",
      "source": [
        "#문자열 곱하기\n",
        "body = \"python \"\n",
        "body * 5"
      ],
      "metadata": {
        "colab": {
          "base_uri": "https://localhost:8080/",
          "height": 35
        },
        "id": "sRctfa0srdqy",
        "outputId": "7f2923cf-b722-4818-ea55-36bb21a9a2a2"
      },
      "execution_count": 43,
      "outputs": [
        {
          "output_type": "execute_result",
          "data": {
            "text/plain": [
              "'python python python python python '"
            ],
            "application/vnd.google.colaboratory.intrinsic+json": {
              "type": "string"
            }
          },
          "metadata": {},
          "execution_count": 43
        }
      ]
    },
    {
      "cell_type": "code",
      "source": [
        "print(\"=\"*47)\n",
        "print(\"Hello World \"*4)\n",
        "print(\"=\"*47)"
      ],
      "metadata": {
        "colab": {
          "base_uri": "https://localhost:8080/"
        },
        "id": "beG9wzUIrxzI",
        "outputId": "d6a3a516-008f-486a-8677-54729683f5b9"
      },
      "execution_count": 51,
      "outputs": [
        {
          "output_type": "stream",
          "name": "stdout",
          "text": [
            "===============================================\n",
            "Hello World Hello World Hello World Hello World \n",
            "===============================================\n"
          ]
        }
      ]
    },
    {
      "cell_type": "code",
      "source": [
        "#문자열의 길이를 구함\n",
        "a = \"Hi, welcome to my Hello World\"\n",
        "len(a)"
      ],
      "metadata": {
        "colab": {
          "base_uri": "https://localhost:8080/"
        },
        "id": "n_jHGZVWsKuB",
        "outputId": "a3e6dc9e-2fb9-4044-97e5-706c79e8faac"
      },
      "execution_count": 52,
      "outputs": [
        {
          "output_type": "execute_result",
          "data": {
            "text/plain": [
              "29"
            ]
          },
          "metadata": {},
          "execution_count": 52
        }
      ]
    },
    {
      "cell_type": "code",
      "source": [
        "#문자열 인덱싱, 슬라이싱\n",
        "#문자열은 문자를 배열로 만든 것(0번 인덱스부터 적용)\n",
        "a = \"Hi, welcome to my Hello World\"\n",
        "#    01234567891123456789212345678\n",
        "a[28]"
      ],
      "metadata": {
        "colab": {
          "base_uri": "https://localhost:8080/",
          "height": 35
        },
        "id": "1gL56Vc5s_MB",
        "outputId": "3be2537f-cc28-4abc-9b5e-b25b06e7325f"
      },
      "execution_count": 54,
      "outputs": [
        {
          "output_type": "execute_result",
          "data": {
            "text/plain": [
              "'d'"
            ],
            "application/vnd.google.colaboratory.intrinsic+json": {
              "type": "string"
            }
          },
          "metadata": {},
          "execution_count": 54
        }
      ]
    },
    {
      "cell_type": "code",
      "source": [
        "a[-1] #-는 문자열의 맨 뒤부터"
      ],
      "metadata": {
        "colab": {
          "base_uri": "https://localhost:8080/",
          "height": 35
        },
        "id": "6Mn5FMfztwbj",
        "outputId": "f72fb5f4-29b8-4249-caca-c7a40cbf15b3"
      },
      "execution_count": 57,
      "outputs": [
        {
          "output_type": "execute_result",
          "data": {
            "text/plain": [
              "'d'"
            ],
            "application/vnd.google.colaboratory.intrinsic+json": {
              "type": "string"
            }
          },
          "metadata": {},
          "execution_count": 57
        }
      ]
    },
    {
      "cell_type": "code",
      "source": [
        "#문자열 추출하기\n",
        "b = a[0]+a[1]\n",
        "b"
      ],
      "metadata": {
        "colab": {
          "base_uri": "https://localhost:8080/",
          "height": 35
        },
        "id": "Hd1rLKiot8iH",
        "outputId": "a2e55022-024f-4369-b71c-8049725ce5d0"
      },
      "execution_count": 60,
      "outputs": [
        {
          "output_type": "execute_result",
          "data": {
            "text/plain": [
              "'Hi'"
            ],
            "application/vnd.google.colaboratory.intrinsic+json": {
              "type": "string"
            }
          },
          "metadata": {},
          "execution_count": 60
        }
      ]
    },
    {
      "cell_type": "code",
      "source": [
        "#슬라이싱 기법\n",
        "a[0:11] # 0 <= a < 11"
      ],
      "metadata": {
        "colab": {
          "base_uri": "https://localhost:8080/",
          "height": 35
        },
        "id": "15nu065puwiR",
        "outputId": "bafdba30-a408-437d-d578-22aa12197b82"
      },
      "execution_count": 62,
      "outputs": [
        {
          "output_type": "execute_result",
          "data": {
            "text/plain": [
              "'Hi, welcome'"
            ],
            "application/vnd.google.colaboratory.intrinsic+json": {
              "type": "string"
            }
          },
          "metadata": {},
          "execution_count": 62
        }
      ]
    },
    {
      "cell_type": "code",
      "source": [
        "a[:11] #맨 앞부터 11 인덱스까지"
      ],
      "metadata": {
        "colab": {
          "base_uri": "https://localhost:8080/",
          "height": 35
        },
        "id": "HczDmvtNvXZY",
        "outputId": "b3b77809-6f9d-4775-f7cb-2aab964517cd"
      },
      "execution_count": 65,
      "outputs": [
        {
          "output_type": "execute_result",
          "data": {
            "text/plain": [
              "'Hi, welcome'"
            ],
            "application/vnd.google.colaboratory.intrinsic+json": {
              "type": "string"
            }
          },
          "metadata": {},
          "execution_count": 65
        }
      ]
    },
    {
      "cell_type": "code",
      "source": [
        "a[12:] #12 인덱스부터 끝까지"
      ],
      "metadata": {
        "colab": {
          "base_uri": "https://localhost:8080/",
          "height": 35
        },
        "id": "4Pw22mMqvQ4X",
        "outputId": "e5439d61-2f1b-41af-ea5b-197d1f732ec2"
      },
      "execution_count": 63,
      "outputs": [
        {
          "output_type": "execute_result",
          "data": {
            "text/plain": [
              "'to my Hello World'"
            ],
            "application/vnd.google.colaboratory.intrinsic+json": {
              "type": "string"
            }
          },
          "metadata": {},
          "execution_count": 63
        }
      ]
    },
    {
      "cell_type": "code",
      "source": [
        "a[:] #처음부터 끝까지"
      ],
      "metadata": {
        "colab": {
          "base_uri": "https://localhost:8080/",
          "height": 35
        },
        "id": "nSs78b7YvuwA",
        "outputId": "af8938f1-4058-4af8-d6ab-c82fd6f63327"
      },
      "execution_count": 66,
      "outputs": [
        {
          "output_type": "execute_result",
          "data": {
            "text/plain": [
              "'Hi, welcome to my Hello World'"
            ],
            "application/vnd.google.colaboratory.intrinsic+json": {
              "type": "string"
            }
          },
          "metadata": {},
          "execution_count": 66
        }
      ]
    },
    {
      "cell_type": "code",
      "source": [
        "#슬라이싱 활용해보기\n",
        "a = \"2001년 03월 31일Rainy\"\n",
        "date = a[:13]\n",
        "weather = a[13:]\n",
        "print(date)\n",
        "print(weather)"
      ],
      "metadata": {
        "colab": {
          "base_uri": "https://localhost:8080/"
        },
        "id": "kdwo5r1av9Wv",
        "outputId": "963d1620-687d-4a47-91f0-5ede58b87402"
      },
      "execution_count": 69,
      "outputs": [
        {
          "output_type": "stream",
          "name": "stdout",
          "text": [
            "2001년 03월 31일\n",
            "Rainy\n"
          ]
        }
      ]
    },
    {
      "cell_type": "code",
      "source": [
        "a = \"20241218Sunny\"\n",
        "yy = a[:4]\n",
        "mm = a[4:6]\n",
        "dd = a[6:8]\n",
        "weather = a[8:]\n",
        "print(yy)\n",
        "print(mm)\n",
        "print(dd)\n",
        "print(weather)\n",
        "type(dd)"
      ],
      "metadata": {
        "colab": {
          "base_uri": "https://localhost:8080/"
        },
        "id": "_5_vF6szw6Ag",
        "outputId": "17d76fcb-70c9-44f4-e2bc-3d09e77aef77"
      },
      "execution_count": 72,
      "outputs": [
        {
          "output_type": "stream",
          "name": "stdout",
          "text": [
            "2024\n",
            "12\n",
            "18\n",
            "Sunny\n"
          ]
        },
        {
          "output_type": "execute_result",
          "data": {
            "text/plain": [
              "str"
            ]
          },
          "metadata": {},
          "execution_count": 72
        }
      ]
    },
    {
      "cell_type": "code",
      "source": [
        "#pithon 문자열을 만든 후 python으로 교체\n",
        "a = \"pithon\"\n",
        "print(a)"
      ],
      "metadata": {
        "colab": {
          "base_uri": "https://localhost:8080/"
        },
        "id": "QbSoB46hxoQ-",
        "outputId": "c8231251-a04b-4e0f-8814-dac0b36f21c7"
      },
      "execution_count": 79,
      "outputs": [
        {
          "output_type": "stream",
          "name": "stdout",
          "text": [
            "pithon\n"
          ]
        }
      ]
    },
    {
      "cell_type": "code",
      "source": [
        "b = \"Pithon\"\n",
        "c = b[:1] + 'y' + b[2:]\n",
        "c #결론: 스트링은 수정이 안 되므로 메소드를 이용 or 쪼개서 붙여야 함"
      ],
      "metadata": {
        "colab": {
          "base_uri": "https://localhost:8080/",
          "height": 35
        },
        "id": "mSQrGVve1JpM",
        "outputId": "55a98931-901a-4f9f-b427-c30d7da671a6"
      },
      "execution_count": 83,
      "outputs": [
        {
          "output_type": "execute_result",
          "data": {
            "text/plain": [
              "'Python'"
            ],
            "application/vnd.google.colaboratory.intrinsic+json": {
              "type": "string"
            }
          },
          "metadata": {},
          "execution_count": 83
        }
      ]
    },
    {
      "cell_type": "code",
      "source": [
        "#문자열 포멧팅 >> 자바에서 printf와 같은 기능을 함\n",
        "#포멧팅은 동적 출력을 위한 기능, \"\" 안의 정수나 문자열 등을 추가할 때 활용\n",
        "\"\"\"\n",
        "%o: 8진수\n",
        "%x: 16진수\n",
        "%f: 실수\n",
        "%d: 숫자\n",
        "%s: str\n",
        "마지막에 있는 %는 동적 값을 삽입한다.\n",
        "\"\"\"\n",
        "\"I eat %d apples.\" % 5"
      ],
      "metadata": {
        "colab": {
          "base_uri": "https://localhost:8080/",
          "height": 35
        },
        "id": "KxVcWYWT1njN",
        "outputId": "4724ec77-573b-4cf1-d039-487b09be0857"
      },
      "execution_count": 87,
      "outputs": [
        {
          "output_type": "execute_result",
          "data": {
            "text/plain": [
              "'I eat 5 apples.'"
            ],
            "application/vnd.google.colaboratory.intrinsic+json": {
              "type": "string"
            }
          },
          "metadata": {},
          "execution_count": 87
        }
      ]
    },
    {
      "cell_type": "code",
      "source": [
        "\"\"\"\n",
        "%s: 문자열이 동적 삽입\n",
        "마지막에 있는 %에는 문자열을 넣어야 하기 때문에 \"\", '' 처리 필수\n",
        "\"\"\"\n",
        "\"I eat %s apples.\" % \"five\""
      ],
      "metadata": {
        "colab": {
          "base_uri": "https://localhost:8080/",
          "height": 35
        },
        "id": "NietaNca24DM",
        "outputId": "eb1f11c5-c0ef-49c2-abb6-6633c0bdddd8"
      },
      "execution_count": 88,
      "outputs": [
        {
          "output_type": "execute_result",
          "data": {
            "text/plain": [
              "'I eat five apples.'"
            ],
            "application/vnd.google.colaboratory.intrinsic+json": {
              "type": "string"
            }
          },
          "metadata": {},
          "execution_count": 88
        }
      ]
    },
    {
      "cell_type": "code",
      "source": [
        "number = 3\n",
        "\"I eat %d apples.\" % number"
      ],
      "metadata": {
        "colab": {
          "base_uri": "https://localhost:8080/",
          "height": 35
        },
        "id": "N6S-GrGi3Mj7",
        "outputId": "1e026416-05fc-44e5-dd33-c94a158a155d"
      },
      "execution_count": 89,
      "outputs": [
        {
          "output_type": "execute_result",
          "data": {
            "text/plain": [
              "'I eat 3 apples.'"
            ],
            "application/vnd.google.colaboratory.intrinsic+json": {
              "type": "string"
            }
          },
          "metadata": {},
          "execution_count": 89
        }
      ]
    },
    {
      "cell_type": "code",
      "source": [
        "number = 10\n",
        "day = \"three\"\n",
        "text = \"\"\"\n",
        "I ate %d apples.\n",
        "So I was sick for %s days.\n",
        "\"\"\" % (number, day)\n",
        "print(text)\n",
        "#동적 매개 값을 2개 이상 넣고 싶으면 괄호 안에 쉼표로 구분. ***순서와 타입을 맞춰주기***"
      ],
      "metadata": {
        "colab": {
          "base_uri": "https://localhost:8080/"
        },
        "id": "z8bVvIyP3bms",
        "outputId": "b9a51622-34bb-45fa-d6fa-d1e0220de59d"
      },
      "execution_count": 94,
      "outputs": [
        {
          "output_type": "stream",
          "name": "stdout",
          "text": [
            "\n",
            "I ate 10 apples.\n",
            "So I was sick for three days.\n",
            "\n"
          ]
        }
      ]
    },
    {
      "cell_type": "markdown",
      "source": [
        "\n",
        "\n",
        "*   %s : 문자열(String)\n",
        "*   %d : 정수(Integer)\n",
        "*   %c : 문자(Charactor)\n",
        "*   %f : 실수(부동소수점)\n",
        "*   %o : 8진수\n",
        "*   %x : 16진수"
      ],
      "metadata": {
        "id": "BlIsn46q4VqD"
      }
    },
    {
      "cell_type": "code",
      "source": [
        "##파이썬의 장점\n",
        "#1. %s는 정수나 실수를 자동타입으로 문자열 변환해줌\n",
        "\"I eat %s apples.\" % 3"
      ],
      "metadata": {
        "colab": {
          "base_uri": "https://localhost:8080/",
          "height": 35
        },
        "id": "inB31e_w4878",
        "outputId": "57c82860-d600-4016-e191-de69f8541dd6"
      },
      "execution_count": 95,
      "outputs": [
        {
          "output_type": "execute_result",
          "data": {
            "text/plain": [
              "'I eat 3 apples.'"
            ],
            "application/vnd.google.colaboratory.intrinsic+json": {
              "type": "string"
            }
          },
          "metadata": {},
          "execution_count": 95
        }
      ]
    },
    {
      "cell_type": "code",
      "source": [
        "\"rate is %s\" % 3.234"
      ],
      "metadata": {
        "colab": {
          "base_uri": "https://localhost:8080/",
          "height": 35
        },
        "id": "bysCnA8D5J77",
        "outputId": "4bf089dd-9e61-4c53-80e0-ebf52e702112"
      },
      "execution_count": 96,
      "outputs": [
        {
          "output_type": "execute_result",
          "data": {
            "text/plain": [
              "'rate is 3.234'"
            ],
            "application/vnd.google.colaboratory.intrinsic+json": {
              "type": "string"
            }
          },
          "metadata": {},
          "execution_count": 96
        }
      ]
    },
    {
      "cell_type": "code",
      "source": [
        "#문자열 안에 %를 넣고 싶을 때\n",
        "#Error is 98%.\n",
        "\"Error is %d%.\" % 98"
      ],
      "metadata": {
        "colab": {
          "base_uri": "https://localhost:8080/",
          "height": 183
        },
        "id": "4QjRRcVz5jFb",
        "outputId": "56980516-65a0-462b-9979-b20b79e62110"
      },
      "execution_count": 100,
      "outputs": [
        {
          "output_type": "error",
          "ename": "TypeError",
          "evalue": "not enough arguments for format string",
          "traceback": [
            "\u001b[0;31m---------------------------------------------------------------------------\u001b[0m",
            "\u001b[0;31mTypeError\u001b[0m                                 Traceback (most recent call last)",
            "\u001b[0;32m<ipython-input-100-0f4b47d37a0e>\u001b[0m in \u001b[0;36m<cell line: 3>\u001b[0;34m()\u001b[0m\n\u001b[1;32m      1\u001b[0m \u001b[0;31m#문자열 안에 %를 넣고 싶을 때\u001b[0m\u001b[0;34m\u001b[0m\u001b[0;34m\u001b[0m\u001b[0m\n\u001b[1;32m      2\u001b[0m \u001b[0;31m#Error is 98%.\u001b[0m\u001b[0;34m\u001b[0m\u001b[0;34m\u001b[0m\u001b[0m\n\u001b[0;32m----> 3\u001b[0;31m \u001b[0;34m\"Error is %d`%`.\"\u001b[0m \u001b[0;34m%\u001b[0m \u001b[0;36m98\u001b[0m\u001b[0;34m\u001b[0m\u001b[0;34m\u001b[0m\u001b[0m\n\u001b[0m",
            "\u001b[0;31mTypeError\u001b[0m: not enough arguments for format string"
          ]
        }
      ]
    },
    {
      "cell_type": "code",
      "source": [
        "# ***확률 출력 시 %는 예약어이기 때문에 %를 2개 쓰면 문자열 처리되므로 오류 해결\n",
        "#Error is 98%.\n",
        "\"Error is %d%%.\" % 98"
      ],
      "metadata": {
        "colab": {
          "base_uri": "https://localhost:8080/",
          "height": 35
        },
        "id": "DRIivuuE59-S",
        "outputId": "92d79c15-a153-4915-b63a-25cc096b97c2"
      },
      "execution_count": 102,
      "outputs": [
        {
          "output_type": "execute_result",
          "data": {
            "text/plain": [
              "'Error is 98%.'"
            ],
            "application/vnd.google.colaboratory.intrinsic+json": {
              "type": "string"
            }
          },
          "metadata": {},
          "execution_count": 102
        }
      ]
    },
    {
      "cell_type": "code",
      "source": [
        "#포맷팅 숫자 처리(문자는 기본적으로 왼쪽 정렬, 숫자는 오른쪽 정렬)\n",
        "#str 쓸 10칸을 미리 만들어 둠\n",
        "# -10: 왼쪽 정렬, 10칸\n",
        "# 10 : 오른쪽 정렬, 10칸\n",
        "\"%-10s MBC ai\" % \"hi\""
      ],
      "metadata": {
        "colab": {
          "base_uri": "https://localhost:8080/",
          "height": 35
        },
        "id": "WxO3H1kZ6hQb",
        "outputId": "8f71303f-ce89-4636-c119-a5cf5bdca0de"
      },
      "execution_count": 109,
      "outputs": [
        {
          "output_type": "execute_result",
          "data": {
            "text/plain": [
              "'hi         MBC ai'"
            ],
            "application/vnd.google.colaboratory.intrinsic+json": {
              "type": "string"
            }
          },
          "metadata": {},
          "execution_count": 109
        }
      ]
    },
    {
      "cell_type": "code",
      "source": [
        "#소수점 포맷팅\n",
        "\"%0.4f\" % 3.1415937\n",
        "#0.4 = 소수점 4자리까지 출력(반올림)"
      ],
      "metadata": {
        "colab": {
          "base_uri": "https://localhost:8080/",
          "height": 35
        },
        "id": "GnDD68pe8BNa",
        "outputId": "6b209c72-a1cd-4219-e6f9-ef24aa7cecb9"
      },
      "execution_count": 114,
      "outputs": [
        {
          "output_type": "execute_result",
          "data": {
            "text/plain": [
              "'3.1416'"
            ],
            "application/vnd.google.colaboratory.intrinsic+json": {
              "type": "string"
            }
          },
          "metadata": {},
          "execution_count": 114
        }
      ]
    },
    {
      "cell_type": "code",
      "source": [
        "\"%10.4f\" % 33333333333333.1415937\n",
        "#정수 10은 기본자릿수 10자리지만, 넘치게 되면 알아서 늘려줌"
      ],
      "metadata": {
        "colab": {
          "base_uri": "https://localhost:8080/",
          "height": 35
        },
        "id": "H6-cJ7x28s9D",
        "outputId": "1ea5d51f-0c47-4585-ba3e-939610281197"
      },
      "execution_count": 122,
      "outputs": [
        {
          "output_type": "execute_result",
          "data": {
            "text/plain": [
              "'33333333333333.1406'"
            ],
            "application/vnd.google.colaboratory.intrinsic+json": {
              "type": "string"
            }
          },
          "metadata": {},
          "execution_count": 122
        }
      ]
    },
    {
      "cell_type": "code",
      "source": [
        "#포맷팅 가독성을 높이기 위해 .format() 메소드를 만듦\n",
        "\"I eat {0} apples.\".format(3)\n",
        "#{} 안의 숫자: index"
      ],
      "metadata": {
        "colab": {
          "base_uri": "https://localhost:8080/",
          "height": 35
        },
        "id": "g_L7zZW39YJ6",
        "outputId": "32db3ffd-e234-4901-8558-8a9cd24a1f52"
      },
      "execution_count": 123,
      "outputs": [
        {
          "output_type": "execute_result",
          "data": {
            "text/plain": [
              "'I eat 3 apples.'"
            ],
            "application/vnd.google.colaboratory.intrinsic+json": {
              "type": "string"
            }
          },
          "metadata": {},
          "execution_count": 123
        }
      ]
    },
    {
      "cell_type": "code",
      "source": [
        "\"I eat {0} apples. {1}\".format(3, 4)"
      ],
      "metadata": {
        "colab": {
          "base_uri": "https://localhost:8080/",
          "height": 35
        },
        "id": "bzIUZdXm98o5",
        "outputId": "ee589fa1-1c6b-4273-b679-cc24ec9404be"
      },
      "execution_count": 125,
      "outputs": [
        {
          "output_type": "execute_result",
          "data": {
            "text/plain": [
              "'I eat 3 apples. 4'"
            ],
            "application/vnd.google.colaboratory.intrinsic+json": {
              "type": "string"
            }
          },
          "metadata": {},
          "execution_count": 125
        }
      ]
    },
    {
      "cell_type": "code",
      "source": [
        "\"I eat {0} apples.\".format(\"three\")"
      ],
      "metadata": {
        "colab": {
          "base_uri": "https://localhost:8080/",
          "height": 35
        },
        "id": "J6NjsVqN9ss5",
        "outputId": "552c56bd-84ab-4e8c-e7c0-7b75616cd6c1"
      },
      "execution_count": 124,
      "outputs": [
        {
          "output_type": "execute_result",
          "data": {
            "text/plain": [
              "'I eat three apples.'"
            ],
            "application/vnd.google.colaboratory.intrinsic+json": {
              "type": "string"
            }
          },
          "metadata": {},
          "execution_count": 124
        }
      ]
    },
    {
      "cell_type": "code",
      "source": [
        "number = 5\n",
        "\"I eat {0} apples.\".format(number)"
      ],
      "metadata": {
        "colab": {
          "base_uri": "https://localhost:8080/",
          "height": 35
        },
        "id": "gVacb0sn-N3h",
        "outputId": "b7a6f3dd-8833-4854-8b7a-652336e10044"
      },
      "execution_count": 127,
      "outputs": [
        {
          "output_type": "execute_result",
          "data": {
            "text/plain": [
              "'I eat 5 apples.'"
            ],
            "application/vnd.google.colaboratory.intrinsic+json": {
              "type": "string"
            }
          },
          "metadata": {},
          "execution_count": 127
        }
      ]
    },
    {
      "cell_type": "code",
      "source": [
        "number = 10\n",
        "day = \"three\"\n",
        "\"I ate {1} apples. So I was sick for {0} days.\".format(number, day)"
      ],
      "metadata": {
        "colab": {
          "base_uri": "https://localhost:8080/",
          "height": 35
        },
        "id": "Sj_A8iYk-beZ",
        "outputId": "f1a23d0d-36c2-41f4-b381-5a6e9a357aee"
      },
      "execution_count": 130,
      "outputs": [
        {
          "output_type": "execute_result",
          "data": {
            "text/plain": [
              "'I ate three apples. So I was sick for 10 days.'"
            ],
            "application/vnd.google.colaboratory.intrinsic+json": {
              "type": "string"
            }
          },
          "metadata": {},
          "execution_count": 130
        }
      ]
    },
    {
      "cell_type": "code",
      "source": [
        "\"I ate {0} apples. So I was sick for {day} days.\".format(10, day=3)"
      ],
      "metadata": {
        "colab": {
          "base_uri": "https://localhost:8080/",
          "height": 35
        },
        "id": "t6XIgUrP-8Ch",
        "outputId": "83565ae0-e5fe-4dbf-8a1b-f922731fec4c"
      },
      "execution_count": 134,
      "outputs": [
        {
          "output_type": "execute_result",
          "data": {
            "text/plain": [
              "'I ate 10 apples. So I was sick for 3 days.'"
            ],
            "application/vnd.google.colaboratory.intrinsic+json": {
              "type": "string"
            }
          },
          "metadata": {},
          "execution_count": 134
        }
      ]
    },
    {
      "cell_type": "code",
      "source": [
        "print(\"MBC AI {0:<10}, Python\".format(\"hi\"))#< : 왼쪽 정렬\n",
        "print(\"MBC AI {0:>10}, Python\".format(\"hi\"))#> : 오른쪽 정렬\n",
        "print(\"MBC AI {0:^10}, Python\".format(\"hi\"))#^ : 가운데 정렬\n",
        "print(\"MBC AI {0:!^10}, Python\".format(\"hi\"))#^ : 가운데 정렬(나머지를 !로 채움)\n",
        "print(\"MBC AI {0:?<10}, Python\".format(\"hi\"))#^ : 왼쪽 정렬(나머지를 ?로 채움)"
      ],
      "metadata": {
        "colab": {
          "base_uri": "https://localhost:8080/"
        },
        "id": "3l84rpRx_Xgx",
        "outputId": "abf48783-eb1e-4e74-8597-49d950648a87"
      },
      "execution_count": 150,
      "outputs": [
        {
          "output_type": "stream",
          "name": "stdout",
          "text": [
            "MBC AI hi        , Python\n",
            "MBC AI         hi, Python\n",
            "MBC AI     hi    , Python\n",
            "MBC AI !!!!hi!!!!, Python\n",
            "MBC AI hi????????, Python\n"
          ]
        }
      ]
    },
    {
      "cell_type": "code",
      "source": [
        "#소수점 표현하기\n",
        "y = 3.987654321\n",
        "print(\"{0:0.4f}\".format(y)) #소수점 4자리\n",
        "print(\"{0:10.4f}\".format(y)) #소수점 4자리인데 10자리를 잡아둠"
      ],
      "metadata": {
        "colab": {
          "base_uri": "https://localhost:8080/"
        },
        "id": "8NU7nuAEMNLc",
        "outputId": "497e7cd4-b49d-4feb-c6d6-f40fbf7dace4"
      },
      "execution_count": 158,
      "outputs": [
        {
          "output_type": "stream",
          "name": "stdout",
          "text": [
            "3.9877\n",
            "    3.9877\n"
          ]
        }
      ]
    },
    {
      "cell_type": "code",
      "source": [
        "#{ 문자 }를 출력하고 싶을 때\n",
        "\"{{ 문자 }}\".format()\n",
        "#예약 기호를 사용하고 싶다면? 예약 기호를 2번 기입(str 형태로 출력)"
      ],
      "metadata": {
        "colab": {
          "base_uri": "https://localhost:8080/",
          "height": 35
        },
        "id": "4PMr-8S4MvTj",
        "outputId": "9dfc8d68-e157-4ffe-935b-1b83b00d9341"
      },
      "execution_count": 163,
      "outputs": [
        {
          "output_type": "execute_result",
          "data": {
            "text/plain": [
              "'{ 문자 }'"
            ],
            "application/vnd.google.colaboratory.intrinsic+json": {
              "type": "string"
            }
          },
          "metadata": {},
          "execution_count": 163
        }
      ]
    },
    {
      "cell_type": "code",
      "source": [
        "#파이썬 3.6 이상의 버전에서 사용하는 최신 포맷팅\n",
        "# .format()을 안 쓰고 싶어서 나온 명령어(접두사로 f)\n",
        "name = \"이혜린\"\n",
        "age = 29\n",
        "txt =\"\"\"나의 이름은 {0}이고,\n",
        "나는 만 {1}살 입니다.\"\"\".format(name, age)\n",
        "print(txt)\n",
        "print(f\"나의 이름은 {name}이고, 나는 {age+1}살 입니다.\")"
      ],
      "metadata": {
        "colab": {
          "base_uri": "https://localhost:8080/"
        },
        "id": "_hyVYk9NNfML",
        "outputId": "623fa0d9-8ebf-4bd3-f29e-b7be5b3d9b23"
      },
      "execution_count": 173,
      "outputs": [
        {
          "output_type": "stream",
          "name": "stdout",
          "text": [
            "나의 이름은 이혜린이고,\n",
            "나는 만 29살 입니다.\n",
            "나의 이름은 이혜린이고, 나는 30살 입니다.\n"
          ]
        }
      ]
    },
    {
      "cell_type": "code",
      "source": [
        "#딕셔너리를 활용한 포맷팅\n",
        "#변수에 {key:value} 형태로 배열화\n",
        "#print 할 곳엔 f'{d[\"key\"]}' 포맷\n",
        "d = {\"name\": \"이혜린\", \"age\": 29}\n",
        "print(f'나의 이름은 {d[\"name\"]}이고, 나는 {d[\"age\"]}살 입니다.')"
      ],
      "metadata": {
        "colab": {
          "base_uri": "https://localhost:8080/"
        },
        "id": "TzuIF6WBO7SJ",
        "outputId": "507d4ee4-2e36-4197-912f-165481504b8e"
      },
      "execution_count": 172,
      "outputs": [
        {
          "output_type": "stream",
          "name": "stdout",
          "text": [
            "나의 이름은 이혜린이고, 나는 29살 입니다.\n"
          ]
        }
      ]
    },
    {
      "cell_type": "code",
      "source": [
        "f'{\"hi\":^10}'"
      ],
      "metadata": {
        "colab": {
          "base_uri": "https://localhost:8080/",
          "height": 35
        },
        "id": "Svb-RJOLQWn4",
        "outputId": "b2098ef8-260e-4f6e-d7fe-d699318afc19"
      },
      "execution_count": 176,
      "outputs": [
        {
          "output_type": "execute_result",
          "data": {
            "text/plain": [
              "'    hi    '"
            ],
            "application/vnd.google.colaboratory.intrinsic+json": {
              "type": "string"
            }
          },
          "metadata": {},
          "execution_count": 176
        }
      ]
    },
    {
      "cell_type": "code",
      "source": [
        "f'{\"hi\":=^10}'"
      ],
      "metadata": {
        "colab": {
          "base_uri": "https://localhost:8080/",
          "height": 35
        },
        "id": "O_YNT1KPQpdY",
        "outputId": "ad685c12-f5e8-4ecd-c9af-02f7f578e01d"
      },
      "execution_count": 177,
      "outputs": [
        {
          "output_type": "execute_result",
          "data": {
            "text/plain": [
              "'====hi===='"
            ],
            "application/vnd.google.colaboratory.intrinsic+json": {
              "type": "string"
            }
          },
          "metadata": {},
          "execution_count": 177
        }
      ]
    },
    {
      "cell_type": "code",
      "source": [
        "y = 3.42134234\n",
        "f'{y:_>10.4f}'"
      ],
      "metadata": {
        "colab": {
          "base_uri": "https://localhost:8080/",
          "height": 35
        },
        "id": "gywfPioiQ99J",
        "outputId": "a0f449b7-206b-4880-b857-48c8208ae276"
      },
      "execution_count": 184,
      "outputs": [
        {
          "output_type": "execute_result",
          "data": {
            "text/plain": [
              "'____3.4213'"
            ],
            "application/vnd.google.colaboratory.intrinsic+json": {
              "type": "string"
            }
          },
          "metadata": {},
          "execution_count": 184
        }
      ]
    },
    {
      "cell_type": "code",
      "source": [
        "# { 문자 }로 출력하고 싶을 때\n",
        "print(f\"{{ 문자 }}\")"
      ],
      "metadata": {
        "colab": {
          "base_uri": "https://localhost:8080/"
        },
        "id": "j_3s_lUbRj0x",
        "outputId": "06389c38-8af8-4d4a-abe1-9ef36c719b5a"
      },
      "execution_count": 188,
      "outputs": [
        {
          "output_type": "stream",
          "name": "stdout",
          "text": [
            "{ 문자 }\n"
          ]
        }
      ]
    },
    {
      "cell_type": "code",
      "source": [
        "#문자 수 세기\n",
        "a = \"hobby\"\n",
        "a.count(\"b\")"
      ],
      "metadata": {
        "colab": {
          "base_uri": "https://localhost:8080/"
        },
        "id": "U_mDAI_rUJ5P",
        "outputId": "a97a9a03-e692-45de-8d9b-000a534af50a"
      },
      "execution_count": 189,
      "outputs": [
        {
          "output_type": "execute_result",
          "data": {
            "text/plain": [
              "2"
            ]
          },
          "metadata": {},
          "execution_count": 189
        }
      ]
    }
  ]
}