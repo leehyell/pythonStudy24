{
  "nbformat": 4,
  "nbformat_minor": 0,
  "metadata": {
    "colab": {
      "provenance": [],
      "authorship_tag": "ABX9TyPXeaahLZyYXh9tBY0FIUFR",
      "include_colab_link": true
    },
    "kernelspec": {
      "name": "python3",
      "display_name": "Python 3"
    },
    "language_info": {
      "name": "python"
    }
  },
  "cells": [
    {
      "cell_type": "markdown",
      "metadata": {
        "id": "view-in-github",
        "colab_type": "text"
      },
      "source": [
        "<a href=\"https://colab.research.google.com/github/leehyell/pythonStudy24/blob/master/moduleExam.ipynb\" target=\"_parent\"><img src=\"https://colab.research.google.com/assets/colab-badge.svg\" alt=\"Open In Colab\"/></a>"
      ]
    },
    {
      "cell_type": "markdown",
      "source": [
        "#####Module\n",
        "└ 모듈이란 함수나 변수 또는 클래스를 모아 놓은 파이썬 파일.\n",
        "<br/>\n",
        "└ 다른 파이썬 프로그램에서 불러와 사용할 수 있도록 만든 파이썬 파일이라고도 할 수 있다."
      ],
      "metadata": {
        "id": "hYi0XAxqos0j"
      }
    },
    {
      "cell_type": "code",
      "execution_count": null,
      "metadata": {
        "id": "q2gNcMamogxJ"
      },
      "outputs": [],
      "source": [
        "#mod1.py\n",
        "def add(a, b):\n",
        "    return a + b\n",
        "\n",
        "def sub(a, b):\n",
        "    return a - b\n",
        "\n",
        "#지금 실행하는 코드가 메인 메소드냐\n",
        "#python mod1로 실행하면 메인, 'import'로 불려져 오면 메인이 아님\n",
        "if __name__ == \"__main__\":\n",
        "    print(add(1,4))\n",
        "    print(sub(4,2))\n",
        "#__name__ 변수는 파이썬에서 내부적으로 사용하는 특별한 변수 이름."
      ]
    },
    {
      "cell_type": "code",
      "source": [
        "#모듈 실행해보기1\n",
        "#단순 모듈만 import 하기\n",
        "\n",
        "#cmd 이동!!\n",
        "cd C:\\python-exam\n",
        "#import 모듈_이름\n",
        "import mod1\n",
        "print(mod1.add(3,4))\n",
        "print(mod1.sub(3,4))"
      ],
      "metadata": {
        "id": "VOxgT8W5pXEJ"
      },
      "execution_count": null,
      "outputs": []
    },
    {
      "cell_type": "code",
      "source": [
        "#모듈 실행해보기2\n",
        "#모듈 안의 함수 이름도 import 하기\n",
        "#>>이러면 모듈.함수(인수1,인수2) 형식에서 모듈. 을 제외시킬 수 있음.\n",
        "\n",
        "#cmd 이동!!\n",
        "cd C:\\python-exam\n",
        "#import 모듈_이름\n",
        "from mod1 import add, sub\n",
        "#>> import add, sub는 *로 대체 가능\n",
        "print(add(3,4))\n",
        "print(sub(3,4))"
      ],
      "metadata": {
        "id": "Rp4Y_QgapxcB"
      },
      "execution_count": null,
      "outputs": []
    },
    {
      "cell_type": "code",
      "source": [
        "#mod2.py\n",
        "#필드\n",
        "PI = 3.1415926535\n",
        "\n",
        "#클래스\n",
        "class Math:\n",
        "    #메소드(클래스 안에 있는 함수면 다 메소드)\n",
        "    def solv(self,r):\n",
        "        return PI*(r**2)\n",
        "\n",
        "#함수\n",
        "def add(a,b):\n",
        "    return a+b"
      ],
      "metadata": {
        "id": "j4JzLjd8pHcq"
      },
      "execution_count": null,
      "outputs": []
    },
    {
      "cell_type": "code",
      "source": [
        "#mod2.py 모듈 cmd에서 출력해보기\n",
        "#cmd 이동!!\n",
        "cd C:\\python-exam\n",
        "#import\n",
        "import mod2\n",
        "print(mod2.PI)\n",
        "\n",
        "#이 역시\n",
        "from mod2 import PI\n",
        "print(PI)\n",
        "#가능!"
      ],
      "metadata": {
        "id": "1_Ophf_Kqyrx"
      },
      "execution_count": null,
      "outputs": []
    },
    {
      "cell_type": "code",
      "source": [
        "a = mod2.Math()\n",
        "print(a.solv(2))\n",
        "print(mod2.add(mod2.PI, 4.4))"
      ],
      "metadata": {
        "id": "BuS6dVsprHLJ"
      },
      "execution_count": null,
      "outputs": []
    },
    {
      "cell_type": "code",
      "source": [
        "#modtest.py\n",
        "#같은 디렉터리에 있는 파일 가져오기\n",
        "import mod2\n",
        "#mymod라는 디렉터리에 있는 파일 가져오기\n",
        "from mymod import mod2\n",
        "\n",
        "result = mod2.add(3, 4)\n",
        "print(result)"
      ],
      "metadata": {
        "id": "dOS_rTS2pMUa"
      },
      "execution_count": null,
      "outputs": []
    },
    {
      "cell_type": "code",
      "source": [
        "###sys path append 사용하기\n",
        "import sys\n",
        "#sys.path.append(\"집어넣을 경로 주소\")\n",
        "sys.path.append(\"C:\\python-exam\")\n",
        "#잘 들어갔는지 확인\n",
        "sys.path"
      ],
      "metadata": {
        "id": "Yn-Q7NrArfOw"
      },
      "execution_count": null,
      "outputs": []
    },
    {
      "cell_type": "code",
      "source": [
        "###PYTHONPATH 환경 변수로 append하기\n",
        "#이건 파이참 내부 cmd에서 하면 충돌이 생길 수 있으므로 윈도우 내부 cmd를 이용하자\n",
        "#cmd 이동\n",
        "set PYTHONPATH=C:\\python-exam\n",
        "#PYTHONPATH = C: 처럼 = 사이를 띄우면 오류가 남ㅠㅠ\n",
        "import mod2\n",
        "print(mod2.add(3,4))"
      ],
      "metadata": {
        "id": "pOEENUzxr4_Y"
      },
      "execution_count": null,
      "outputs": []
    }
  ]
}