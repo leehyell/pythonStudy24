{
  "nbformat": 4,
  "nbformat_minor": 0,
  "metadata": {
    "colab": {
      "provenance": [],
      "authorship_tag": "ABX9TyOyn46UZbZ7hPsXDVb+qR9Y",
      "include_colab_link": true
    },
    "kernelspec": {
      "name": "python3",
      "display_name": "Python 3"
    },
    "language_info": {
      "name": "python"
    }
  },
  "cells": [
    {
      "cell_type": "markdown",
      "metadata": {
        "id": "view-in-github",
        "colab_type": "text"
      },
      "source": [
        "<a href=\"https://colab.research.google.com/github/leehyell/pythonStudy24/blob/master/tableType.ipynb\" target=\"_parent\"><img src=\"https://colab.research.google.com/assets/colab-badge.svg\" alt=\"Open In Colab\"/></a>"
      ]
    },
    {
      "cell_type": "markdown",
      "source": [
        "#####테이블 자료 처리(각각의 개체를 모아 처리하는 용도)\n",
        "* 리스트 자료형\n",
        "* 튜플 자료형\n",
        "* 딕셔너리 자료형\n",
        "* 집합 자료형"
      ],
      "metadata": {
        "id": "LSyKSTLRXsxU"
      }
    },
    {
      "cell_type": "code",
      "source": [
        "\"\"\"\n",
        "리스트 자료형\n",
        "└ 대괄호를 이용하여 감싸고 쉼표로 요소를 구분\n",
        "\"\"\"\n",
        "odd = [1,3,5,7,9]\n",
        "\"\"\"\n",
        "Java의 배열과 유사하지만 배열은 초기 행/열 값을 갖는다.(배열 크기는 고정)\n",
        "-> 이런 단점을 보완하여 나온 것이 arrayList<>\n",
        "\"\"\"\n",
        "a = [] #빈 리스트 -> a = list() 로도 생성 가능\n",
        "b = [1,2,3] #정수형 리스트\n",
        "c = ['Life', 'is', 'too', 'short'] #문자형 리스트\n",
        "d = [1,2,'Life', 'is'] #혼합형 리스트\n",
        "e = [1,2,['Life', 'is']] #이중 리스트"
      ],
      "metadata": {
        "id": "Y0F2p7TNYTbE"
      },
      "execution_count": null,
      "outputs": []
    }
  ]
}