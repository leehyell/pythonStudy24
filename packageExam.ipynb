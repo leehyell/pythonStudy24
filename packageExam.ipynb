{
  "nbformat": 4,
  "nbformat_minor": 0,
  "metadata": {
    "colab": {
      "provenance": [],
      "authorship_tag": "ABX9TyOd8bg6AGoOlQ6bjtuRXJyl",
      "include_colab_link": true
    },
    "kernelspec": {
      "name": "python3",
      "display_name": "Python 3"
    },
    "language_info": {
      "name": "python"
    }
  },
  "cells": [
    {
      "cell_type": "markdown",
      "metadata": {
        "id": "view-in-github",
        "colab_type": "text"
      },
      "source": [
        "<a href=\"https://colab.research.google.com/github/leehyell/pythonStudy24/blob/master/packageExam.ipynb\" target=\"_parent\"><img src=\"https://colab.research.google.com/assets/colab-badge.svg\" alt=\"Open In Colab\"/></a>"
      ]
    },
    {
      "cell_type": "markdown",
      "source": [
        "#####패키지\n",
        "└ 패키지란? 관련 있는 모듈의 집합을 말한다.\n",
        "<br/>\n",
        "└ 패키지는 파이썬 모듈을 계층적(디렉터리 구조)으로 관리할 수 있도록 한다.\n",
        "<br/>\n",
        "`*파이썬에서 모듈은 하나의 .py*`\n",
        "<br/>\n",
        "└ 파이썬 패키지\n",
        "    * 디렉터리\n",
        "    * 모듈\n",
        "\n",
        "#####가상 game 패키지 예\n",
        "* game/\n",
        "    * __init__.py\n",
        "    * sound/\n",
        "        * __init__.py\n",
        "        * echo.py\n",
        "        * wav.py\n",
        "    * graphic/\n",
        "        * __init__.py\n",
        "        * screen.py\n",
        "        * render.py\n",
        "    * play/\n",
        "        * __init__.py\n",
        "        * run.py\n",
        "        * test.py\n",
        "\n",
        "└ 간단한 파이썬 프로그램이 아니라면 패키지 구조로 파이썬 프로그램을 제작하는 것이 공동 작업, 유지보수 면에서 유리.\n",
        "<br/>\n",
        "또한 패키지 구조로 모듈을 만들면 다른 모듈과 이름이 겹쳐도 더 안전하다."
      ],
      "metadata": {
        "id": "1Ihdvvqas8Vo"
      }
    },
    {
      "cell_type": "markdown",
      "source": [
        "#####패키지 만들기\n",
        "1. game 디렉터리에 하위 디렉터리(sound, graphic, play)를 만듦\n",
        "2. 각 디렉터리 하위에 패키지 예의 파일들을 만듦"
      ],
      "metadata": {
        "id": "OOyX1zl4uLav"
      }
    },
    {
      "cell_type": "code",
      "execution_count": null,
      "metadata": {
        "id": "p_g245ZEs5Mw"
      },
      "outputs": [],
      "source": [
        "# echo.py\n",
        "def echo_test():\n",
        "    print(\"echo\")"
      ]
    },
    {
      "cell_type": "code",
      "source": [
        "# render.py\n",
        "def render_test():\n",
        "    print(\"render\")"
      ],
      "metadata": {
        "id": "JKkUeS41ugkf"
      },
      "execution_count": null,
      "outputs": []
    },
    {
      "cell_type": "code",
      "source": [
        "#cmd에 아래 명령어 입력\n",
        "set PYTHONPATH=C:/python-exam/game\n",
        "python #python 실행하기\n",
        "\n",
        "#import 하는 방법1\n",
        "#game 디렉터리 > sound 디렉터리 > echo.py 파일 import\n",
        "import game.sound.echo\n",
        "game.sound.echo.echo_test()"
      ],
      "metadata": {
        "id": "7CFu6phjul-f"
      },
      "execution_count": null,
      "outputs": []
    },
    {
      "cell_type": "code",
      "source": [
        "#cmd에 아래 명령어 입력2\n",
        "exit() #python 나가기\n",
        "\n",
        "#import 하는 방법2\n",
        "#game 디렉터리 > sound 디렉터리의 echo.py 파일 import\n",
        "from game.sound import echo\n",
        "echo.echo_test()"
      ],
      "metadata": {
        "id": "s-giwIdIu4CX"
      },
      "execution_count": null,
      "outputs": []
    },
    {
      "cell_type": "code",
      "source": [
        "#cmd에 아래 명령어 입력\n",
        "\n",
        "#import 하는 방법3\n",
        "#game 디렉터리 > sound 디렉터리의 echo.py 파일 속 echo_test 함수 import\n",
        "from game.sound.echo import echo_test\n",
        "echo_test()"
      ],
      "metadata": {
        "id": "_5TH3MiJvM4P"
      },
      "execution_count": null,
      "outputs": []
    },
    {
      "cell_type": "code",
      "source": [
        "#cmd에 아래 명령어 입력\n",
        "exit()\n",
        "import game\n",
        "game.sound.echo.echo_test()\n",
        "#or\n",
        "import game.sound.echo.echo_test\n",
        "#해당 예제들은 모듈을 못 찾는 에러가 나온다\n",
        "#도트(.)연산자를 이용하여 import할 때는 가장 마지막 항목이 모듈이나 패키지여야 하기 때문"
      ],
      "metadata": {
        "id": "XhLI7Shbv7X2"
      },
      "execution_count": null,
      "outputs": []
    },
    {
      "cell_type": "code",
      "source": [
        "#game 디렉터리 속 가장 상위 __init__\n",
        "#__init__ 실행과 동시에 import하고 싶은 파일들 작성하면 실행 시킬 때 import를 같이 할 수 있음.\n",
        "from .graphic.render import render_test\n",
        "from .sound.echo import echo_test\n",
        "\n",
        "VERSION = \"3.11.2\"\n",
        "\n",
        "def print_version_info():\n",
        "    print(f\"The version of this game is {VERSION}.\")\n",
        "    print(\"게임 제작자: 이혜린\")\n",
        "    print(\"게임 제작자 메일: helena1005@naver.com\")\n",
        "    print(\"게임 제작 의뢰: 010-6449-6852\")\n",
        "\n",
        "#패키지 실행 초기화 문구\n",
        "#패키지 실행 시 하단 문구가 처음에 뜬다.\n",
        "print(\"Initializing game······\")\n",
        "print(\"Loading···\")\n",
        "#단, 초기화 코드는 한 번 실행 후 다시 import를 하더라도 재실행 되지는 않는다."
      ],
      "metadata": {
        "id": "89yf7nQKwVn-"
      },
      "execution_count": null,
      "outputs": []
    },
    {
      "cell_type": "code",
      "source": [
        "#__init__.py 사용 예제\n",
        "exit()\n",
        "\n",
        "import game\n",
        "print(game.VERSION)\n",
        "game.print_version_info()"
      ],
      "metadata": {
        "id": "dnasCopewj3V"
      },
      "execution_count": null,
      "outputs": []
    },
    {
      "cell_type": "code",
      "source": [
        "#오류 코드\n",
        "from game.sound import *\n",
        "echo.echo_test()\n",
        ">>Traceback (most recent call last):\n",
        "    File \"<stdin>\", line 1, in <module>\n",
        "NameError: name 'echo' is not defined\n",
        "#특정 디렉터리 모듈을 *로 import 하려면"
      ],
      "metadata": {
        "id": "6bTEVvUTxJXm"
      },
      "execution_count": null,
      "outputs": []
    },
    {
      "cell_type": "code",
      "source": [
        "#sound 디렉터리 속 __init__.py\n",
        "__all__ = ['echo']\n",
        "#처럼 __all__ 변수 설정 후 import 할 수 있는 모듈을 반드시 정의해줘야 한다."
      ],
      "metadata": {
        "id": "CqkTtOayxXbO"
      },
      "execution_count": null,
      "outputs": []
    },
    {
      "cell_type": "markdown",
      "source": [
        "#####__all__\n",
        "`__all__이 의미하는 것은 sound 디렉터리에서 *를 사용하여 import할 경우, 이곳에 정의된 echo 모듈만 import된다는 의미.`"
      ],
      "metadata": {
        "id": "vnqQbktxxlvl"
      }
    },
    {
      "cell_type": "code",
      "source": [
        "#다시 코드 실행 시\n",
        "exit()\n",
        "python\n",
        "from game.sound import *\n",
        "echo.echo_test()\n",
        "#잘 됨"
      ],
      "metadata": {
        "id": "0LY9wah2xtcF"
      },
      "execution_count": null,
      "outputs": []
    },
    {
      "cell_type": "markdown",
      "source": [
        "#####relative 패키지\n",
        "└ 경로 지정 시<br/>\n",
        "*   전체 경로: game.graphic.render import render_test\n",
        "*   relative : ..sound.echo import echo_test\n",
        "    <br/>\n",
        "    └ .  현재 디렉터리\n",
        "    <br/>\n",
        "    └ .. 상위 디렉터리"
      ],
      "metadata": {
        "id": "duIIPBeqx-kF"
      }
    },
    {
      "cell_type": "code",
      "source": [
        "#graphic 디렉터리에 있는 render.py\n",
        "from game.sound.echo import echo_test\n",
        "def render_test():\n",
        "    print(\"render_test 메서드 실행···\")\n",
        "    echo_test()"
      ],
      "metadata": {
        "id": "Ir-aYbQkyC41"
      },
      "execution_count": null,
      "outputs": []
    },
    {
      "cell_type": "code",
      "source": [
        "#cmd에서 render.py 실행\n",
        "from game.graphic.render import render_test\n",
        "render_test()\n",
        "#이러면 render_test()와 echo_test() 두 개를 모두 실행함\n",
        "#이처럼 전체 경로를 사용하여 import 할 수도 있지만"
      ],
      "metadata": {
        "id": "aZn73RqHyPaN"
      },
      "execution_count": null,
      "outputs": []
    },
    {
      "cell_type": "code",
      "source": [
        "from ..sound.echo import echo_test\n",
        "\n",
        "def render_test():\n",
        "    print(\"render\")\n",
        "    echo_test()\n",
        "#를 이용하여 ..으로 relative하게 import 할 수도 있음"
      ],
      "metadata": {
        "id": "B_urREU9yqId"
      },
      "execution_count": null,
      "outputs": []
    }
  ]
}