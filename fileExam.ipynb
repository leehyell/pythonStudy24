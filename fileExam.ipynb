{
  "nbformat": 4,
  "nbformat_minor": 0,
  "metadata": {
    "colab": {
      "provenance": [],
      "authorship_tag": "ABX9TyNKyAqaouILCqeKsCRoCCe6",
      "include_colab_link": true
    },
    "kernelspec": {
      "name": "python3",
      "display_name": "Python 3"
    },
    "language_info": {
      "name": "python"
    }
  },
  "cells": [
    {
      "cell_type": "markdown",
      "metadata": {
        "id": "view-in-github",
        "colab_type": "text"
      },
      "source": [
        "<a href=\"https://colab.research.google.com/github/leehyell/pythonStudy24/blob/master/fileExam.ipynb\" target=\"_parent\"><img src=\"https://colab.research.google.com/assets/colab-badge.svg\" alt=\"Open In Colab\"/></a>"
      ]
    },
    {
      "cell_type": "markdown",
      "source": [
        "#####파일 읽고 쓰기 연습\n",
        "파이썬은 실무에서 excel 파일을 .csv 파일로 저장 후 불러와 데이터 분석을 한다.\n",
        "* .csv는 엑셀에서 표에 있는 값을 텍스트로 저장하는 기법을 말한다.\n",
        "* 현재 코랩으로 실습 실행 시 구글에서 제공하는 vm을 사용함.<br/>\n",
        "└ 리눅스 커널로 되어 있어 content 디렉터리에 저장됨.<br/>\n",
        "└ c:\\으로 되어 있는 것은 윈도우 커널로 파이참에서 실습함."
      ],
      "metadata": {
        "id": "C0XUlpLqG9Us"
      }
    },
    {
      "cell_type": "code",
      "execution_count": 8,
      "metadata": {
        "colab": {
          "base_uri": "https://localhost:8080/",
          "height": 54
        },
        "id": "ZJt5qkUxGHtn",
        "outputId": "924845cb-0110-4488-b9c8-19411c6d0736"
      },
      "outputs": [
        {
          "output_type": "execute_result",
          "data": {
            "text/plain": [
              "\"\\n'w' = 쓰기(write) 모드\\n'r' = 읽기(read) 모드\\n'a' = 추가(append) 모드 -> 파일 마지막에 새로운 내용을 추가\\n\""
            ],
            "application/vnd.google.colaboratory.intrinsic+json": {
              "type": "string"
            }
          },
          "metadata": {},
          "execution_count": 8
        }
      ],
      "source": [
        "\"\"\"\n",
        "파일 생성하기 실습\n",
        "open() = 파일을 연다.\n",
        "f.close() = 연 파일을 닫는다.\n",
        "\"\"\"\n",
        "f = open(\"새파일.txt\", 'w')\n",
        "for i in range(1, 11): #1부터 10까지 숫자 범위 만들어 i에 할당\n",
        "    data = f\"'{i}'번째 줄입니다.\\n\"\n",
        "    f.write(data)#파일에 기록\n",
        "f.close()\n",
        "\"\"\"\n",
        "'w' = 쓰기(write) 모드\n",
        "'r' = 읽기(read) 모드\n",
        "'a' = 추가(append) 모드 -> 파일 마지막에 새로운 내용을 추가\n",
        "\"\"\""
      ]
    },
    {
      "cell_type": "code",
      "source": [
        "#저장된 파일 내용을 가져와 출력\n",
        "f = open(\"새파일.txt\", 'r')\n",
        "line = f.readline()#첫 줄의 내용을 가져와 line 변수에 넣어줌\n",
        "print(line)\n",
        "f.close()"
      ],
      "metadata": {
        "colab": {
          "base_uri": "https://localhost:8080/"
        },
        "id": "03qcmtiXYOBz",
        "outputId": "cf870568-0690-4ad7-c66a-80c0094ab15a"
      },
      "execution_count": 11,
      "outputs": [
        {
          "output_type": "stream",
          "name": "stdout",
          "text": [
            "'1'번째 줄입니다.\n",
            "\n"
          ]
        }
      ]
    },
    {
      "cell_type": "code",
      "source": [
        "#무한루프 while로 가져오기\n",
        "f = open(\"새파일.txt\", 'r')\n",
        "while True:             #무한루프\n",
        "    line = f.readline() #한 줄씩 읽고\n",
        "    if not line: break  #line이 없으면 while 중단\n",
        "    print(line)         #출력\n",
        "f.close()               #파일 닫기"
      ],
      "metadata": {
        "colab": {
          "base_uri": "https://localhost:8080/"
        },
        "id": "SqERlmVfYzHT",
        "outputId": "4c826b76-ec03-410c-94f8-2f0deacdfcb4"
      },
      "execution_count": 18,
      "outputs": [
        {
          "output_type": "stream",
          "name": "stdout",
          "text": [
            "'1'번째 줄입니다.\n",
            "\n",
            "'2'번째 줄입니다.\n",
            "\n",
            "'3'번째 줄입니다.\n",
            "\n",
            "'4'번째 줄입니다.\n",
            "\n",
            "'5'번째 줄입니다.\n",
            "\n",
            "'6'번째 줄입니다.\n",
            "\n",
            "'7'번째 줄입니다.\n",
            "\n",
            "'8'번째 줄입니다.\n",
            "\n",
            "'9'번째 줄입니다.\n",
            "\n",
            "'10'번째 줄입니다.\n",
            "\n"
          ]
        }
      ]
    },
    {
      "cell_type": "code",
      "source": [
        "\"\"\"\n",
        ".readlines\n",
        "s -> list\n",
        "* .strip() -> strip() 메서드는 줄 끝의 줄 바꿈 문자를 제거\n",
        "\"\"\"\n",
        "f = open(\"새파일.txt\", 'r') #f라는 객체로 새파일을 오픈\n",
        "lines = f.readlines()       #새파일 문자열을 리스트로 만듦\n",
        "for line in lines:          #리스트로 for문을 돌림\n",
        "    print(line.strip())             #변수 출력함\n",
        "f.close()                   #f 닫기"
      ],
      "metadata": {
        "colab": {
          "base_uri": "https://localhost:8080/"
        },
        "id": "Y3_NYW4fZFIb",
        "outputId": "2224b6f4-ec65-4f95-b9d7-967fc45e2dfe"
      },
      "execution_count": 16,
      "outputs": [
        {
          "output_type": "stream",
          "name": "stdout",
          "text": [
            "'1'번째 줄입니다.\n",
            "'2'번째 줄입니다.\n",
            "'3'번째 줄입니다.\n",
            "'4'번째 줄입니다.\n",
            "'5'번째 줄입니다.\n",
            "'6'번째 줄입니다.\n",
            "'7'번째 줄입니다.\n",
            "'8'번째 줄입니다.\n",
            "'9'번째 줄입니다.\n",
            "'10'번째 줄입니다.\n"
          ]
        }
      ]
    },
    {
      "cell_type": "code",
      "source": [
        "\"\"\"\n",
        "read() 함수 사용\n",
        "\"\"\"\n",
        "#f라는 객체로 새파일을 열기\n",
        "f = open(\"새파일.txt\", 'r')\n",
        "#.read() -> 텍스트 안에 있는 모든 값을 문자열로 가져옴\n",
        "data = f.read()\n",
        "#data 변수를 출력\n",
        "print(data)\n",
        "#f 닫기\n",
        "f.close()"
      ],
      "metadata": {
        "colab": {
          "base_uri": "https://localhost:8080/"
        },
        "id": "bRfJ8Uzca7Aa",
        "outputId": "cee16eda-8c37-4dc9-843e-c5a681989783"
      },
      "execution_count": 19,
      "outputs": [
        {
          "output_type": "stream",
          "name": "stdout",
          "text": [
            "'1'번째 줄입니다.\n",
            "'2'번째 줄입니다.\n",
            "'3'번째 줄입니다.\n",
            "'4'번째 줄입니다.\n",
            "'5'번째 줄입니다.\n",
            "'6'번째 줄입니다.\n",
            "'7'번째 줄입니다.\n",
            "'8'번째 줄입니다.\n",
            "'9'번째 줄입니다.\n",
            "'10'번째 줄입니다.\n",
            "\n"
          ]
        }
      ]
    },
    {
      "cell_type": "code",
      "source": [
        "\"\"\"\n",
        "파일에 새로운 내용을 추가\n",
        "전에 'w' -> 파일을 열 때 이미 존재하는 파일이면 전의 내용이 실종\n",
        "\"\"\"\n",
        "f = open(\"새파일.txt\", 'w')\n",
        "for i in range(1, 11): #1부터 10까지 숫자 범위 만들어 i에 할당\n",
        "    data = f\"'{i}'번째 행입니다.\\n\"\n",
        "    f.write(data)#파일에 기록\n",
        "f.close()"
      ],
      "metadata": {
        "id": "_QyxOvWlbbiS"
      },
      "execution_count": 26,
      "outputs": []
    },
    {
      "cell_type": "code",
      "source": [
        "\"\"\"\n",
        "'w' -> 'a'로 변경하거나 파일명을 다른 이름으로 저장\n",
        "\"\"\"\n",
        "f = open(\"새파일.txt\", 'a')\n",
        "for i in range(11, 21): #1부터 10까지 숫자 범위 만들어 i에 할당\n",
        "    data = f\"'{i}'번째 줄입니다.\\n\"\n",
        "    f.write(data)#파일에 기록\n",
        "f.close()"
      ],
      "metadata": {
        "id": "tsUxM9-UcgzB"
      },
      "execution_count": 27,
      "outputs": []
    },
    {
      "cell_type": "code",
      "source": [
        "\"\"\"\n",
        "with() 함수 사용해보기\n",
        "항상 파일을 열면(open) 닫기(close) 필수\n",
        "\"\"\"\n",
        "f = open(\"foo.txt\", 'w')\n",
        "f.write(\"Life is too short, you need python\")\n",
        "f.close()"
      ],
      "metadata": {
        "id": "neiDrk0DdHsx"
      },
      "execution_count": 28,
      "outputs": []
    },
    {
      "cell_type": "code",
      "source": [
        "with open(\"foo.txt\", 'w') as f:\n",
        "    f.write(\"Life is too short, you need python\")\n",
        "    f.close() # -> 생략 가능(자동으로 닫아줌)"
      ],
      "metadata": {
        "id": "QlaBAFIvdsJw"
      },
      "execution_count": 29,
      "outputs": []
    }
  ]
}