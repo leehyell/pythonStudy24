{
  "nbformat": 4,
  "nbformat_minor": 0,
  "metadata": {
    "colab": {
      "provenance": [],
      "authorship_tag": "ABX9TyN/iRfIbYSfedezn/knc/MF",
      "include_colab_link": true
    },
    "kernelspec": {
      "name": "python3",
      "display_name": "Python 3"
    },
    "language_info": {
      "name": "python"
    }
  },
  "cells": [
    {
      "cell_type": "markdown",
      "metadata": {
        "id": "view-in-github",
        "colab_type": "text"
      },
      "source": [
        "<a href=\"https://colab.research.google.com/github/leehyell/pythonStudy24/blob/master/DictionaryType.ipynb\" target=\"_parent\"><img src=\"https://colab.research.google.com/assets/colab-badge.svg\" alt=\"Open In Colab\"/></a>"
      ]
    },
    {
      "cell_type": "markdown",
      "source": [
        "#####딕셔너리 자료형(key : value)\n",
        "{key1:Value1,key2:Value2,key3:Value3} 형태"
      ],
      "metadata": {
        "id": "ah1UxIjiaJ4D"
      }
    },
    {
      "cell_type": "code",
      "execution_count": 2,
      "metadata": {
        "colab": {
          "base_uri": "https://localhost:8080/"
        },
        "id": "--JK4cNOaCE3",
        "outputId": "4ee7a4cc-8c0c-4f79-dec7-6cddd650fe63"
      },
      "outputs": [
        {
          "output_type": "execute_result",
          "data": {
            "text/plain": [
              "{'name': 'pey', 'phone': '010-9999-1234', 'birth': '1118'}"
            ]
          },
          "metadata": {},
          "execution_count": 2
        }
      ],
      "source": [
        "dic = {'name': 'pey', 'phone': '010-9999-1234', 'birth': '1118'}\n",
        "dic"
      ]
    },
    {
      "cell_type": "code",
      "source": [
        "a = {1: 'hi'}\n",
        "a\n",
        "#'1' key에 hi라는 문자열을 넣음"
      ],
      "metadata": {
        "colab": {
          "base_uri": "https://localhost:8080/"
        },
        "id": "fHayekxvatPL",
        "outputId": "6aa52a5c-f7c9-44c3-b695-9648f9def04e"
      },
      "execution_count": 3,
      "outputs": [
        {
          "output_type": "execute_result",
          "data": {
            "text/plain": [
              "{1: 'hi'}"
            ]
          },
          "metadata": {},
          "execution_count": 3
        }
      ]
    },
    {
      "cell_type": "code",
      "source": [
        "a = {1: 'a'}\n",
        "a[2] = 'b'\n",
        "a\n",
        "# 1 key에 a 값을 넣은 후, 딕셔너리를 추가함"
      ],
      "metadata": {
        "colab": {
          "base_uri": "https://localhost:8080/"
        },
        "id": "mRzC9cpEazty",
        "outputId": "07b31166-f298-4bba-c6c7-bf3df636dabb"
      },
      "execution_count": 4,
      "outputs": [
        {
          "output_type": "execute_result",
          "data": {
            "text/plain": [
              "{1: 'a', 2: 'b'}"
            ]
          },
          "metadata": {},
          "execution_count": 4
        }
      ]
    },
    {
      "cell_type": "code",
      "source": [
        "a['name'] = 'pey'\n",
        "a\n",
        "#딕셔너리 재추가"
      ],
      "metadata": {
        "colab": {
          "base_uri": "https://localhost:8080/"
        },
        "id": "c_5CaThybBCC",
        "outputId": "3744d9f7-118b-458c-8e6a-b501761ddaec"
      },
      "execution_count": 5,
      "outputs": [
        {
          "output_type": "execute_result",
          "data": {
            "text/plain": [
              "{1: 'a', 2: 'b', 'name': 'pey'}"
            ]
          },
          "metadata": {},
          "execution_count": 5
        }
      ]
    },
    {
      "cell_type": "code",
      "source": [
        "del a[1]\n",
        "a\n",
        "#del 배열변수[key값] -> 해당 key를 가진 딕셔너리 요소를 삭제"
      ],
      "metadata": {
        "colab": {
          "base_uri": "https://localhost:8080/"
        },
        "id": "lcrP8r6qbG_J",
        "outputId": "cf0fdb49-7488-4cea-b033-6321f2ea5b68"
      },
      "execution_count": 6,
      "outputs": [
        {
          "output_type": "execute_result",
          "data": {
            "text/plain": [
              "{2: 'b', 'name': 'pey'}"
            ]
          },
          "metadata": {},
          "execution_count": 6
        }
      ]
    },
    {
      "cell_type": "code",
      "source": [
        "kind = {\"김연아\": \"피겨스케이팅\", \"류현진\": \"야구\", \"손흥민\": \"축구\", \"귀도\": \"파이썬\"}\n",
        "kind\n",
        "#kind에 딕셔너리 생성"
      ],
      "metadata": {
        "colab": {
          "base_uri": "https://localhost:8080/"
        },
        "id": "axjd70SVbKEq",
        "outputId": "25398e55-3a9b-4098-88ad-f617a23450bb"
      },
      "execution_count": 8,
      "outputs": [
        {
          "output_type": "execute_result",
          "data": {
            "text/plain": [
              "{'김연아': '피겨스케이팅', '류현진': '야구', '손흥민': '축구', '귀도': '파이썬'}"
            ]
          },
          "metadata": {},
          "execution_count": 8
        }
      ]
    },
    {
      "cell_type": "code",
      "source": [
        "kind['김연아']\n",
        "#kind에서 key를 이용하여 value 값 얻기"
      ],
      "metadata": {
        "colab": {
          "base_uri": "https://localhost:8080/",
          "height": 35
        },
        "id": "0d4iJRiAbenx",
        "outputId": "48e5711d-3691-415b-cc87-6e565cc3be36"
      },
      "execution_count": 9,
      "outputs": [
        {
          "output_type": "execute_result",
          "data": {
            "text/plain": [
              "'피겨스케이팅'"
            ],
            "application/vnd.google.colaboratory.intrinsic+json": {
              "type": "string"
            }
          },
          "metadata": {},
          "execution_count": 9
        }
      ]
    },
    {
      "cell_type": "code",
      "source": [
        "a = {'a': 1, 'b': 2}\n",
        "print(a['a'])\n",
        "print(a['b'])"
      ],
      "metadata": {
        "colab": {
          "base_uri": "https://localhost:8080/"
        },
        "id": "jeAY6jY1bs0B",
        "outputId": "1fffbdd9-02c3-42fe-b887-f7e9f2e07a8e"
      },
      "execution_count": 10,
      "outputs": [
        {
          "output_type": "stream",
          "name": "stdout",
          "text": [
            "1\n",
            "2\n"
          ]
        }
      ]
    },
    {
      "cell_type": "code",
      "source": [
        "a = {1:'a', 1:'b'}\n",
        "a\n",
        "#딕셔너리 key 값은 중복될 수 없으므로 key 값이 동일하지 않도록 주의해야 함"
      ],
      "metadata": {
        "colab": {
          "base_uri": "https://localhost:8080/"
        },
        "id": "4aEwa_OTcB5a",
        "outputId": "e335ac9c-dbd3-4e1f-97f5-0974050e6a19"
      },
      "execution_count": 11,
      "outputs": [
        {
          "output_type": "execute_result",
          "data": {
            "text/plain": [
              "{1: 'b'}"
            ]
          },
          "metadata": {},
          "execution_count": 11
        }
      ]
    },
    {
      "cell_type": "code",
      "source": [
        "a = {[1,2] : 'hi'}\n",
        "#딕셔너리에는 언제든 바뀔 수 있는 리스트를 key 값으로 사용할 수 없음\n",
        "#value 값은 중복 가능, 리스트 가능"
      ],
      "metadata": {
        "colab": {
          "base_uri": "https://localhost:8080/",
          "height": 147
        },
        "id": "OD3B0aaZcNAh",
        "outputId": "25733e76-0fa3-48a7-87d3-cd7cb0079593"
      },
      "execution_count": 12,
      "outputs": [
        {
          "output_type": "error",
          "ename": "TypeError",
          "evalue": "unhashable type: 'list'",
          "traceback": [
            "\u001b[0;31m---------------------------------------------------------------------------\u001b[0m",
            "\u001b[0;31mTypeError\u001b[0m                                 Traceback (most recent call last)",
            "\u001b[0;32m<ipython-input-12-bcf766ba5a2c>\u001b[0m in \u001b[0;36m<cell line: 1>\u001b[0;34m()\u001b[0m\n\u001b[0;32m----> 1\u001b[0;31m \u001b[0ma\u001b[0m \u001b[0;34m=\u001b[0m \u001b[0;34m{\u001b[0m\u001b[0;34m[\u001b[0m\u001b[0;36m1\u001b[0m\u001b[0;34m,\u001b[0m\u001b[0;36m2\u001b[0m\u001b[0;34m]\u001b[0m \u001b[0;34m:\u001b[0m \u001b[0;34m'hi'\u001b[0m\u001b[0;34m}\u001b[0m\u001b[0;34m\u001b[0m\u001b[0;34m\u001b[0m\u001b[0m\n\u001b[0m",
            "\u001b[0;31mTypeError\u001b[0m: unhashable type: 'list'"
          ]
        }
      ]
    },
    {
      "cell_type": "code",
      "source": [
        "a = {(1,2) : 'hi'}\n",
        "a\n",
        "#단, 튜플은 UD가 안 되므로 key 값으로 넣을 수 있다."
      ],
      "metadata": {
        "colab": {
          "base_uri": "https://localhost:8080/"
        },
        "id": "mokU-4N4cZLJ",
        "outputId": "86091f92-87b1-4282-d4d7-f1609399549f"
      },
      "execution_count": 14,
      "outputs": [
        {
          "output_type": "execute_result",
          "data": {
            "text/plain": [
              "{(1, 2): 'hi'}"
            ]
          },
          "metadata": {},
          "execution_count": 14
        }
      ]
    },
    {
      "cell_type": "code",
      "source": [
        "a = {'name': 'pey', 'phone': '010-9999-1234', 'birth': '1118'}\n",
        "b = a.keys()\n",
        "b\n",
        "#a.keys()는 a 중 key 값만을 모아서 전달"
      ],
      "metadata": {
        "colab": {
          "base_uri": "https://localhost:8080/"
        },
        "id": "qjhVBD64ck2R",
        "outputId": "08d4aa24-126a-49a9-f002-145d1639d631"
      },
      "execution_count": 16,
      "outputs": [
        {
          "output_type": "execute_result",
          "data": {
            "text/plain": [
              "dict_keys(['name', 'phone', 'birth'])"
            ]
          },
          "metadata": {},
          "execution_count": 16
        }
      ]
    },
    {
      "cell_type": "code",
      "source": [
        "for k in a.keys():\n",
        "    print(k)\n",
        "#dict_keys 원리"
      ],
      "metadata": {
        "colab": {
          "base_uri": "https://localhost:8080/"
        },
        "id": "LsEkjCLZdC04",
        "outputId": "17686a94-69fa-406e-cf3d-c5e1c78edcad"
      },
      "execution_count": 17,
      "outputs": [
        {
          "output_type": "stream",
          "name": "stdout",
          "text": [
            "name\n",
            "phone\n",
            "birth\n"
          ]
        }
      ]
    },
    {
      "cell_type": "code",
      "source": [
        "#dict_keys를 리스트화 시키는 방법\n",
        "list(a.keys())"
      ],
      "metadata": {
        "colab": {
          "base_uri": "https://localhost:8080/"
        },
        "id": "0_tbfwOldL0Z",
        "outputId": "d26a4a7d-030c-491b-a680-78721af3e641"
      },
      "execution_count": 18,
      "outputs": [
        {
          "output_type": "execute_result",
          "data": {
            "text/plain": [
              "['name', 'phone', 'birth']"
            ]
          },
          "metadata": {},
          "execution_count": 18
        }
      ]
    },
    {
      "cell_type": "code",
      "source": [
        "a.values()\n",
        "#반대로 value 값들만 모아놓고 싶다면 .values() 함수 호출"
      ],
      "metadata": {
        "colab": {
          "base_uri": "https://localhost:8080/"
        },
        "id": "TyeQqXSedVeA",
        "outputId": "d9401de4-bb2f-4dfd-b088-3256d445f189"
      },
      "execution_count": 19,
      "outputs": [
        {
          "output_type": "execute_result",
          "data": {
            "text/plain": [
              "dict_values(['pey', '010-9999-1234', '1118'])"
            ]
          },
          "metadata": {},
          "execution_count": 19
        }
      ]
    },
    {
      "cell_type": "code",
      "source": [
        "a.items()\n",
        "#key, value 쌍을 튜플로 묶은 값을 dict_items 객체로 돌려줌"
      ],
      "metadata": {
        "colab": {
          "base_uri": "https://localhost:8080/"
        },
        "id": "LY28HzX0dbtw",
        "outputId": "a3df321e-18e2-478f-af3b-e58850d8699e"
      },
      "execution_count": 20,
      "outputs": [
        {
          "output_type": "execute_result",
          "data": {
            "text/plain": [
              "dict_items([('name', 'pey'), ('phone', '010-9999-1234'), ('birth', '1118')])"
            ]
          },
          "metadata": {},
          "execution_count": 20
        }
      ]
    },
    {
      "cell_type": "code",
      "source": [
        "a.clear()\n",
        "a\n",
        "#a 딕셔너리를 모두 지우고 싶을 때 사용"
      ],
      "metadata": {
        "colab": {
          "base_uri": "https://localhost:8080/"
        },
        "id": "MK17vB7idfvw",
        "outputId": "568c68ad-0df0-4f19-9705-1c03673e280a"
      },
      "execution_count": 21,
      "outputs": [
        {
          "output_type": "execute_result",
          "data": {
            "text/plain": [
              "{}"
            ]
          },
          "metadata": {},
          "execution_count": 21
        }
      ]
    },
    {
      "cell_type": "code",
      "source": [
        "a = {'name': 'pey', 'phone': '010-9999-1234', 'birth': '1118'}\n",
        "a.get('name')\n",
        "#key 값으로 value 값을 얻어내기"
      ],
      "metadata": {
        "colab": {
          "base_uri": "https://localhost:8080/",
          "height": 35
        },
        "id": "od_RSMSHdmzJ",
        "outputId": "1b6ad9c2-a766-4687-d000-dcbd80d959fd"
      },
      "execution_count": 22,
      "outputs": [
        {
          "output_type": "execute_result",
          "data": {
            "text/plain": [
              "'pey'"
            ],
            "application/vnd.google.colaboratory.intrinsic+json": {
              "type": "string"
            }
          },
          "metadata": {},
          "execution_count": 22
        }
      ]
    },
    {
      "cell_type": "code",
      "source": [
        "a = {'name':'pey', 'phone':'010-9999-1234', 'birth': '1118'}\n",
        "print(a.get('nokey'))\n",
        "#None = false\n",
        "#해당 key 값이 없을 때 null 돌려주는 것과 유사함"
      ],
      "metadata": {
        "colab": {
          "base_uri": "https://localhost:8080/"
        },
        "id": "E3djGb7Rdtdo",
        "outputId": "a84ecfdc-39c4-48b8-9592-98a58d689383"
      },
      "execution_count": 25,
      "outputs": [
        {
          "output_type": "stream",
          "name": "stdout",
          "text": [
            "None\n"
          ]
        }
      ]
    },
    {
      "cell_type": "code",
      "source": [
        "a.get('nokey', 'null')\n",
        "#nokey key값이 없을 때 null로 돌려받고 싶을 때 .get('key','띄울값')을 적어줌"
      ],
      "metadata": {
        "colab": {
          "base_uri": "https://localhost:8080/",
          "height": 35
        },
        "id": "0zvRWZhwd7a4",
        "outputId": "90f887ef-1d0c-4e92-e8b2-d5fd4d509d70"
      },
      "execution_count": 27,
      "outputs": [
        {
          "output_type": "execute_result",
          "data": {
            "text/plain": [
              "'null'"
            ],
            "application/vnd.google.colaboratory.intrinsic+json": {
              "type": "string"
            }
          },
          "metadata": {},
          "execution_count": 27
        }
      ]
    },
    {
      "cell_type": "code",
      "source": [
        "a = {'name':'pey', 'phone':'010-9999-1234', 'birth': '1118'}\n",
        "print('name' in a)\n",
        "#key 값이 있는지 확인하려면 'key' in 변수명\n",
        "print('email' in a)\n",
        "#key 값이 있으면 true, 없으면 false를 반환"
      ],
      "metadata": {
        "colab": {
          "base_uri": "https://localhost:8080/"
        },
        "id": "kO7EJCMLeSdA",
        "outputId": "a6e802a7-9516-4741-8ddd-7ad4d3755c17"
      },
      "execution_count": 28,
      "outputs": [
        {
          "output_type": "stream",
          "name": "stdout",
          "text": [
            "True\n",
            "False\n"
          ]
        }
      ]
    }
  ]
}