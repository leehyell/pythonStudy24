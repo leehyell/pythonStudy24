{
  "nbformat": 4,
  "nbformat_minor": 0,
  "metadata": {
    "colab": {
      "provenance": [],
      "authorship_tag": "ABX9TyOhd3ez5i4a2IdWNY0Vj1fA",
      "include_colab_link": true
    },
    "kernelspec": {
      "name": "python3",
      "display_name": "Python 3"
    },
    "language_info": {
      "name": "python"
    }
  },
  "cells": [
    {
      "cell_type": "markdown",
      "metadata": {
        "id": "view-in-github",
        "colab_type": "text"
      },
      "source": [
        "<a href=\"https://colab.research.google.com/github/leehyell/pythonStudy24/blob/master/classExam.ipynb\" target=\"_parent\"><img src=\"https://colab.research.google.com/assets/colab-badge.svg\" alt=\"Open In Colab\"/></a>"
      ]
    },
    {
      "cell_type": "markdown",
      "source": [
        "#####클래스(Class)\n",
        "클래스는 객체지향 언어의 필수로 각각의 객체를 담당.\n",
        "만약 shoppingMall 프로젝트를 만든다고 가정하자.\n",
        "* 회원용.py\n",
        "    * C, R, U, D, O\n",
        "* 아이템.py\n",
        "    * C, R, U, D, O\n",
        "* 게시판.py\n",
        "    * C, R, U, D, O\n",
        "* 장바구니.py\n",
        "    * C, R, U, D, O\n",
        "\n",
        "등등이 main.py와 연동되게 설정한다.\n",
        "<br/>\n",
        "*** 주 실행: main.py"
      ],
      "metadata": {
        "id": "uk1AUw9Efgof"
      }
    },
    {
      "cell_type": "code",
      "execution_count": 3,
      "metadata": {
        "colab": {
          "base_uri": "https://localhost:8080/"
        },
        "id": "rj26kuZvfbyL",
        "outputId": "b80abcc4-e259-4a2b-b821-e09d6fff51b0"
      },
      "outputs": [
        {
          "output_type": "stream",
          "name": "stdout",
          "text": [
            "4\n"
          ]
        }
      ],
      "source": [
        "#계산기 처리용 클래스\n",
        "result = 0          #결과값 처리용 변수\n",
        "def add(num):\n",
        "    global result   #전역변수 사용\n",
        "    result += num   #메서드에 입력값을 더함\n",
        "    return result   #결과값 리턴\n",
        "\n",
        "print(add(4))       #위에 만든 메서드에 4를 보내서 리턴값 출력"
      ]
    },
    {
      "cell_type": "code",
      "source": [
        "print(add(15))"
      ],
      "metadata": {
        "colab": {
          "base_uri": "https://localhost:8080/"
        },
        "id": "gDJpCSQLk6rt",
        "outputId": "9fa7aba7-bca6-4b4b-80b3-e5b88c71320c"
      },
      "execution_count": 7,
      "outputs": [
        {
          "output_type": "stream",
          "name": "stdout",
          "text": [
            "28\n"
          ]
        }
      ]
    },
    {
      "cell_type": "code",
      "source": [
        "\"\"\"\n",
        "한 프로그램에서 2대의 계산기가 필요한 상황\n",
        "\"\"\"\n",
        "result1 = 0\n",
        "result2 = 0\n",
        "def add1(num):\n",
        "    global result1\n",
        "    result1 += num\n",
        "    return result1\n",
        "def add2(num):\n",
        "    global result2\n",
        "    result2 += num\n",
        "    return result2"
      ],
      "metadata": {
        "id": "cRq7Lj83lKcU"
      },
      "execution_count": null,
      "outputs": []
    },
    {
      "cell_type": "code",
      "source": [
        "\"\"\"\n",
        "클래스를 이용한 계산기?\n",
        "\"\"\"\n",
        "#객체 생성용(생성자용 메서드, 일반 메서드)\n",
        "class Calcurator:\n",
        "    #생성자 --init(->초기화)__(self(->나 자신)) 객체 생성 시 0순위로 처리\n",
        "    def __init__(self):\n",
        "        #나 자신에 result 변수를 만들고 0 값을 넣음\n",
        "        self.result = 0\n",
        "    #객체용 메서드(클래스 메서드 안에 self는 그냥 넣는다고 생각)\n",
        "    def add(self, num):\n",
        "        #생성자에 있는 변수에 num을 누적 저장\n",
        "        self.result += num\n",
        "        #결과를 리턴함\n",
        "        return self.result"
      ],
      "metadata": {
        "id": "GnS24HsemD9E"
      },
      "execution_count": 11,
      "outputs": []
    },
    {
      "cell_type": "code",
      "source": [
        "\"\"\"\n",
        "객체를 생성해서 변수에 연결\n",
        "-> java: Calcurator cal1 = new Calculator()\n",
        "\"\"\"\n",
        "#객체1\n",
        "calc1 = Calcurator()\n",
        "#객체2\n",
        "calc2 = Calcurator()\n",
        "print(calc1.add(3))     #1번 계산기\n",
        "print(calc2.add(9))     #2번 계산기\n",
        "print(calc1.add(9))     #1번 계산기\n",
        "print(calc2.add(10))    #2번 계산기"
      ],
      "metadata": {
        "colab": {
          "base_uri": "https://localhost:8080/"
        },
        "id": "tLhYpyqLnTPz",
        "outputId": "812786d5-07d6-405d-ec76-97c100cedf0e"
      },
      "execution_count": 17,
      "outputs": [
        {
          "output_type": "stream",
          "name": "stdout",
          "text": [
            "3\n",
            "9\n",
            "12\n",
            "19\n"
          ]
        }
      ]
    },
    {
      "cell_type": "code",
      "source": [
        "\"\"\"\n",
        "클래스를 활용한 사칙연산 계산기 만들기\n",
        "\"\"\"\n",
        "class FourCal:\n",
        "    #pass -> 아무 기능 없이 동작\n",
        "    #필드: 객체마다 가지고 있어야 할 데이터(dto, vo)\n",
        "    first = 0\n",
        "    second = 0\n",
        "    #초기 생성자(__init__): 객체를 생성할 때 필요한 something\n",
        "    #초기에 값을 넣어줌(초기값이 없으면 에러)\n",
        "    def __init__(self,first,second):\n",
        "        self.first = first\n",
        "        self.second = second\n",
        "    #메서드 선언(self 필수)\n",
        "    #수정할 때 사용하면 유용\n",
        "    def setdata(self, first, second):\n",
        "        #↓JAVA this.first = first와 같은 의미\n",
        "        #self라는 변수는 관례적 약속일 뿐,\n",
        "        #다른 변수명을 적은 후 self를 해당 변수명으로 적어줘도 무관\n",
        "        self.first = first\n",
        "        #↓JAVA this.second = second와 같은 의미\n",
        "        self.second = second\n",
        "    def add(self):\n",
        "        result = self.first + self.second\n",
        "        return result\n",
        "    def mul(self):\n",
        "        result = self.first * self.second\n",
        "        return result\n",
        "    def sub(self):\n",
        "        result = self.first - self.second\n",
        "        return result\n",
        "    def div(self):\n",
        "        result = self.first / self.second\n",
        "        return result"
      ],
      "metadata": {
        "id": "FdH8UZoRo_Hi"
      },
      "execution_count": 54,
      "outputs": []
    },
    {
      "cell_type": "code",
      "source": [
        "#a 변수에 FourCal() 클래스가 연결\n",
        "a = FourCal(4,2)\n",
        "#a 변수를 self로 알아서 처리하므로 self에 해당하는 값은 넣을 필요 X\n",
        "a.setdata(4,2)"
      ],
      "metadata": {
        "id": "_BHVlJIaqIe6"
      },
      "execution_count": 57,
      "outputs": []
    },
    {
      "cell_type": "code",
      "source": [
        "b = FourCal(4,2)\n",
        "#FourCal 객체에 연결했으므로 b라는 변수를 self 위치에 넣어줘야 함.\n",
        "FourCal.setdata(b,4,2)"
      ],
      "metadata": {
        "id": "2EcmBAPJqwEJ"
      },
      "execution_count": 58,
      "outputs": []
    },
    {
      "cell_type": "code",
      "source": [
        "print(a.first)"
      ],
      "metadata": {
        "colab": {
          "base_uri": "https://localhost:8080/"
        },
        "id": "m3Isabylu7F4",
        "outputId": "c9770d9d-e2ae-481e-d0f7-cd8a95e45f38"
      },
      "execution_count": 59,
      "outputs": [
        {
          "output_type": "stream",
          "name": "stdout",
          "text": [
            "4\n"
          ]
        }
      ]
    },
    {
      "cell_type": "code",
      "source": [
        "print(b.second)"
      ],
      "metadata": {
        "colab": {
          "base_uri": "https://localhost:8080/"
        },
        "id": "zU3QGoW7u_J3",
        "outputId": "47e94499-912c-41fd-e2eb-2c7f19bfbbc4"
      },
      "execution_count": 60,
      "outputs": [
        {
          "output_type": "stream",
          "name": "stdout",
          "text": [
            "2\n"
          ]
        }
      ]
    },
    {
      "cell_type": "code",
      "source": [
        "print(f\"{a.first} + {a.second} = {a.add()}\")\n",
        "print(f\"{a.first} - {a.second} = {a.sub()}\")\n",
        "print(f\"{a.first} x {a.second} = {a.mul()}\")\n",
        "print(f\"{a.first} / {a.second} = {a.div()}\")"
      ],
      "metadata": {
        "colab": {
          "base_uri": "https://localhost:8080/"
        },
        "id": "V2suiUh_vHAH",
        "outputId": "990265ef-c7b7-4321-c703-05488a92ce55"
      },
      "execution_count": 61,
      "outputs": [
        {
          "output_type": "stream",
          "name": "stdout",
          "text": [
            "4 + 2 = 6\n",
            "4 - 2 = 2\n",
            "4 x 2 = 8\n",
            "4 / 2 = 2.0\n"
          ]
        }
      ]
    },
    {
      "cell_type": "code",
      "source": [
        "c = FourCal(5,5)\n",
        "c.setdata(5,5)\n",
        "print(f\"{c.first} x {c.second} = {c.mul()}\")"
      ],
      "metadata": {
        "colab": {
          "base_uri": "https://localhost:8080/"
        },
        "id": "xqFp3nZYvyh3",
        "outputId": "c975896e-bc23-4369-966b-eb644b191791"
      },
      "execution_count": 63,
      "outputs": [
        {
          "output_type": "stream",
          "name": "stdout",
          "text": [
            "5 x 5 = 25\n"
          ]
        }
      ]
    },
    {
      "cell_type": "code",
      "source": [
        "d = FourCal(12,6)\n",
        "#setter가 없음\n",
        "print(d.add())\n",
        "print(d.sub())\n",
        "print(d.mul())\n",
        "print(d.div())"
      ],
      "metadata": {
        "colab": {
          "base_uri": "https://localhost:8080/"
        },
        "id": "9BaP-0XQwpu_",
        "outputId": "55166449-70c5-441b-89b6-8697cbeebf53"
      },
      "execution_count": 68,
      "outputs": [
        {
          "output_type": "stream",
          "name": "stdout",
          "text": [
            "18\n",
            "6\n",
            "72\n",
            "2.0\n"
          ]
        }
      ]
    },
    {
      "cell_type": "code",
      "source": [
        "\"\"\"\n",
        "클래스의 상속\n",
        "└ 부모가 써둔 \"코드\"를 상속 받는다.\n",
        "└ 부모가 만든 객체를 보완, 추가하는 기능.\n",
        "\"\"\"\n",
        "class MoreFourCal(FourCal):\n",
        "    def pow(self): #제곱\n",
        "        result = self.first ** self.second\n",
        "        return result\n",
        "    \"\"\"\n",
        "    오버라이딩(재정의)\n",
        "    └ 부모가 만든 메서드를 변경하여 사용\n",
        "    \"\"\"\n",
        "    def div(self):\n",
        "        if self.first == 0 or self.second == 0:\n",
        "            return 0\n",
        "        else:\n",
        "            return self.first / self.second"
      ],
      "metadata": {
        "id": "u2fyKhR0ylum"
      },
      "execution_count": 82,
      "outputs": []
    },
    {
      "cell_type": "code",
      "source": [
        "e = MoreFourCal(4,4)\n",
        "print(f\"{e.first} + {e.second} = {e.add()}\")\n",
        "print(f\"{e.first} - {e.second} = {e.sub()}\")\n",
        "print(f\"{e.first} x {e.second} = {e.mul()}\")\n",
        "print(f\"{e.first} / {e.second} = {e.div()}\")"
      ],
      "metadata": {
        "colab": {
          "base_uri": "https://localhost:8080/"
        },
        "id": "fqrVxh0PzgaW",
        "outputId": "82ba63cb-870e-4113-8fc2-4aeaee868e83"
      },
      "execution_count": 75,
      "outputs": [
        {
          "output_type": "stream",
          "name": "stdout",
          "text": [
            "4 + 4 = 8\n",
            "4 - 4 = 0\n",
            "4 x 4 = 16\n",
            "4 / 4 = 1.0\n"
          ]
        }
      ]
    },
    {
      "cell_type": "code",
      "source": [
        "e.pow()"
      ],
      "metadata": {
        "colab": {
          "base_uri": "https://localhost:8080/"
        },
        "id": "1pYfkiCU0R7-",
        "outputId": "63e041a2-6308-4818-b202-084e08971a9a"
      },
      "execution_count": 76,
      "outputs": [
        {
          "output_type": "execute_result",
          "data": {
            "text/plain": [
              "256"
            ]
          },
          "metadata": {},
          "execution_count": 76
        }
      ]
    },
    {
      "cell_type": "code",
      "source": [
        "f = MoreFourCal(4,0)\n",
        "f.div()"
      ],
      "metadata": {
        "colab": {
          "base_uri": "https://localhost:8080/"
        },
        "id": "UpuJfm3s03ZX",
        "outputId": "2a7a2e98-5518-4db9-8449-e939eef910ee"
      },
      "execution_count": 86,
      "outputs": [
        {
          "output_type": "execute_result",
          "data": {
            "text/plain": [
              "0"
            ]
          },
          "metadata": {},
          "execution_count": 86
        }
      ]
    }
  ]
}