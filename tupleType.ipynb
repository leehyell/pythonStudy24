{
  "nbformat": 4,
  "nbformat_minor": 0,
  "metadata": {
    "colab": {
      "provenance": [],
      "authorship_tag": "ABX9TyMTHO6+i/ZJHQTtyxHspLrs",
      "include_colab_link": true
    },
    "kernelspec": {
      "name": "python3",
      "display_name": "Python 3"
    },
    "language_info": {
      "name": "python"
    }
  },
  "cells": [
    {
      "cell_type": "markdown",
      "metadata": {
        "id": "view-in-github",
        "colab_type": "text"
      },
      "source": [
        "<a href=\"https://colab.research.google.com/github/leehyell/pythonStudy24/blob/master/tupleType.ipynb\" target=\"_parent\"><img src=\"https://colab.research.google.com/assets/colab-badge.svg\" alt=\"Open In Colab\"/></a>"
      ]
    },
    {
      "cell_type": "markdown",
      "source": [
        "#####튜플 자료형\n",
        "\n",
        "튜플은 리스트와 거의 유사\n",
        "튜플과 리스트의 차이점\n",
        "1. `[ ]`, `( )`\n",
        "2. 리스트는 CRUD가 가능하나 튜플은 CR만 가능(읽기 전용)\n",
        "------------------------------------------------------------\n",
        "자바의 Collections.unmodifiableList() 기능과 유사\n",
        "<br/>\n",
        "└ https://velog.io/@clean01/Java-%EB%B3%80%EA%B2%BD%EC%9D%B4-%EB%B6%88%EA%B0%80%EB%8A%A5%ED%95%9C-Collection%EC%9D%84-%EB%A7%8C%EB%93%A4%EA%B8%B0-Immutable-Collection-Immutable-List"
      ],
      "metadata": {
        "id": "bLQvNe_dVNJG"
      }
    },
    {
      "cell_type": "code",
      "execution_count": null,
      "metadata": {
        "id": "6o5t_uICU-RG"
      },
      "outputs": [],
      "source": [
        "\"\"\"\n",
        "튜플 생성하기\n",
        "\"\"\"\n",
        "#빈 객체\n",
        "t1 = ()\n",
        "#한 개의 요소만 가질 때 쉼표를 반드시 적어야 함(안 그러면 튜플로 인식을 안 함)\n",
        "t2 = (1,)\n",
        "t3 = (1,2,3)\n",
        "#() 생략 가능\n",
        "t4 = 1,2,3\n",
        "#2차원 튜플\n",
        "t5 = ('a','b',('ab','cd'))\n",
        "\n",
        "#튜플과 리스트 큰 차이는 요소 값을 변화시킬 수 있는지(튜플은 불가)\n",
        "#프로그램이 실행되는 동안 요소 값이 변하지 않기를 바라면 튜플을 사용\n"
      ]
    },
    {
      "cell_type": "code",
      "source": [
        "t = (1,2,'a','b')\n",
        "del t[0]\n",
        "#tuple은 UD가 안 되기 때문에 타입 에러가 뜬다"
      ],
      "metadata": {
        "colab": {
          "base_uri": "https://localhost:8080/",
          "height": 165
        },
        "id": "DilHxcTuX4aN",
        "outputId": "461fe72a-deef-4069-a726-086978d95fb5"
      },
      "execution_count": 1,
      "outputs": [
        {
          "output_type": "error",
          "ename": "TypeError",
          "evalue": "'tuple' object doesn't support item deletion",
          "traceback": [
            "\u001b[0;31m---------------------------------------------------------------------------\u001b[0m",
            "\u001b[0;31mTypeError\u001b[0m                                 Traceback (most recent call last)",
            "\u001b[0;32m<ipython-input-1-fb75da3e8366>\u001b[0m in \u001b[0;36m<cell line: 2>\u001b[0;34m()\u001b[0m\n\u001b[1;32m      1\u001b[0m \u001b[0mt\u001b[0m \u001b[0;34m=\u001b[0m \u001b[0;34m(\u001b[0m\u001b[0;36m1\u001b[0m\u001b[0;34m,\u001b[0m\u001b[0;36m2\u001b[0m\u001b[0;34m,\u001b[0m\u001b[0;34m'a'\u001b[0m\u001b[0;34m,\u001b[0m\u001b[0;34m'b'\u001b[0m\u001b[0;34m)\u001b[0m\u001b[0;34m\u001b[0m\u001b[0;34m\u001b[0m\u001b[0m\n\u001b[0;32m----> 2\u001b[0;31m \u001b[0;32mdel\u001b[0m \u001b[0mt\u001b[0m\u001b[0;34m[\u001b[0m\u001b[0;36m0\u001b[0m\u001b[0;34m]\u001b[0m\u001b[0;34m\u001b[0m\u001b[0;34m\u001b[0m\u001b[0m\n\u001b[0m",
            "\u001b[0;31mTypeError\u001b[0m: 'tuple' object doesn't support item deletion"
          ]
        }
      ]
    },
    {
      "cell_type": "code",
      "source": [
        "t[0] = 'c'\n",
        "#tuple은 UD가 안 되기 때문에 타입 에러가 뜬다"
      ],
      "metadata": {
        "colab": {
          "base_uri": "https://localhost:8080/",
          "height": 147
        },
        "id": "DgNz2P0wYH5U",
        "outputId": "7eff4716-9722-4916-82a4-4a3b732d7730"
      },
      "execution_count": 2,
      "outputs": [
        {
          "output_type": "error",
          "ename": "TypeError",
          "evalue": "'tuple' object does not support item assignment",
          "traceback": [
            "\u001b[0;31m---------------------------------------------------------------------------\u001b[0m",
            "\u001b[0;31mTypeError\u001b[0m                                 Traceback (most recent call last)",
            "\u001b[0;32m<ipython-input-2-29966c9d7587>\u001b[0m in \u001b[0;36m<cell line: 1>\u001b[0;34m()\u001b[0m\n\u001b[0;32m----> 1\u001b[0;31m \u001b[0mt\u001b[0m\u001b[0;34m[\u001b[0m\u001b[0;36m0\u001b[0m\u001b[0;34m]\u001b[0m \u001b[0;34m=\u001b[0m \u001b[0;34m'c'\u001b[0m\u001b[0;34m\u001b[0m\u001b[0;34m\u001b[0m\u001b[0m\n\u001b[0m",
            "\u001b[0;31mTypeError\u001b[0m: 'tuple' object does not support item assignment"
          ]
        }
      ]
    }
  ]
}