{
  "nbformat": 4,
  "nbformat_minor": 0,
  "metadata": {
    "colab": {
      "provenance": [],
      "authorship_tag": "ABX9TyO3Y1t++Xg+nJnYE5wAgv/d",
      "include_colab_link": true
    },
    "kernelspec": {
      "name": "python3",
      "display_name": "Python 3"
    },
    "language_info": {
      "name": "python"
    }
  },
  "cells": [
    {
      "cell_type": "markdown",
      "metadata": {
        "id": "view-in-github",
        "colab_type": "text"
      },
      "source": [
        "<a href=\"https://colab.research.google.com/github/leehyell/pythonStudy24/blob/master/booleanType.ipynb\" target=\"_parent\"><img src=\"https://colab.research.google.com/assets/colab-badge.svg\" alt=\"Open In Colab\"/></a>"
      ]
    },
    {
      "cell_type": "markdown",
      "source": [
        "#####불 자료형(boolean)\n",
        "참과 거짓을 나타내는 자료형\n",
        "<br/><br/>\n",
        "boolean 값\n",
        "*   True : 참\n",
        "*   False : 거짓\n",
        "<br/><br/>\n",
        "True와 False는 파이썬 예약어로 무조건 첫 문자를 대문자로 작성해야 한다.\n"
      ],
      "metadata": {
        "id": "uxMeg01P0J62"
      }
    },
    {
      "cell_type": "code",
      "execution_count": 1,
      "metadata": {
        "id": "22dk9EIe0EFu"
      },
      "outputs": [],
      "source": [
        "a = True\n",
        "b = False"
      ]
    },
    {
      "cell_type": "code",
      "source": [
        "print(type(a))\n",
        "print(type(b))\n",
        "#a의 타입이 bool 자료형이라는 것을 확인 가능"
      ],
      "metadata": {
        "colab": {
          "base_uri": "https://localhost:8080/"
        },
        "id": "cQY5lRup1EXN",
        "outputId": "40e04d32-0d0c-4849-bd05-d8157e9b7725"
      },
      "execution_count": 2,
      "outputs": [
        {
          "output_type": "stream",
          "name": "stdout",
          "text": [
            "<class 'bool'>\n",
            "<class 'bool'>\n"
          ]
        }
      ]
    },
    {
      "cell_type": "code",
      "source": [
        "print(bool('python'))\n",
        "print(bool((1,2,3)))\n",
        "print(bool([1,2,3]))\n",
        "print(bool({1,2,3}))\n",
        "print(bool(1))\n",
        "print(bool(''))\n",
        "print(bool(()))\n",
        "print(bool([]))\n",
        "print(bool({}))\n",
        "print(bool(0))\n",
        "print(bool())\n",
        "print(bool(None))\n",
        "#문자열, 리스트, 튜플, 딕셔너리의 값이 비어 있지 않으면 참\n",
        "#문자열, 리스트, 튜플, 딕셔너리의 값이 비어 있으면 거짓\n",
        "#1은 참, 0, None은 거짓"
      ],
      "metadata": {
        "colab": {
          "base_uri": "https://localhost:8080/"
        },
        "id": "dDxsXLDT1RWM",
        "outputId": "7541c248-c776-40f8-bdf7-abd9d192c2d4"
      },
      "execution_count": 5,
      "outputs": [
        {
          "output_type": "stream",
          "name": "stdout",
          "text": [
            "True\n",
            "True\n",
            "True\n",
            "True\n",
            "True\n",
            "False\n",
            "False\n",
            "False\n",
            "False\n",
            "False\n",
            "False\n",
            "False\n"
          ]
        }
      ]
    }
  ]
}