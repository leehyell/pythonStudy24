{
  "nbformat": 4,
  "nbformat_minor": 0,
  "metadata": {
    "colab": {
      "provenance": [],
      "authorship_tag": "ABX9TyPo01xzc75Awu862cyz/XqD",
      "include_colab_link": true
    },
    "kernelspec": {
      "name": "python3",
      "display_name": "Python 3"
    },
    "language_info": {
      "name": "python"
    }
  },
  "cells": [
    {
      "cell_type": "markdown",
      "metadata": {
        "id": "view-in-github",
        "colab_type": "text"
      },
      "source": [
        "<a href=\"https://colab.research.google.com/github/leehyell/pythonStudy24/blob/master/listType.ipynb\" target=\"_parent\"><img src=\"https://colab.research.google.com/assets/colab-badge.svg\" alt=\"Open In Colab\"/></a>"
      ]
    },
    {
      "cell_type": "markdown",
      "source": [
        "#####테이블 자료 처리(각각의 개체를 모아 처리하는 용도)\n",
        "* 리스트 자료형\n",
        "* 튜플 자료형\n",
        "* 딕셔너리 자료형\n",
        "* 집합 자료형"
      ],
      "metadata": {
        "id": "LSyKSTLRXsxU"
      }
    },
    {
      "cell_type": "code",
      "source": [
        "\"\"\"\n",
        "리스트 자료형\n",
        "└ 대괄호를 이용하여 감싸고 쉼표로 요소를 구분\n",
        "\"\"\"\n",
        "odd = [1,3,5,7,9]\n",
        "\"\"\"\n",
        "Java의 배열과 유사하지만 배열은 초기 행/열 값을 갖는다.(배열 크기는 고정)\n",
        "-> 이런 단점을 보완하여 나온 것이 arrayList<>\n",
        "\"\"\"\n",
        "a = [] #빈 리스트 -> a = list() 로도 생성 가능\n",
        "b = [1,2,3] #정수형 리스트\n",
        "c = ['Life', 'is', 'too', 'short'] #문자형 리스트\n",
        "d = [1,2,'Life', 'is'] #혼합형 리스트\n",
        "e = [1,2,['Life', 'is']] #이중 리스트"
      ],
      "metadata": {
        "id": "Y0F2p7TNYTbE"
      },
      "execution_count": null,
      "outputs": []
    },
    {
      "cell_type": "code",
      "source": [
        "#리스트 인덱싱\n",
        "a = [1,2,3]\n",
        "a[0] #a 리스트의 0번 인덱스를 출력"
      ],
      "metadata": {
        "colab": {
          "base_uri": "https://localhost:8080/"
        },
        "id": "mXNTenebbdlq",
        "outputId": "cec04df1-c97b-4aae-af60-be7dc7b18bfc"
      },
      "execution_count": 2,
      "outputs": [
        {
          "output_type": "execute_result",
          "data": {
            "text/plain": [
              "1"
            ]
          },
          "metadata": {},
          "execution_count": 2
        }
      ]
    },
    {
      "cell_type": "code",
      "source": [
        "a[0] + a[2]\n",
        "# -> 1 + 3"
      ],
      "metadata": {
        "colab": {
          "base_uri": "https://localhost:8080/"
        },
        "id": "wdRJE_03b0QJ",
        "outputId": "7255ee5e-1ffc-4180-f8d3-41404db9efc4"
      },
      "execution_count": 3,
      "outputs": [
        {
          "output_type": "execute_result",
          "data": {
            "text/plain": [
              "4"
            ]
          },
          "metadata": {},
          "execution_count": 3
        }
      ]
    },
    {
      "cell_type": "code",
      "source": [
        "a[-1] #마지막 요소값"
      ],
      "metadata": {
        "colab": {
          "base_uri": "https://localhost:8080/"
        },
        "id": "PwIUQINOb_Dx",
        "outputId": "1cc71475-4042-4521-af1b-449b1171ce55"
      },
      "execution_count": 4,
      "outputs": [
        {
          "output_type": "execute_result",
          "data": {
            "text/plain": [
              "3"
            ]
          },
          "metadata": {},
          "execution_count": 4
        }
      ]
    },
    {
      "cell_type": "code",
      "source": [
        "a = [1,2,3,['a','b','c']]\n",
        "print(a[0])\n",
        "print(a[-1][0])\n",
        "print(a[-1][1])\n",
        "print(a[-1][2])\n",
        "#2차원 배열을 출력하려면 [행][열]을 생각하면 됨"
      ],
      "metadata": {
        "colab": {
          "base_uri": "https://localhost:8080/"
        },
        "id": "IcQsf-32cSwh",
        "outputId": "f7092c1f-6988-4208-a6c8-842d4a57ae92"
      },
      "execution_count": 8,
      "outputs": [
        {
          "output_type": "stream",
          "name": "stdout",
          "text": [
            "1\n",
            "a\n",
            "b\n",
            "c\n"
          ]
        }
      ]
    },
    {
      "cell_type": "code",
      "source": [
        "\"\"\"\n",
        "3차원 배열\n",
        "└ 사진, 영상처리, 게임\n",
        "   └ 가로*세로: 픽셀 / 깊이: RGB 컬러\n",
        "\"\"\"\n",
        "member = [[\"김기자\",[\"교사\",312]],[\"나기자\",[\"학생\",312]],[\"다기자\",[\"학생2\",311]],[\"라기자\",[\"학생3\",315]]]\n",
        "print(member[1][1][1])"
      ],
      "metadata": {
        "colab": {
          "base_uri": "https://localhost:8080/"
        },
        "id": "EqXIcQksdK26",
        "outputId": "be743452-d27a-4f88-dba0-b52f472e21b0"
      },
      "execution_count": 10,
      "outputs": [
        {
          "output_type": "stream",
          "name": "stdout",
          "text": [
            "312\n"
          ]
        }
      ]
    },
    {
      "cell_type": "code",
      "source": [
        "\"\"\"\n",
        "리스트 슬라이싱\n",
        "\"\"\"\n",
        "a = [1,2,3,4,5]\n",
        "a[0:2]"
      ],
      "metadata": {
        "colab": {
          "base_uri": "https://localhost:8080/"
        },
        "id": "48I_Ly-hlf7m",
        "outputId": "be3aa440-1a7b-41a0-a40e-4c33d176d631"
      },
      "execution_count": 12,
      "outputs": [
        {
          "output_type": "execute_result",
          "data": {
            "text/plain": [
              "[1, 2]"
            ]
          },
          "metadata": {},
          "execution_count": 12
        }
      ]
    },
    {
      "cell_type": "code",
      "source": [
        "#처음부터 2번째 앞까지\n",
        "a[:2]"
      ],
      "metadata": {
        "colab": {
          "base_uri": "https://localhost:8080/"
        },
        "id": "rtO4XGztl8jl",
        "outputId": "df830c75-19c9-4aaa-c515-634368a091c8"
      },
      "execution_count": 13,
      "outputs": [
        {
          "output_type": "execute_result",
          "data": {
            "text/plain": [
              "[1, 2]"
            ]
          },
          "metadata": {},
          "execution_count": 13
        }
      ]
    },
    {
      "cell_type": "code",
      "source": [
        "#2번째 열부터 마지막까지\n",
        "a[2:]"
      ],
      "metadata": {
        "colab": {
          "base_uri": "https://localhost:8080/"
        },
        "id": "QYDQRqqKmCzl",
        "outputId": "a8a95b1a-f682-450c-83b1-96cf562e1dca"
      },
      "execution_count": 14,
      "outputs": [
        {
          "output_type": "execute_result",
          "data": {
            "text/plain": [
              "[3, 4, 5]"
            ]
          },
          "metadata": {},
          "execution_count": 14
        }
      ]
    },
    {
      "cell_type": "code",
      "source": [
        "a = [1,2,3,['a','b','c'],4,5]\n",
        "a[2:5]"
      ],
      "metadata": {
        "colab": {
          "base_uri": "https://localhost:8080/"
        },
        "id": "cqnZE0PtmTR0",
        "outputId": "77074bc0-7981-472f-e256-d110cd7b02ee"
      },
      "execution_count": 19,
      "outputs": [
        {
          "output_type": "execute_result",
          "data": {
            "text/plain": [
              "[3, ['a', 'b', 'c'], 4]"
            ]
          },
          "metadata": {},
          "execution_count": 19
        }
      ]
    },
    {
      "cell_type": "code",
      "source": [
        "\"\"\"\n",
        "미션 b, c 슬라이싱\n",
        "\"\"\"\n",
        "a[3][1:]"
      ],
      "metadata": {
        "colab": {
          "base_uri": "https://localhost:8080/"
        },
        "id": "HnM1NnyPmxkn",
        "outputId": "11b6cb90-43a3-46da-b4d6-e2cca63a14aa"
      },
      "execution_count": 20,
      "outputs": [
        {
          "output_type": "execute_result",
          "data": {
            "text/plain": [
              "['b', 'c']"
            ]
          },
          "metadata": {},
          "execution_count": 20
        }
      ]
    },
    {
      "cell_type": "code",
      "source": [
        "\"\"\"\n",
        "리스트 연산 +, x 를 활용할 수 있다\n",
        "\"\"\"\n",
        "a = [1,2,3]\n",
        "b = [4,5,6]\n",
        "a + b\n",
        "#문자열의 + 계산과 유사"
      ],
      "metadata": {
        "colab": {
          "base_uri": "https://localhost:8080/"
        },
        "id": "4JEnOScGnD8k",
        "outputId": "c4cf9932-e8ae-4f85-b025-603129da8552"
      },
      "execution_count": 25,
      "outputs": [
        {
          "output_type": "execute_result",
          "data": {
            "text/plain": [
              "[1, 2, 3, 4, 5, 6]"
            ]
          },
          "metadata": {},
          "execution_count": 25
        }
      ]
    },
    {
      "cell_type": "code",
      "source": [
        "a3 = a * 3\n",
        "a3"
      ],
      "metadata": {
        "colab": {
          "base_uri": "https://localhost:8080/"
        },
        "id": "KlztdQlbne2E",
        "outputId": "5d0235be-bfa2-431a-83c5-c9a5cefb5b69"
      },
      "execution_count": 33,
      "outputs": [
        {
          "output_type": "execute_result",
          "data": {
            "text/plain": [
              "[1, 2, 3, 1, 2, 3, 1, 2, 3]"
            ]
          },
          "metadata": {},
          "execution_count": 33
        }
      ]
    },
    {
      "cell_type": "code",
      "source": [
        "#리스트 길이 구하기\n",
        "len(a*3)"
      ],
      "metadata": {
        "colab": {
          "base_uri": "https://localhost:8080/"
        },
        "id": "h_z0rYOCnu3M",
        "outputId": "e387b01d-2cba-4312-84d5-6fd4d7470f6e"
      },
      "execution_count": 35,
      "outputs": [
        {
          "output_type": "execute_result",
          "data": {
            "text/plain": [
              "9"
            ]
          },
          "metadata": {},
          "execution_count": 35
        }
      ]
    },
    {
      "cell_type": "code",
      "source": [
        "\"\"\"\n",
        "리스트에 글자 추가하기\n",
        "\"\"\"\n",
        "a = [1,2,3]\n",
        "a[2] + \"hi\"\n",
        "#3은 정수인데 스트링이 뒤에 붙어서 타입 에러가 뜸\n",
        "a"
      ],
      "metadata": {
        "colab": {
          "base_uri": "https://localhost:8080/",
          "height": 201
        },
        "id": "fnCsABNun4w0",
        "outputId": "56675956-2fbc-43a0-ce96-e475ca8aa479"
      },
      "execution_count": 39,
      "outputs": [
        {
          "output_type": "error",
          "ename": "TypeError",
          "evalue": "unsupported operand type(s) for +: 'int' and 'str'",
          "traceback": [
            "\u001b[0;31m---------------------------------------------------------------------------\u001b[0m",
            "\u001b[0;31mTypeError\u001b[0m                                 Traceback (most recent call last)",
            "\u001b[0;32m<ipython-input-39-c365ae3f0f2f>\u001b[0m in \u001b[0;36m<cell line: 5>\u001b[0;34m()\u001b[0m\n\u001b[1;32m      3\u001b[0m \"\"\"\n\u001b[1;32m      4\u001b[0m \u001b[0ma\u001b[0m \u001b[0;34m=\u001b[0m \u001b[0;34m[\u001b[0m\u001b[0;36m1\u001b[0m\u001b[0;34m,\u001b[0m\u001b[0;36m2\u001b[0m\u001b[0;34m,\u001b[0m\u001b[0;36m3\u001b[0m\u001b[0;34m]\u001b[0m\u001b[0;34m\u001b[0m\u001b[0;34m\u001b[0m\u001b[0m\n\u001b[0;32m----> 5\u001b[0;31m \u001b[0ma\u001b[0m\u001b[0;34m[\u001b[0m\u001b[0;36m2\u001b[0m\u001b[0;34m]\u001b[0m \u001b[0;34m+\u001b[0m \u001b[0;34m\"hi\"\u001b[0m\u001b[0;34m\u001b[0m\u001b[0;34m\u001b[0m\u001b[0m\n\u001b[0m\u001b[1;32m      6\u001b[0m \u001b[0ma\u001b[0m\u001b[0;34m\u001b[0m\u001b[0;34m\u001b[0m\u001b[0m\n",
            "\u001b[0;31mTypeError\u001b[0m: unsupported operand type(s) for +: 'int' and 'str'"
          ]
        }
      ]
    },
    {
      "cell_type": "code",
      "source": [
        "str(a[2]) + \"hi\"\n",
        "#정수를 문자열로 변환 후 hi를 붙이니 오류가 안 남"
      ],
      "metadata": {
        "colab": {
          "base_uri": "https://localhost:8080/",
          "height": 35
        },
        "id": "Sl-Yj-yAotK8",
        "outputId": "8318b9d3-45e4-446b-e9cd-b052ee820941"
      },
      "execution_count": 44,
      "outputs": [
        {
          "output_type": "execute_result",
          "data": {
            "text/plain": [
              "'3hi'"
            ],
            "application/vnd.google.colaboratory.intrinsic+json": {
              "type": "string"
            }
          },
          "metadata": {},
          "execution_count": 44
        }
      ]
    },
    {
      "cell_type": "code",
      "source": [
        "\"\"\"\n",
        "리스트 값을 수정 및 삭제\n",
        "\"\"\"\n",
        "a = [1,2,3]\n",
        "a[2] = 4\n",
        "a"
      ],
      "metadata": {
        "colab": {
          "base_uri": "https://localhost:8080/"
        },
        "id": "Fi7nlg6ipQnk",
        "outputId": "4ac8916d-02b5-4767-904e-0a2b5ae64375"
      },
      "execution_count": 46,
      "outputs": [
        {
          "output_type": "execute_result",
          "data": {
            "text/plain": [
              "[1, 2, 4]"
            ]
          },
          "metadata": {},
          "execution_count": 46
        }
      ]
    },
    {
      "cell_type": "code",
      "source": [
        "del a[2]\n",
        "a\n",
        "#del은 해당 리스트의 값을 지운다."
      ],
      "metadata": {
        "colab": {
          "base_uri": "https://localhost:8080/"
        },
        "id": "sXmglcBqpeO1",
        "outputId": "93fbb78b-56a6-4aae-a4b8-1617e316fbd0"
      },
      "execution_count": 50,
      "outputs": [
        {
          "output_type": "execute_result",
          "data": {
            "text/plain": [
              "[1, 2]"
            ]
          },
          "metadata": {},
          "execution_count": 50
        }
      ]
    },
    {
      "cell_type": "code",
      "source": [
        "a = [1,2,3,4,5]\n",
        "del a[2:]\n",
        "a\n",
        "#remove, pop, del 모두 리스트 제거용 함수\n",
        "#a.remove(2:)\n",
        "#a.pop(2:)"
      ],
      "metadata": {
        "colab": {
          "base_uri": "https://localhost:8080/"
        },
        "id": "Kpi_c7Vcp64b",
        "outputId": "08d25967-b138-4006-d162-5b8d1bd85caf"
      },
      "execution_count": 51,
      "outputs": [
        {
          "output_type": "execute_result",
          "data": {
            "text/plain": [
              "[1, 2]"
            ]
          },
          "metadata": {},
          "execution_count": 51
        }
      ]
    },
    {
      "cell_type": "code",
      "source": [
        "\"\"\"\n",
        "리스트 관련 함수\n",
        ".append()\n",
        "└ 이미 만들어진 리스트에 객체를 추가\n",
        "\"\"\"\n",
        "a = [1,2,3]\n",
        "a.append(4)\n",
        "a"
      ],
      "metadata": {
        "colab": {
          "base_uri": "https://localhost:8080/"
        },
        "id": "Qo7Hd82tqbYk",
        "outputId": "b26d483c-919b-4c1c-fc6f-4b9453b6fa81"
      },
      "execution_count": 52,
      "outputs": [
        {
          "output_type": "execute_result",
          "data": {
            "text/plain": [
              "[1, 2, 3, 4]"
            ]
          },
          "metadata": {},
          "execution_count": 52
        }
      ]
    },
    {
      "cell_type": "code",
      "source": [
        "a.append([5,6])\n",
        "a[4][0]"
      ],
      "metadata": {
        "colab": {
          "base_uri": "https://localhost:8080/"
        },
        "id": "aOFSUFgwq4Tb",
        "outputId": "05b77632-0128-4c5f-d982-c8d737c193df"
      },
      "execution_count": 55,
      "outputs": [
        {
          "output_type": "execute_result",
          "data": {
            "text/plain": [
              "5"
            ]
          },
          "metadata": {},
          "execution_count": 55
        }
      ]
    },
    {
      "cell_type": "code",
      "source": [
        "\"\"\"\n",
        "sort()\n",
        "└ 리스트의 요소를 순서대로 정렬(오름차순)\n",
        "reverse()\n",
        "└ 리스트의 요소를 순서대로 정렬(내림차순)\n",
        "\"\"\"\n",
        "a = [1,4,3,2]\n",
        "a.sort()\n",
        "a"
      ],
      "metadata": {
        "colab": {
          "base_uri": "https://localhost:8080/"
        },
        "id": "Uire3RR6rDmq",
        "outputId": "d4d0bfec-fa73-42ac-eddb-771d7f72623a"
      },
      "execution_count": 57,
      "outputs": [
        {
          "output_type": "execute_result",
          "data": {
            "text/plain": [
              "[1, 2, 3, 4]"
            ]
          },
          "metadata": {},
          "execution_count": 57
        }
      ]
    },
    {
      "cell_type": "code",
      "source": [
        "a.reverse()\n",
        "a"
      ],
      "metadata": {
        "colab": {
          "base_uri": "https://localhost:8080/"
        },
        "id": "pkqxVxMRssvd",
        "outputId": "4a472bf3-eb52-4199-bdac-04b7e9b26c42"
      },
      "execution_count": 58,
      "outputs": [
        {
          "output_type": "execute_result",
          "data": {
            "text/plain": [
              "[4, 3, 2, 1]"
            ]
          },
          "metadata": {},
          "execution_count": 58
        }
      ]
    },
    {
      "cell_type": "code",
      "source": [
        "#단, 타입이 다르면 정렬이 되지 않는다.\n",
        "a = [6,'이혜린','a','@']\n",
        "a.sort\n",
        "a"
      ],
      "metadata": {
        "colab": {
          "base_uri": "https://localhost:8080/"
        },
        "id": "uN4Vn6ypwt5A",
        "outputId": "cf03dd38-0932-4f8b-ee76-14c6369166db"
      },
      "execution_count": 60,
      "outputs": [
        {
          "output_type": "execute_result",
          "data": {
            "text/plain": [
              "[6, '이혜린', 'a', '@']"
            ]
          },
          "metadata": {},
          "execution_count": 60
        }
      ]
    },
    {
      "cell_type": "code",
      "source": [
        "a.reverse\n",
        "a"
      ],
      "metadata": {
        "colab": {
          "base_uri": "https://localhost:8080/"
        },
        "id": "4m1K_QCkw5cA",
        "outputId": "a3d926b7-83a6-4f42-cb44-f40dd9cf0d65"
      },
      "execution_count": 61,
      "outputs": [
        {
          "output_type": "execute_result",
          "data": {
            "text/plain": [
              "[6, '이혜린', 'a', '@']"
            ]
          },
          "metadata": {},
          "execution_count": 61
        }
      ]
    },
    {
      "cell_type": "code",
      "source": [
        "b = ['a','z','d','c','g']\n",
        "b.sort()\n",
        "b"
      ],
      "metadata": {
        "colab": {
          "base_uri": "https://localhost:8080/"
        },
        "id": "zdhvn5T0xRWn",
        "outputId": "98e1b4b8-ce08-4344-b451-75ef1e8cdd2e"
      },
      "execution_count": 63,
      "outputs": [
        {
          "output_type": "execute_result",
          "data": {
            "text/plain": [
              "['a', 'c', 'd', 'g', 'z']"
            ]
          },
          "metadata": {},
          "execution_count": 63
        }
      ]
    },
    {
      "cell_type": "code",
      "source": [
        "c = [\"김기원\",\"김지선\",\"윤인영\",\"육진\"]\n",
        "c.sort()\n",
        "c"
      ],
      "metadata": {
        "colab": {
          "base_uri": "https://localhost:8080/"
        },
        "id": "LDzCsUe3xbzn",
        "outputId": "c1f9a513-205e-4ca8-c879-98ac4929148f"
      },
      "execution_count": 64,
      "outputs": [
        {
          "output_type": "execute_result",
          "data": {
            "text/plain": [
              "['김기원', '김지선', '육진', '윤인영']"
            ]
          },
          "metadata": {},
          "execution_count": 64
        }
      ]
    },
    {
      "cell_type": "code",
      "source": [
        "\"\"\"\n",
        "인덱스 반환\n",
        "└ .index(값)\n",
        "\"\"\"\n",
        "a = [1,2,3]\n",
        "a.index(3)"
      ],
      "metadata": {
        "colab": {
          "base_uri": "https://localhost:8080/"
        },
        "id": "MRBkS390xrRg",
        "outputId": "b82e7a28-54f8-4622-e8a8-5f55de762478"
      },
      "execution_count": 65,
      "outputs": [
        {
          "output_type": "execute_result",
          "data": {
            "text/plain": [
              "2"
            ]
          },
          "metadata": {},
          "execution_count": 65
        }
      ]
    },
    {
      "cell_type": "code",
      "source": [
        "a.index(1)"
      ],
      "metadata": {
        "colab": {
          "base_uri": "https://localhost:8080/"
        },
        "id": "iWKdaN4PyNAH",
        "outputId": "15f3a479-064b-4de4-c412-ed7bf90a8b74"
      },
      "execution_count": 67,
      "outputs": [
        {
          "output_type": "execute_result",
          "data": {
            "text/plain": [
              "0"
            ]
          },
          "metadata": {},
          "execution_count": 67
        }
      ]
    },
    {
      "cell_type": "code",
      "source": [
        "a.index(4)\n",
        "#a 배열에 4가 없기 때문에 valueError가 생김"
      ],
      "metadata": {
        "colab": {
          "base_uri": "https://localhost:8080/",
          "height": 147
        },
        "id": "R9sGDtA2yTUg",
        "outputId": "e85e1c78-76ae-4ac6-9a41-a9403c103aad"
      },
      "execution_count": 68,
      "outputs": [
        {
          "output_type": "error",
          "ename": "ValueError",
          "evalue": "4 is not in list",
          "traceback": [
            "\u001b[0;31m---------------------------------------------------------------------------\u001b[0m",
            "\u001b[0;31mValueError\u001b[0m                                Traceback (most recent call last)",
            "\u001b[0;32m<ipython-input-68-bca86892130e>\u001b[0m in \u001b[0;36m<cell line: 1>\u001b[0;34m()\u001b[0m\n\u001b[0;32m----> 1\u001b[0;31m \u001b[0ma\u001b[0m\u001b[0;34m.\u001b[0m\u001b[0mindex\u001b[0m\u001b[0;34m(\u001b[0m\u001b[0;36m4\u001b[0m\u001b[0;34m)\u001b[0m\u001b[0;34m\u001b[0m\u001b[0;34m\u001b[0m\u001b[0m\n\u001b[0m",
            "\u001b[0;31mValueError\u001b[0m: 4 is not in list"
          ]
        }
      ]
    },
    {
      "cell_type": "code",
      "source": [
        "\"\"\"\n",
        "리스트에 요소 삽입\n",
        ".insert(index,value)\n",
        "\"\"\"\n",
        "a = [1,2,3]\n",
        "a.insert(1,4)\n",
        "#0번째에 4 값을 추가 및 기존 값은 인덱스가 밀린다.\n",
        "a"
      ],
      "metadata": {
        "colab": {
          "base_uri": "https://localhost:8080/"
        },
        "id": "7JrBhf4RybN_",
        "outputId": "a9f76a04-043b-4291-a9de-c00d3e04a40b"
      },
      "execution_count": 74,
      "outputs": [
        {
          "output_type": "execute_result",
          "data": {
            "text/plain": [
              "[1, 4, 2, 3]"
            ]
          },
          "metadata": {},
          "execution_count": 74
        }
      ]
    },
    {
      "cell_type": "code",
      "source": [
        "a.insert(3,5)\n",
        "a"
      ],
      "metadata": {
        "colab": {
          "base_uri": "https://localhost:8080/"
        },
        "id": "dkmoCVQYzaYA",
        "outputId": "a020ba0b-1bbf-4a69-9ced-68bd8def3473"
      },
      "execution_count": 75,
      "outputs": [
        {
          "output_type": "execute_result",
          "data": {
            "text/plain": [
              "[1, 4, 2, 5, 3]"
            ]
          },
          "metadata": {},
          "execution_count": 75
        }
      ]
    },
    {
      "cell_type": "code",
      "source": [
        "\"\"\"\n",
        ".remove(value)\n",
        "() 안의 값이 사라진다.\n",
        "\"\"\"\n",
        "a = [1,2,3,5,7]\n",
        "a.remove(1)\n",
        "a"
      ],
      "metadata": {
        "colab": {
          "base_uri": "https://localhost:8080/"
        },
        "id": "2qR1-HBjznFW",
        "outputId": "f278f6dd-d34b-468e-ec2c-63565c557d74"
      },
      "execution_count": 77,
      "outputs": [
        {
          "output_type": "execute_result",
          "data": {
            "text/plain": [
              "[2, 3, 5, 7]"
            ]
          },
          "metadata": {},
          "execution_count": 77
        }
      ]
    },
    {
      "cell_type": "code",
      "source": [
        "b = [3,1,3,1,3,5,7]\n",
        "b.remove(3)\n",
        "#.remove는 지우고자 하는 값이 여러개여도 맨 앞의 값만 지우고 끝난다\n",
        "b"
      ],
      "metadata": {
        "colab": {
          "base_uri": "https://localhost:8080/"
        },
        "id": "DxVAw6naz9um",
        "outputId": "38af2e9a-1d87-49fb-fd20-08fe4d5fd111"
      },
      "execution_count": 80,
      "outputs": [
        {
          "output_type": "execute_result",
          "data": {
            "text/plain": [
              "[1, 3, 1, 3, 5, 7]"
            ]
          },
          "metadata": {},
          "execution_count": 80
        }
      ]
    },
    {
      "cell_type": "code",
      "source": [
        "b.remove(3)\n",
        "b"
      ],
      "metadata": {
        "colab": {
          "base_uri": "https://localhost:8080/"
        },
        "id": "QhD91_rj0QmO",
        "outputId": "dac59999-6237-4c0a-b30d-f19800378a39"
      },
      "execution_count": 81,
      "outputs": [
        {
          "output_type": "execute_result",
          "data": {
            "text/plain": [
              "[1, 1, 3, 5, 7]"
            ]
          },
          "metadata": {},
          "execution_count": 81
        }
      ]
    },
    {
      "cell_type": "code",
      "source": [
        "\"\"\"\n",
        "리스트 요소 끄집어 내기\n",
        ".pop(index)\n",
        "index가 비어있으면 맨 뒤의 값을 꺼내온다.\n",
        "\"\"\"\n",
        "c = [1,2,3,4,5,6]\n",
        "d = c.pop()\n",
        "c"
      ],
      "metadata": {
        "colab": {
          "base_uri": "https://localhost:8080/"
        },
        "id": "cmLnz1Ay0aiW",
        "outputId": "c8c2aea2-38af-47f5-c6cd-bf553724c4fa"
      },
      "execution_count": 88,
      "outputs": [
        {
          "output_type": "execute_result",
          "data": {
            "text/plain": [
              "[1, 2, 3, 4, 5]"
            ]
          },
          "metadata": {},
          "execution_count": 88
        }
      ]
    },
    {
      "cell_type": "code",
      "source": [
        "c.pop(3)\n",
        "c"
      ],
      "metadata": {
        "colab": {
          "base_uri": "https://localhost:8080/"
        },
        "id": "-nQeUsJk1Jon",
        "outputId": "1d4e364d-6b16-4bc6-be45-d748424fb45e"
      },
      "execution_count": 89,
      "outputs": [
        {
          "output_type": "execute_result",
          "data": {
            "text/plain": [
              "[1, 2, 3, 5]"
            ]
          },
          "metadata": {},
          "execution_count": 89
        }
      ]
    },
    {
      "cell_type": "code",
      "source": [
        "\"\"\"\n",
        ".count(value)\n",
        "해당 value 값이 몇 개 있는지 세어준다.\n",
        "\"\"\"\n",
        "d = [3,1,3,1,3,1,3,15,3,2]\n",
        "d.count(3)"
      ],
      "metadata": {
        "colab": {
          "base_uri": "https://localhost:8080/"
        },
        "id": "V2OaXUlL1M1V",
        "outputId": "1d311003-6c8f-4c59-a2a9-c0a0a42cb04a"
      },
      "execution_count": 93,
      "outputs": [
        {
          "output_type": "execute_result",
          "data": {
            "text/plain": [
              "5"
            ]
          },
          "metadata": {},
          "execution_count": 93
        }
      ]
    },
    {
      "cell_type": "code",
      "source": [
        "len(d)"
      ],
      "metadata": {
        "colab": {
          "base_uri": "https://localhost:8080/"
        },
        "id": "p33yzU8y18m2",
        "outputId": "2b756b56-49c8-4274-f35f-862635360be5"
      },
      "execution_count": 95,
      "outputs": [
        {
          "output_type": "execute_result",
          "data": {
            "text/plain": [
              "10"
            ]
          },
          "metadata": {},
          "execution_count": 95
        }
      ]
    },
    {
      "cell_type": "code",
      "source": [
        "\"\"\"\n",
        "list 확장\n",
        ".extend(x)\n",
        "└ x는 리스트만 올 수 있음\n",
        "└ a[] + x[]\n",
        "\"\"\"\n",
        "e = [1,2,3]\n",
        "e.extend([4,5])\n",
        "e"
      ],
      "metadata": {
        "colab": {
          "base_uri": "https://localhost:8080/"
        },
        "id": "2UWuPCwT2ImO",
        "outputId": "ddfaaefa-4795-4959-bd1c-bb56c01f827b"
      },
      "execution_count": 100,
      "outputs": [
        {
          "output_type": "execute_result",
          "data": {
            "text/plain": [
              "[1, 2, 3, 4, 5]"
            ]
          },
          "metadata": {},
          "execution_count": 100
        }
      ]
    },
    {
      "cell_type": "code",
      "source": [
        "f = [6,7,8]\n",
        "e.extend(f)\n",
        "e"
      ],
      "metadata": {
        "colab": {
          "base_uri": "https://localhost:8080/"
        },
        "id": "c8uFSCUi2hTM",
        "outputId": "4e3bff95-2f8e-4f6f-916c-cef350f88190"
      },
      "execution_count": 101,
      "outputs": [
        {
          "output_type": "execute_result",
          "data": {
            "text/plain": [
              "[1, 2, 3, 4, 5, 6, 7, 8]"
            ]
          },
          "metadata": {},
          "execution_count": 101
        }
      ]
    }
  ]
}