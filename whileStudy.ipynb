{
  "nbformat": 4,
  "nbformat_minor": 0,
  "metadata": {
    "colab": {
      "provenance": [],
      "authorship_tag": "ABX9TyMbJxvVYN+DNMmfLNiP7U40",
      "include_colab_link": true
    },
    "kernelspec": {
      "name": "python3",
      "display_name": "Python 3"
    },
    "language_info": {
      "name": "python"
    }
  },
  "cells": [
    {
      "cell_type": "markdown",
      "metadata": {
        "id": "view-in-github",
        "colab_type": "text"
      },
      "source": [
        "<a href=\"https://colab.research.google.com/github/leehyell/pythonStudy24/blob/master/whileStudy.ipynb\" target=\"_parent\"><img src=\"https://colab.research.google.com/assets/colab-badge.svg\" alt=\"Open In Colab\"/></a>"
      ]
    },
    {
      "cell_type": "markdown",
      "source": [
        "###while문\n",
        "####while문이란?\n",
        "문장을 반복하여 수행해야 되는 경우 활용(반복문)\n",
        "반복문은 여러 데이터를 처리해야 하는 경우 사용\n",
        "if문에서 성적처리를 할 때 1명의 데이터를 처리하나 입력을 여러 명 받아서 더 큰 프로그램을 만들 수 있다.\n",
        "반복문은 while, for문으로 활용된다.\n",
        "* while문: max가 없는 반복문일 때\n",
        "* for문  : max가 정해져 있는 반복문일 때\n",
        "\n",
        "while 조건문:\n",
        "    실행문1\n",
        "    실행문2\n",
        "    실행문3\n",
        "    ...\n",
        "\n",
        "자바에서는 중괄호(`{}`)로 실행문 블럭을 만드나 파이썬은 `{}`를 들여쓰기로 판단"
      ],
      "metadata": {
        "id": "UbzSNX9yfLda"
      }
    },
    {
      "cell_type": "code",
      "execution_count": null,
      "metadata": {
        "colab": {
          "base_uri": "https://localhost:8080/"
        },
        "id": "r0gcZjenfBd_",
        "outputId": "80b4b5ea-6840-41df-d5de-11d66fbb7af6"
      },
      "outputs": [
        {
          "output_type": "stream",
          "name": "stdout",
          "text": [
            "나무를 1번 찍었습니다.\n",
            "나무 아직 안 넘어갑니다.\n",
            "나무를 2번 찍었습니다.\n",
            "나무 아직 안 넘어갑니다.\n",
            "나무를 3번 찍었습니다.\n",
            "나무 아직 안 넘어갑니다.\n",
            "나무를 4번 찍었습니다.\n",
            "나무 아직 안 넘어갑니다.\n",
            "나무를 5번 찍었습니다.\n",
            "나무 아직 안 넘어갑니다.\n",
            "나무를 6번 찍었습니다.\n",
            "나무 아직 안 넘어갑니다.\n",
            "나무를 7번 찍었습니다.\n",
            "나무 아직 안 넘어갑니다.\n",
            "나무를 8번 찍었습니다.\n",
            "나무 아직 안 넘어갑니다.\n",
            "나무를 9번 찍었습니다.\n",
            "나무 아직 안 넘어갑니다.\n",
            "나무를 10번 찍었습니다.\n",
            "나무 넘어갑니다.\n"
          ]
        }
      ],
      "source": [
        "#10번 찍어 안 넘어가는 나무 없다\n",
        "treeHit = 0\n",
        "while treeHit < 10: #조건: treeHit이 10보다 작으면\n",
        "    treeHit = treeHit + 1\n",
        "    print(\"나무를 %d번 찍었습니다.\" % treeHit)\n",
        "    if treeHit == 10:\n",
        "        print(\"나무 넘어갑니다.\")\n",
        "    else:\n",
        "        print(\"나무 아직 안 넘어갑니다.\")"
      ]
    },
    {
      "cell_type": "code",
      "source": [
        "#콘솔에서 프로그램 만들어 보기\n",
        "number = 0\n",
        "prompt = \"\"\"\n",
        "1. 학생 가입\n",
        "2. 성적 입력\n",
        "3. 성적 출력\n",
        "4. Quit\n",
        "Enter number:\n",
        "\"\"\"\n",
        "number = 0          #키보드로 전달되는 변수 초기값\n",
        "while number != 4:  #4가 아닐 때까지 반복문 -> 4 입력 시 while문 종료\n",
        "    print(prompt)   #4가 아닐 때 prompt 출력\n",
        "    number = int(input(\">> 어떤 행동을 하시겠습니까?\")) #반복 중에 입력 받을 프롬프트 비교 값"
      ],
      "metadata": {
        "colab": {
          "base_uri": "https://localhost:8080/",
          "height": 355
        },
        "id": "ZXPTEj4zhzdw",
        "outputId": "5bcc8010-103a-4a92-9560-07b0c4cd8156"
      },
      "execution_count": null,
      "outputs": [
        {
          "output_type": "error",
          "ename": "KeyboardInterrupt",
          "evalue": "Interrupted by user",
          "traceback": [
            "\u001b[0;31m---------------------------------------------------------------------------\u001b[0m",
            "\u001b[0;31mKeyboardInterrupt\u001b[0m                         Traceback (most recent call last)",
            "\u001b[0;32m<ipython-input-8-bce30a8da87e>\u001b[0m in \u001b[0;36m<cell line: 10>\u001b[0;34m()\u001b[0m\n\u001b[1;32m      9\u001b[0m \"\"\"\n\u001b[1;32m     10\u001b[0m \u001b[0;32mwhile\u001b[0m \u001b[0mnumber\u001b[0m \u001b[0;34m!=\u001b[0m \u001b[0;36m4\u001b[0m\u001b[0;34m:\u001b[0m\u001b[0;34m\u001b[0m\u001b[0;34m\u001b[0m\u001b[0m\n\u001b[0;32m---> 11\u001b[0;31m     \u001b[0mnumber\u001b[0m \u001b[0;34m=\u001b[0m \u001b[0mint\u001b[0m\u001b[0;34m(\u001b[0m\u001b[0minput\u001b[0m\u001b[0;34m(\u001b[0m\u001b[0;34m\">> 어떤 행동을 하시겠습니까?\"\u001b[0m\u001b[0;34m)\u001b[0m\u001b[0;34m)\u001b[0m\u001b[0;34m\u001b[0m\u001b[0;34m\u001b[0m\u001b[0m\n\u001b[0m\u001b[1;32m     12\u001b[0m     \u001b[0mprint\u001b[0m\u001b[0;34m(\u001b[0m\u001b[0mprompt\u001b[0m\u001b[0;34m)\u001b[0m\u001b[0;34m\u001b[0m\u001b[0;34m\u001b[0m\u001b[0m\n",
            "\u001b[0;32m/usr/local/lib/python3.10/dist-packages/ipykernel/kernelbase.py\u001b[0m in \u001b[0;36mraw_input\u001b[0;34m(self, prompt)\u001b[0m\n\u001b[1;32m    849\u001b[0m                 \u001b[0;34m\"raw_input was called, but this frontend does not support input requests.\"\u001b[0m\u001b[0;34m\u001b[0m\u001b[0;34m\u001b[0m\u001b[0m\n\u001b[1;32m    850\u001b[0m             )\n\u001b[0;32m--> 851\u001b[0;31m         return self._input_request(str(prompt),\n\u001b[0m\u001b[1;32m    852\u001b[0m             \u001b[0mself\u001b[0m\u001b[0;34m.\u001b[0m\u001b[0m_parent_ident\u001b[0m\u001b[0;34m,\u001b[0m\u001b[0;34m\u001b[0m\u001b[0;34m\u001b[0m\u001b[0m\n\u001b[1;32m    853\u001b[0m             \u001b[0mself\u001b[0m\u001b[0;34m.\u001b[0m\u001b[0m_parent_header\u001b[0m\u001b[0;34m,\u001b[0m\u001b[0;34m\u001b[0m\u001b[0;34m\u001b[0m\u001b[0m\n",
            "\u001b[0;32m/usr/local/lib/python3.10/dist-packages/ipykernel/kernelbase.py\u001b[0m in \u001b[0;36m_input_request\u001b[0;34m(self, prompt, ident, parent, password)\u001b[0m\n\u001b[1;32m    893\u001b[0m             \u001b[0;32mexcept\u001b[0m \u001b[0mKeyboardInterrupt\u001b[0m\u001b[0;34m:\u001b[0m\u001b[0;34m\u001b[0m\u001b[0;34m\u001b[0m\u001b[0m\n\u001b[1;32m    894\u001b[0m                 \u001b[0;31m# re-raise KeyboardInterrupt, to truncate traceback\u001b[0m\u001b[0;34m\u001b[0m\u001b[0;34m\u001b[0m\u001b[0m\n\u001b[0;32m--> 895\u001b[0;31m                 \u001b[0;32mraise\u001b[0m \u001b[0mKeyboardInterrupt\u001b[0m\u001b[0;34m(\u001b[0m\u001b[0;34m\"Interrupted by user\"\u001b[0m\u001b[0;34m)\u001b[0m \u001b[0;32mfrom\u001b[0m \u001b[0;32mNone\u001b[0m\u001b[0;34m\u001b[0m\u001b[0;34m\u001b[0m\u001b[0m\n\u001b[0m\u001b[1;32m    896\u001b[0m             \u001b[0;32mexcept\u001b[0m \u001b[0mException\u001b[0m \u001b[0;32mas\u001b[0m \u001b[0me\u001b[0m\u001b[0;34m:\u001b[0m\u001b[0;34m\u001b[0m\u001b[0;34m\u001b[0m\u001b[0m\n\u001b[1;32m    897\u001b[0m                 \u001b[0mself\u001b[0m\u001b[0;34m.\u001b[0m\u001b[0mlog\u001b[0m\u001b[0;34m.\u001b[0m\u001b[0mwarning\u001b[0m\u001b[0;34m(\u001b[0m\u001b[0;34m\"Invalid Message:\"\u001b[0m\u001b[0;34m,\u001b[0m \u001b[0mexc_info\u001b[0m\u001b[0;34m=\u001b[0m\u001b[0;32mTrue\u001b[0m\u001b[0;34m)\u001b[0m\u001b[0;34m\u001b[0m\u001b[0;34m\u001b[0m\u001b[0m\n",
            "\u001b[0;31mKeyboardInterrupt\u001b[0m: Interrupted by user"
          ]
        }
      ]
    },
    {
      "cell_type": "code",
      "source": [
        "#커피 자판기 프로그램\n",
        "coffee = 10\n",
        "money = 300\n",
        "while money:\n",
        "    print(\"돈을 받았으니 커피를 줍니다.\")\n",
        "    coffee = coffee -1 #커피 한 잔씩 줄어듦\n",
        "    print(f\"남은 커피의 양은 {coffee}개입니다.\")\n",
        "    money = money + 300\n",
        "    if coffee == 0:\n",
        "        print(\"커피가 다 떨어졌습니다. 판매를 중지합니다.\")\n",
        "        print(f\"매출은 {money}원입니다.\")\n",
        "        break #가장 마지막에 쓰인 반복문을 종료해라"
      ],
      "metadata": {
        "colab": {
          "base_uri": "https://localhost:8080/"
        },
        "id": "yvoUoyA9kwen",
        "outputId": "8d78347d-23aa-4b26-fa73-b20e3e5a8434"
      },
      "execution_count": null,
      "outputs": [
        {
          "output_type": "stream",
          "name": "stdout",
          "text": [
            "돈을 받았으니 커피를 줍니다.\n",
            "남은 커피의 양은 9개입니다.\n",
            "돈을 받았으니 커피를 줍니다.\n",
            "남은 커피의 양은 8개입니다.\n",
            "돈을 받았으니 커피를 줍니다.\n",
            "남은 커피의 양은 7개입니다.\n",
            "돈을 받았으니 커피를 줍니다.\n",
            "남은 커피의 양은 6개입니다.\n",
            "돈을 받았으니 커피를 줍니다.\n",
            "남은 커피의 양은 5개입니다.\n",
            "돈을 받았으니 커피를 줍니다.\n",
            "남은 커피의 양은 4개입니다.\n",
            "돈을 받았으니 커피를 줍니다.\n",
            "남은 커피의 양은 3개입니다.\n",
            "돈을 받았으니 커피를 줍니다.\n",
            "남은 커피의 양은 2개입니다.\n",
            "돈을 받았으니 커피를 줍니다.\n",
            "남은 커피의 양은 1개입니다.\n",
            "돈을 받았으니 커피를 줍니다.\n",
            "남은 커피의 양은 0개입니다.\n",
            "커피가 다 떨어졌습니다. 판매를 중지합니다.\n",
            "매출은 3300원입니다.\n"
          ]
        }
      ]
    },
    {
      "cell_type": "code",
      "source": [
        "#미션\n",
        "#1. 관리자가 커피 가격과 커피명을 정하고 개수를 입력\n",
        "#2. 소비자가 커피를 구매하는데 잔돈이 나와야 함\n",
        "#3. 판매 종료 후 관리자가 커피 판매한 총액을 파악할 수 있어야 함\n",
        "def showCoffee(coffee,price,wlen,tot):#2번 눌렀을 때 재고 보여주기\n",
        "    print(f\"{coffee}:{price}원 & {wlen}/{tot}개\")\n",
        "    print(\"-\"*80)\n",
        "def makeCoffee(money,price,slen,wlen):#돈을 잘 받았을 때 커피 만들기\n",
        "    print(\"♡종업원이 맛있는 커피를 만듭니다♥\")\n",
        "    print(\"-\"*80)\n",
        "def nonCoffee():#커피가 없을 때\n",
        "    print(\"★\"*40)\n",
        "    print(\"커피가 다 떨어졌습니다. 판매 재개를 기다려주세요.\")\n",
        "    print(\"-\"*80)\n",
        "    print(\"판매개수         판매금액\")\n",
        "    print(f\"  {tot}개            {tot * price}원\")\n",
        "\n",
        "print(\"어서오세요, 커피 테이크아웃 전문점입니다.\")\n",
        "while True:\n",
        "    print(\"=\"*80)\n",
        "    num = input(\"관리자면 1번, 소비자면 2번, 종료는 0번을 입력해주세요: \")\n",
        "    print(\"-\"*80)\n",
        "    if num == '1':\n",
        "        coffee = input(\">> 커피 이름 입력: \")\n",
        "        price = int(input(\">> 커피 가격 입력: \"))\n",
        "        wlen = int(input(\">> 커피 수량 입력: \"))\n",
        "        tot = wlen\n",
        "    elif num == '2':\n",
        "        if wlen == 0:\n",
        "            nonCoffee()\n",
        "        else:\n",
        "            showCoffee(coffee,price,wlen,tot)\n",
        "            money = int(input(\">> 돈을 넣어주세요: \"))\n",
        "            slen = int(input(\">> 몇 개를 뽑으시나요: \"))\n",
        "            if(slen > wlen):\n",
        "                print(\"재고가 부족합니다. 처음으로 되돌아갑니다.\")\n",
        "                continue\n",
        "            if money >= (price*slen):\n",
        "                makeCoffee(money,price,slen,wlen)\n",
        "                print(f\"재고: {wlen - slen}개 / 잔돈: {money-(price*slen)}원\")\n",
        "                wlen = wlen - slen\n",
        "\n",
        "                if wlen == 0:#재고 개수가 0개가 될 때\n",
        "                    nonCoffee()\n",
        "                    break\n",
        "            else:\n",
        "                print(\"!\"*80)\n",
        "                print(f\"돈이 부족합니다. {(price*slen) - money}원을 더 넣어주세요.\")\n",
        "                moremoney = int(input(\">> 돈을 넣어주세요: \"))\n",
        "                money = money + moremoney\n",
        "                if money >= (price*slen):\n",
        "                    makeCoffee(money,price,slen)\n",
        "                else:\n",
        "                    print(f\"돈이 부족합니다. 두 번의 오류로 인해 처음으로 되돌아 갑니다.\")\n",
        "    elif num == '0':\n",
        "        print(\"프로그램을 종료합니다.\")\n",
        "        break\n",
        "    else:\n",
        "        print(\"잘못된 입력입니다.\")"
      ],
      "metadata": {
        "id": "krXZw_gboa3t",
        "colab": {
          "base_uri": "https://localhost:8080/"
        },
        "outputId": "2ffab8d5-1639-46a9-9867-0b0016ca765d"
      },
      "execution_count": 101,
      "outputs": [
        {
          "output_type": "stream",
          "name": "stdout",
          "text": [
            "어서오세요, 커피 테이크아웃 전문점입니다.\n",
            "================================================================================\n",
            "관리자면 1번, 소비자면 2번, 종료는 0번을 입력해주세요: 1\n",
            "--------------------------------------------------------------------------------\n",
            ">> 커피 이름 입력: 달고나커피\n",
            ">> 커피 가격 입력: 5500\n",
            ">> 커피 수량 입력: 5\n",
            "================================================================================\n",
            "관리자면 1번, 소비자면 2번, 종료는 0번을 입력해주세요: 0\n",
            "--------------------------------------------------------------------------------\n",
            "프로그램을 종료합니다.\n"
          ]
        }
      ]
    },
    {
      "cell_type": "code",
      "source": [
        "#미션\n",
        "#1. 관리자가 커피 가격과 커피명을 정하고 개수를 입력\n",
        "#2. 소비자가 커피를 구매하는데 잔돈이 나와야 함\n",
        "#3. 판매 종료 후 관리자가 커피 판매한 총액을 파악할 수 있어야 함\n",
        "def showCoffee(coffee,price,wlen,tot):#2번 눌렀을 때 재고 보여주기\n",
        "    print(f\"{coffee}:{price}원 & {wlen}/{tot}개\")\n",
        "    print(\"-\"*80)\n",
        "def makeCoffee(money,price,slen,wlen):#돈을 잘 받았을 때 커피 만들기\n",
        "    print(\"-\"*80)\n",
        "    print(\"♡종업원이 맛있는 커피를 만듭니다♥\")\n",
        "    print(\"-\"*80)\n",
        "def nonCoffee():#커피 다 떨어졌을 때(재고X)\n",
        "    print(\"★\"*40)\n",
        "    print(\"커피가 다 떨어졌습니다. 판매 재개를 기다려주세요.\")\n",
        "    print(\"-\"*80)\n",
        "    print(\"판매개수         판매금액\")\n",
        "    print(f\"  {tot}개            {tot * price}원\")\n",
        "class lessMoney(Exception):#사용자지정 오류 클래스\n",
        "    pass\n",
        "class lessLen(Exception):\n",
        "    pass\n",
        "def lessmoney(money,slen):#유저가 입력한 금액과 개수를 비교\n",
        "    if money*slen < price*slen:#가격 비교\n",
        "        raise lessMoney\n",
        "    elif slen > wlen:#재고 확인\n",
        "        raise lessLen\n",
        "    else:\n",
        "        return money*slen #다 OK 되면 총 금액 넘기기\n",
        "\n",
        "print(\"어서오세요, 커피 테이크아웃 전문점입니다.\")\n",
        "while True:\n",
        "    print(\"=\"*80)\n",
        "    num = input(\"관리자면 1번, 소비자면 2번, 종료는 0번을 입력해주세요: \")\n",
        "    print(\"-\"*80)\n",
        "    if num == '1':\n",
        "        coffee = input(\">> 커피 이름 입력: \")\n",
        "        price = int(input(\">> 커피 가격 입력: \"))\n",
        "        wlen = int(input(\">> 커피 수량 입력: \"))\n",
        "        tot = wlen\n",
        "    elif num == '2':\n",
        "        if wlen == 0:\n",
        "            nonCoffee()\n",
        "        else:\n",
        "            showCoffee(coffee,price,wlen,tot)\n",
        "            while True:\n",
        "                try:\n",
        "                    money = int(input(\">> 돈을 넣어주세요: \"))\n",
        "                    slen = int(input(\">> 몇 개를 뽑으시나요: \"))\n",
        "                    totprice = lessmoney(money,slen)\n",
        "                    makeCoffee(money,price,slen,wlen)\n",
        "                    print(f\"재고: {wlen - slen}개 / 잔돈: {money-(price*slen)}원\")\n",
        "                    wlen = wlen - slen\n",
        "                    if wlen == 0:#재고 개수가 0개가 될 때\n",
        "                        nonCoffee()\n",
        "                        break\n",
        "                    break\n",
        "                except lessMoney:\n",
        "                    print(\"-\"*80)\n",
        "                    print(\"금액이 모자랍니다. 다시 입력해주세요.\")\n",
        "                    print(\"-\"*80)\n",
        "                except lessLen:\n",
        "                    print(\"-\"*80)\n",
        "                    print(\"재고가 부족합니다. 다시 입력해주세요.\")\n",
        "                    print(\"-\"*80)\n",
        "    elif num == '0':\n",
        "        print(\"프로그램을 종료합니다.\")\n",
        "        break\n",
        "    else:\n",
        "        print(\"잘못된 입력입니다.\")"
      ],
      "metadata": {
        "colab": {
          "base_uri": "https://localhost:8080/"
        },
        "id": "jklLwbTvByS5",
        "outputId": "9860123d-df43-4699-c7fb-26be064f493c"
      },
      "execution_count": null,
      "outputs": [
        {
          "output_type": "stream",
          "name": "stdout",
          "text": [
            "어서오세요, 커피 테이크아웃 전문점입니다.\n",
            "================================================================================\n",
            "관리자면 1번, 소비자면 2번, 종료는 0번을 입력해주세요: 2\n",
            "--------------------------------------------------------------------------------\n",
            "달고나커피:5500원 & 4/5개\n",
            "--------------------------------------------------------------------------------\n",
            ">> 돈을 넣어주세요: 5000\n",
            ">> 몇 개를 뽑으시나요: 1\n",
            "--------------------------------------------------------------------------------\n",
            "금액이 모자랍니다. 다시 입력해주세요.\n",
            "--------------------------------------------------------------------------------\n",
            ">> 돈을 넣어주세요: 11000\n",
            ">> 몇 개를 뽑으시나요: 2\n",
            "--------------------------------------------------------------------------------\n",
            "♡종업원이 맛있는 커피를 만듭니다♥\n",
            "--------------------------------------------------------------------------------\n",
            "재고: 2개 / 잔돈: 0원\n",
            "================================================================================\n",
            "관리자면 1번, 소비자면 2번, 종료는 0번을 입력해주세요: 2\n",
            "--------------------------------------------------------------------------------\n",
            "달고나커피:5500원 & 2/5개\n",
            "--------------------------------------------------------------------------------\n",
            ">> 돈을 넣어주세요: 11000\n",
            ">> 몇 개를 뽑으시나요: 2\n",
            "--------------------------------------------------------------------------------\n",
            "♡종업원이 맛있는 커피를 만듭니다♥\n",
            "--------------------------------------------------------------------------------\n",
            "재고: 0개 / 잔돈: 0원\n",
            "★★★★★★★★★★★★★★★★★★★★★★★★★★★★★★★★★★★★★★★★\n",
            "커피가 다 떨어졌습니다. 판매 재개를 기다려주세요.\n",
            "--------------------------------------------------------------------------------\n",
            "판매개수         판매금액\n",
            "  5개            27500원\n",
            "================================================================================\n",
            "관리자면 1번, 소비자면 2번, 종료는 0번을 입력해주세요: 2\n",
            "--------------------------------------------------------------------------------\n",
            "★★★★★★★★★★★★★★★★★★★★★★★★★★★★★★★★★★★★★★★★\n",
            "커피가 다 떨어졌습니다. 판매 재개를 기다려주세요.\n",
            "--------------------------------------------------------------------------------\n",
            "판매개수         판매금액\n",
            "  5개            27500원\n",
            "================================================================================\n",
            "관리자면 1번, 소비자면 2번, 종료는 0번을 입력해주세요: 1\n",
            "--------------------------------------------------------------------------------\n",
            ">> 커피 이름 입력: 달고나커피\n",
            ">> 커피 가격 입력: 5500\n",
            ">> 커피 수량 입력: 10\n",
            "================================================================================\n",
            "관리자면 1번, 소비자면 2번, 종료는 0번을 입력해주세요: 2\n",
            "--------------------------------------------------------------------------------\n",
            "달고나커피:5500원 & 10/10개\n",
            "--------------------------------------------------------------------------------\n",
            ">> 돈을 넣어주세요: 4000\n",
            ">> 몇 개를 뽑으시나요: 1\n",
            "--------------------------------------------------------------------------------\n",
            "금액이 모자랍니다. 다시 입력해주세요.\n",
            "--------------------------------------------------------------------------------\n",
            ">> 돈을 넣어주세요: 15000\n",
            ">> 몇 개를 뽑으시나요: 2\n",
            "--------------------------------------------------------------------------------\n",
            "♡종업원이 맛있는 커피를 만듭니다♥\n",
            "--------------------------------------------------------------------------------\n",
            "재고: 8개 / 잔돈: 4000원\n",
            "================================================================================\n"
          ]
        }
      ]
    }
  ]
}