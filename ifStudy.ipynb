{
  "cells": [
    {
      "cell_type": "markdown",
      "metadata": {
        "id": "view-in-github",
        "colab_type": "text"
      },
      "source": [
        "<a href=\"https://colab.research.google.com/github/leehyell/pythonStudy24/blob/master/ifStudy.ipynb\" target=\"_parent\"><img src=\"https://colab.research.google.com/assets/colab-badge.svg\" alt=\"Open In Colab\"/></a>"
      ]
    },
    {
      "cell_type": "markdown",
      "metadata": {
        "id": "_hJ-fVr3e6UT"
      },
      "source": [
        "###프로그램의 판단을 할 수 있는 조건문, if를 사용해본다.\n",
        "#####if문은 만약에 라는 의미를 가지고 있다. 결과는 참, 거짓으로 판단한다.\n"
      ]
    },
    {
      "cell_type": "code",
      "execution_count": null,
      "metadata": {
        "colab": {
          "base_uri": "https://localhost:8080/"
        },
        "id": "0GIOHs_ee5aD",
        "outputId": "a071e9da-c3b6-48a2-e205-477151b1b388"
      },
      "outputs": [
        {
          "name": "stdout",
          "output_type": "stream",
          "text": [
            ">> 택시를 타고 가자\n",
            ">> 모범택시는 비싸니 다음 택시를 기다리자\n",
            ">> 택시가 안 보인다면 카카오택시를 부르자\n"
          ]
        }
      ],
      "source": [
        "#돈이 있으면 택시, 없으면 걸어간다.\n",
        "money = True #돈이 있음\n",
        "if money: #파이썬에는 중괄호가 없으므로 :으로 구문을 내림\n",
        "  print(\">> 택시를 타고 가자\") #하위 처리를 위해 띄어쓰기 4번 또는 탭을 누른다. True 처리\n",
        "  print(\">> 모범택시는 비싸니 다음 택시를 기다리자\")\n",
        "  print(\">> 택시가 안 보인다면 카카오택시를 부르자\")\n",
        "else: #False 처리\n",
        "  print(\">> 나는 지금 돈이 없어\")\n",
        "  print(\">> 걸어가자\")"
      ]
    },
    {
      "cell_type": "code",
      "execution_count": null,
      "metadata": {
        "colab": {
          "base_uri": "https://localhost:8080/"
        },
        "id": "kbcO60VAuPrj",
        "outputId": "d2de00c5-8cd8-4577-ceed-2d43947d68ba"
      },
      "outputs": [
        {
          "name": "stdout",
          "output_type": "stream",
          "text": [
            ">> 택시를 타고 가자\n"
          ]
        }
      ],
      "source": [
        "money = 10000\n",
        "if money >= 4000: #if 뒤에 써지는 문장이 조건이 됨\n",
        "  print(\">> 택시를 타고 가자\") #True\n",
        "else:\n",
        "  print(\">> 걸어가자\") #False"
      ]
    },
    {
      "cell_type": "code",
      "execution_count": null,
      "metadata": {
        "colab": {
          "base_uri": "https://localhost:8080/"
        },
        "id": "c8h9aGvOwauD",
        "outputId": "3566a917-d37f-43c3-d6df-fdd21850723b"
      },
      "outputs": [
        {
          "name": "stdout",
          "output_type": "stream",
          "text": [
            ">> 택시를 타고 가자\n"
          ]
        }
      ],
      "source": [
        "\"\"\"\n",
        "x or y  -> 또는(둘 중 하나라도 참이면 참)\n",
        "x and y -> ~이고(둘 다 참이어야 참)\n",
        "not x -> x가 아니면 참(거짓;반전)\n",
        "\"\"\"\n",
        "#돈이 4000원 이상 있거나 카드가 있다면 택시를 타고, 아니면 걸어가라\n",
        "money = 5000\n",
        "card = False\n",
        "if(money >= 4000 or card):#돈이 4000원 이상이거나 카드가 있으면\n",
        "  print(\">> 택시를 타고 가자\")#True\n",
        "else:#돈이 4000원 미만이거나 카드가 없으면\n",
        "  print(\">> 걸어가자\")#False\n",
        "\"\"\"\n",
        "or 연산 진리표\n",
        "money or card     =     결과\n",
        "  0       0              0\n",
        "  1       0              1\n",
        "  0       1              1\n",
        "  1       1              1\n",
        "\"\"\""
      ]
    },
    {
      "cell_type": "code",
      "execution_count": null,
      "metadata": {
        "colab": {
          "base_uri": "https://localhost:8080/"
        },
        "id": "Kb5KRZilysXI",
        "outputId": "7efb619c-e347-466f-fbe4-3d3af1ba5b15"
      },
      "outputs": [
        {
          "name": "stdout",
          "output_type": "stream",
          "text": [
            "있어\n"
          ]
        }
      ],
      "source": [
        "\"\"\"\n",
        "in, not in 명령어\n",
        "x in 리스트, x not in 리스트\n",
        "x in 튜플, x not in 튜플\n",
        "x in 문자열, x not in 문자열\n",
        "\"\"\"\n",
        "if 1 not in [1,2,3]:\n",
        "    print(\"없어\")\n",
        "else:\n",
        "    print(\"있어\")"
      ]
    },
    {
      "cell_type": "code",
      "execution_count": null,
      "metadata": {
        "colab": {
          "base_uri": "https://localhost:8080/"
        },
        "id": "youRFuG4zul4",
        "outputId": "7f2195bc-8afa-4fe8-b18c-7fd9dfe51b38"
      },
      "outputs": [
        {
          "data": {
            "text/plain": [
              "True"
            ]
          },
          "execution_count": 16,
          "metadata": {},
          "output_type": "execute_result"
        }
      ],
      "source": [
        "'a' in ('a','b','c')"
      ]
    },
    {
      "cell_type": "code",
      "execution_count": null,
      "metadata": {
        "colab": {
          "base_uri": "https://localhost:8080/"
        },
        "id": "T4HSG56dz1NX",
        "outputId": "6fcad832-9988-4971-e292-2ff235caa9bd"
      },
      "outputs": [
        {
          "data": {
            "text/plain": [
              "True"
            ]
          },
          "execution_count": 17,
          "metadata": {},
          "output_type": "execute_result"
        }
      ],
      "source": [
        "'j' not in 'python'"
      ]
    },
    {
      "cell_type": "code",
      "execution_count": null,
      "metadata": {
        "id": "T0sQlBZo2qpu"
      },
      "outputs": [],
      "source": [
        "#주머니에 돈이 있으면 택시, 없으면 걸어가라\n",
        "pocket = ['paper','cellphone','money']\n",
        "if 'money' in pocket:\n",
        "  print(\">> 택시를 타고 가자\")\n",
        "else:\n",
        "  print(\">> 걸어가자\")"
      ]
    },
    {
      "cell_type": "code",
      "execution_count": null,
      "metadata": {
        "colab": {
          "base_uri": "https://localhost:8080/"
        },
        "id": "5i86JIKB57Nt",
        "outputId": "d1cf822b-63e7-49c2-f9c6-3001dc8a5639"
      },
      "outputs": [
        {
          "name": "stdout",
          "output_type": "stream",
          "text": [
            ">> 카드를 꺼내자\n"
          ]
        }
      ],
      "source": [
        "\"\"\"\n",
        "조건문에서 아무 일도 하지 않게 설정하고 싶을 때 pass\n",
        "조건문의 참, 거짓에 따라 실행할 행동을 정의할 때나 아무 일도 하지 않도록 설정하고 싶을 때\n",
        "-> 주머니에 돈이 있으면 가만히 있고, 주머니에 돈이 없으면 카드를 꺼내라\n",
        "\"\"\"\n",
        "pocket = ['paper','cellphone','card']\n",
        "if 'money' in pocket:\n",
        "    pass\n",
        "else:\n",
        "  print(\">> 카드를 꺼내자\")"
      ]
    },
    {
      "cell_type": "code",
      "execution_count": null,
      "metadata": {
        "colab": {
          "base_uri": "https://localhost:8080/"
        },
        "id": "nPh4r7Os7Z6s",
        "outputId": "957ff6c0-382d-436a-a3a3-4ad1331cccfb"
      },
      "outputs": [
        {
          "name": "stdout",
          "output_type": "stream",
          "text": [
            ">> 나는 돈도 카드도 없으니 그냥 걸어가자...\n"
          ]
        }
      ],
      "source": [
        "#elif는 if문 아래쪽에 한 번 더 비교하는 조건문(elif 횟수 제한 X)\n",
        "#주머니에 돈이 있으면 택시, 주머니에 돈은 없지만 카드가 있으면 택시, 돈도 카드도 없으면 걸어가라\n",
        "pocket = ['paper','cellphone']\n",
        "if 'money' in pocket:\n",
        "    print(\">> 수중에 돈이 있다!! 택시를 타고 가자!!\")\n",
        "elif 'card' in pocket:\n",
        "    print(\">> 돈은 없지만 카드가 있다!! 택시를 타고 가자!!\")\n",
        "else:\n",
        "    print(\">> 나는 돈도 카드도 없으니 그냥 걸어가자...\")"
      ]
    },
    {
      "cell_type": "code",
      "execution_count": null,
      "metadata": {
        "colab": {
          "base_uri": "https://localhost:8080/"
        },
        "id": "aiBjaJUT9aaL",
        "outputId": "edb39a94-bd96-4f34-bdc6-735c4139db91"
      },
      "outputs": [
        {
          "name": "stdout",
          "output_type": "stream",
          "text": [
            ">> 돈은 없지만 카드가 있다!! 택시를 타고 가자!!\n"
          ]
        }
      ],
      "source": [
        "#패션코딩 -> 최대한 간결하게 코딩\n",
        "pocket = ['paper','cellphone','card']\n",
        "if 'money' in pocket: print(\">> 수중에 돈이 있다!! 택시를 타고 가자!!\")\n",
        "elif 'card' in pocket: print(\">> 돈은 없지만 카드가 있다!! 택시를 타고 가자!!\")\n",
        "else: print(\">> 나는 돈도 카드도 없으니 그냥 걸어가자...\")"
      ]
    },
    {
      "cell_type": "code",
      "execution_count": null,
      "metadata": {
        "colab": {
          "base_uri": "https://localhost:8080/"
        },
        "id": "bGVdsGYj_Uda",
        "outputId": "397c6db9-c954-469b-acaf-8f6860abf7d8"
      },
      "outputs": [
        {
          "name": "stdout",
          "output_type": "stream",
          "text": [
            "success\n"
          ]
        }
      ],
      "source": [
        "#시험 점수가 60점 이상이면 success, 아니면 failure를 변수에 담아 출력\n",
        "score = 65\n",
        "if score >= 60:\n",
        "  result = \"success\"\n",
        "else:\n",
        "  result = \"failure\"\n",
        "print(result)"
      ]
    },
    {
      "cell_type": "code",
      "execution_count": null,
      "metadata": {
        "colab": {
          "base_uri": "https://localhost:8080/"
        },
        "id": "VI2T8y3rAr5S",
        "outputId": "b6a03b8a-f7cd-4ff8-9c83-6f021871b698"
      },
      "outputs": [
        {
          "name": "stdout",
          "output_type": "stream",
          "text": [
            "success\n"
          ]
        }
      ],
      "source": [
        "#파이썬의 조건부 표현식\n",
        "message = \"success\" if score >= 60 else \"failure\"#파이썬의 3항연산자\n",
        "print(message)"
      ]
    },
    {
      "cell_type": "code",
      "execution_count": 67,
      "metadata": {
        "colab": {
          "base_uri": "https://localhost:8080/",
          "height": 465
        },
        "id": "u9SRTVk0A7HJ",
        "outputId": "7be85e8d-7112-416e-b07a-9595348f4784"
      },
      "outputs": [
        {
          "output_type": "stream",
          "name": "stdout",
          "text": [
            ">> 이름을 입력하세요: 홍길동\n",
            ">> 국어 점수를 입력하세요: 89\n",
            ">> 영어 점수를 입력하세요: 100\n",
            ">> 수학 점수를 입력하세요: 99\n",
            "이름:홍길동, 총점:288, 평균:96.0, 학점:A등급\n"
          ]
        },
        {
          "output_type": "error",
          "ename": "KeyboardInterrupt",
          "evalue": "Interrupted by user",
          "traceback": [
            "\u001b[0;31m---------------------------------------------------------------------------\u001b[0m",
            "\u001b[0;31mKeyboardInterrupt\u001b[0m                         Traceback (most recent call last)",
            "\u001b[0;32m<ipython-input-67-929e35f3d8f2>\u001b[0m in \u001b[0;36m<cell line: 7>\u001b[0;34m()\u001b[0m\n\u001b[1;32m      6\u001b[0m \"\"\"\n\u001b[1;32m      7\u001b[0m \u001b[0;32mwhile\u001b[0m\u001b[0;34m(\u001b[0m\u001b[0;32mTrue\u001b[0m\u001b[0;34m)\u001b[0m\u001b[0;34m:\u001b[0m\u001b[0;34m\u001b[0m\u001b[0;34m\u001b[0m\u001b[0m\n\u001b[0;32m----> 8\u001b[0;31m     \u001b[0mname\u001b[0m \u001b[0;34m=\u001b[0m \u001b[0minput\u001b[0m\u001b[0;34m(\u001b[0m\u001b[0;34m\">> 이름을 입력하세요: \"\u001b[0m\u001b[0;34m)\u001b[0m\u001b[0;34m\u001b[0m\u001b[0;34m\u001b[0m\u001b[0m\n\u001b[0m\u001b[1;32m      9\u001b[0m     \u001b[0mkor\u001b[0m \u001b[0;34m=\u001b[0m \u001b[0minput\u001b[0m\u001b[0;34m(\u001b[0m\u001b[0;34m\">> 국어 점수를 입력하세요: \"\u001b[0m\u001b[0;34m)\u001b[0m\u001b[0;34m\u001b[0m\u001b[0;34m\u001b[0m\u001b[0m\n\u001b[1;32m     10\u001b[0m     \u001b[0meng\u001b[0m \u001b[0;34m=\u001b[0m \u001b[0minput\u001b[0m\u001b[0;34m(\u001b[0m\u001b[0;34m\">> 영어 점수를 입력하세요: \"\u001b[0m\u001b[0;34m)\u001b[0m\u001b[0;34m\u001b[0m\u001b[0;34m\u001b[0m\u001b[0m\n",
            "\u001b[0;32m/usr/local/lib/python3.10/dist-packages/ipykernel/kernelbase.py\u001b[0m in \u001b[0;36mraw_input\u001b[0;34m(self, prompt)\u001b[0m\n\u001b[1;32m    849\u001b[0m                 \u001b[0;34m\"raw_input was called, but this frontend does not support input requests.\"\u001b[0m\u001b[0;34m\u001b[0m\u001b[0;34m\u001b[0m\u001b[0m\n\u001b[1;32m    850\u001b[0m             )\n\u001b[0;32m--> 851\u001b[0;31m         return self._input_request(str(prompt),\n\u001b[0m\u001b[1;32m    852\u001b[0m             \u001b[0mself\u001b[0m\u001b[0;34m.\u001b[0m\u001b[0m_parent_ident\u001b[0m\u001b[0;34m,\u001b[0m\u001b[0;34m\u001b[0m\u001b[0;34m\u001b[0m\u001b[0m\n\u001b[1;32m    853\u001b[0m             \u001b[0mself\u001b[0m\u001b[0;34m.\u001b[0m\u001b[0m_parent_header\u001b[0m\u001b[0;34m,\u001b[0m\u001b[0;34m\u001b[0m\u001b[0;34m\u001b[0m\u001b[0m\n",
            "\u001b[0;32m/usr/local/lib/python3.10/dist-packages/ipykernel/kernelbase.py\u001b[0m in \u001b[0;36m_input_request\u001b[0;34m(self, prompt, ident, parent, password)\u001b[0m\n\u001b[1;32m    893\u001b[0m             \u001b[0;32mexcept\u001b[0m \u001b[0mKeyboardInterrupt\u001b[0m\u001b[0;34m:\u001b[0m\u001b[0;34m\u001b[0m\u001b[0;34m\u001b[0m\u001b[0m\n\u001b[1;32m    894\u001b[0m                 \u001b[0;31m# re-raise KeyboardInterrupt, to truncate traceback\u001b[0m\u001b[0;34m\u001b[0m\u001b[0;34m\u001b[0m\u001b[0m\n\u001b[0;32m--> 895\u001b[0;31m                 \u001b[0;32mraise\u001b[0m \u001b[0mKeyboardInterrupt\u001b[0m\u001b[0;34m(\u001b[0m\u001b[0;34m\"Interrupted by user\"\u001b[0m\u001b[0;34m)\u001b[0m \u001b[0;32mfrom\u001b[0m \u001b[0;32mNone\u001b[0m\u001b[0;34m\u001b[0m\u001b[0;34m\u001b[0m\u001b[0m\n\u001b[0m\u001b[1;32m    896\u001b[0m             \u001b[0;32mexcept\u001b[0m \u001b[0mException\u001b[0m \u001b[0;32mas\u001b[0m \u001b[0me\u001b[0m\u001b[0;34m:\u001b[0m\u001b[0;34m\u001b[0m\u001b[0;34m\u001b[0m\u001b[0m\n\u001b[1;32m    897\u001b[0m                 \u001b[0mself\u001b[0m\u001b[0;34m.\u001b[0m\u001b[0mlog\u001b[0m\u001b[0;34m.\u001b[0m\u001b[0mwarning\u001b[0m\u001b[0;34m(\u001b[0m\u001b[0;34m\"Invalid Message:\"\u001b[0m\u001b[0;34m,\u001b[0m \u001b[0mexc_info\u001b[0m\u001b[0;34m=\u001b[0m\u001b[0;32mTrue\u001b[0m\u001b[0;34m)\u001b[0m\u001b[0;34m\u001b[0m\u001b[0;34m\u001b[0m\u001b[0m\n",
            "\u001b[0;31mKeyboardInterrupt\u001b[0m: Interrupted by user"
          ]
        }
      ],
      "source": [
        "\"\"\"\n",
        "미션\n",
        "성적 처리용 코드 작성\n",
        "a등급~f등급까지 출력\n",
        "        .isdigit() - 숫자인지 아닌지 판단\n",
        "\"\"\"\n",
        "while(True):\n",
        "    name = input(\">> 이름을 입력하세요: \")\n",
        "    kor = input(\">> 국어 점수를 입력하세요: \")\n",
        "    eng = input(\">> 영어 점수를 입력하세요: \")\n",
        "    mat = input(\">> 수학 점수를 입력하세요: \")\n",
        "    if kor.isdigit() and eng.isdigit() and mat.isdigit():\n",
        "        kor = int(kor)\n",
        "        eng = int(eng)\n",
        "        mat = int(mat)\n",
        "        if kor >= 0 and 100 >= kor and eng >= 0 and 100 >= eng and mat >= 0 and 100 >= mat:\n",
        "            tot = kor + eng + mat\n",
        "            avg = float(tot / 3)\n",
        "            result = \"A등급\" if avg >= 90 else \"B등급\" if avg >= 80 else \"C등급\" if avg >= 70 else \"D등급\" if avg >= 60 else \"F등급\"#3항연산자\n",
        "            print(f\"이름:{name}, 총점:{tot}, 평균:{avg:.1f}, 학점:{result}\")\n",
        "        else:\n",
        "            print(\"숫자의 범위: 0 ~ 100\")\n",
        "    else:\n",
        "        print(\"숫자만 입력하세요!!\")"
      ]
    },
    {
      "cell_type": "code",
      "execution_count": null,
      "metadata": {
        "colab": {
          "base_uri": "https://localhost:8080/"
        },
        "id": "qvRbIClFEngB",
        "outputId": "c132d30c-b8f3-4676-a184-3d899475c124"
      },
      "outputs": [
        {
          "name": "stdout",
          "output_type": "stream",
          "text": [
            "이름:가기자, 평균:92.3, 학점:A등급\n",
            "이름:나기자, 평균:88.0, 학점:B등급\n",
            "이름:다기자, 평균:72.3, 학점:C등급\n",
            "이름:라기자, 평균:70.7, 학점:C등급\n",
            "이름:마기자, 평균:88.7, 학점:B등급\n"
          ]
        }
      ],
      "source": [
        "name = ['가기자','나기자','다기자','라기자','마기자']\n",
        "kor = [90,77,55,34,66]\n",
        "eng = [87,90,77,84,100]\n",
        "mat = [100,97,85,94,100]\n",
        "for i in range(len(name)):\n",
        "    tot = int(kor[i]) + int(eng[i]) + int(mat[i])\n",
        "    avg = tot / 3\n",
        "    result = \"A등급\" if avg >= 90 else \"B등급\" if avg >= 80 else \"C등급\" if avg >= 70 else \"D등급\" if avg >= 60 else \"F등급\"\n",
        "    print(f\"이름:{name[i]}, 평균:{avg:.1f}, 학점:{result}\")"
      ]
    }
  ],
  "metadata": {
    "colab": {
      "provenance": [],
      "authorship_tag": "ABX9TyPgE7phfR+QUcCO1nHdxvd4",
      "include_colab_link": true
    },
    "kernelspec": {
      "display_name": "Python 3",
      "name": "python3"
    },
    "language_info": {
      "name": "python"
    }
  },
  "nbformat": 4,
  "nbformat_minor": 0
}